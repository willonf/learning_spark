{
 "cells": [
  {
   "cell_type": "code",
   "execution_count": 34,
   "id": "initial_id",
   "metadata": {
    "collapsed": true,
    "ExecuteTime": {
     "end_time": "2023-11-17T18:53:23.977279Z",
     "start_time": "2023-11-17T18:53:23.812751700Z"
    }
   },
   "outputs": [],
   "source": [
    "from pyspark.sql import SparkSession"
   ]
  },
  {
   "cell_type": "code",
   "execution_count": 35,
   "outputs": [],
   "source": [
    "spark = SparkSession.builder.appName('alura_spark').getOrCreate()"
   ],
   "metadata": {
    "collapsed": false,
    "ExecuteTime": {
     "end_time": "2023-11-17T18:53:23.977279Z",
     "start_time": "2023-11-17T18:53:23.832752100Z"
    }
   },
   "id": "ad585d8a09286e88"
  },
  {
   "cell_type": "code",
   "execution_count": 36,
   "outputs": [],
   "source": [
    "# É possível passar caracteres curingas\n",
    "\n",
    "empresas_path = '/home/jovyan/datasets/empresas/'  # ou '/home/jovyan/datasets/empresas/ppart-0000?-5478.csv'\n",
    "empresas_df = spark.read.csv(path=empresas_path, sep=';', inferSchema=True)\n",
    "\n",
    "estabelecimentos_path = '/home/jovyan/datasets/estabelecimentos/'\n",
    "estabelecimentos_df = spark.read.csv(path=estabelecimentos_path, sep=';', inferSchema=True)\n",
    "\n",
    "socios_path = '/home/jovyan/datasets/socios/'  # ou '/home/jovyan/datasets/empresas/ppart-0000?-5478.csv'\n",
    "socios_df = spark.read.csv(path=socios_path, sep=';', inferSchema=True)"
   ],
   "metadata": {
    "collapsed": false,
    "ExecuteTime": {
     "end_time": "2023-11-17T18:53:29.274925600Z",
     "start_time": "2023-11-17T18:53:23.845743600Z"
    }
   },
   "id": "d33ef6522031e933"
  },
  {
   "cell_type": "code",
   "execution_count": 37,
   "outputs": [],
   "source": [
    "empresasColNames = ['cnpj_basico', 'razao_social_nome_empresarial', 'natureza_juridica', 'qualificacao_do_responsavel',\n",
    "                    'capital_social_da_empresa', 'porte_da_empresa', 'ente_federativo_responsavel']\n",
    "\n",
    "estabsColNames = ['cnpj_basico', 'cnpj_ordem', 'cnpj_dv', 'identificador_matriz_filial', 'nome_fantasia',\n",
    "                  'situacao_cadastral', 'data_situacao_cadastral', 'motivo_situacao_cadastral',\n",
    "                  'nome_da_cidade_no_exterior', 'pais', 'data_de_inicio_atividade', 'cnae_fiscal_principal',\n",
    "                  'cnae_fiscal_secundaria', 'tipo_de_logradouro', 'logradouro', 'numero', 'complemento', 'bairro',\n",
    "                  'cep', 'uf', 'municipio', 'ddd_1', 'telefone_1', 'ddd_2', 'telefone_2', 'ddd_do_fax', 'fax',\n",
    "                  'correio_eletronico', 'situacao_especial', 'data_da_situacao_especial']\n",
    "\n",
    "sociosColNames = ['cnpj_basico', 'identificador_de_socio', 'nome_do_socio_ou_razao_social', 'cnpj_ou_cpf_do_socio',\n",
    "                  'qualificacao_do_socio', 'data_de_entrada_sociedade', 'pais', 'representante_legal',\n",
    "                  'nome_do_representante', 'qualificacao_do_representante_legal', 'faixa_etaria']"
   ],
   "metadata": {
    "collapsed": false,
    "ExecuteTime": {
     "end_time": "2023-11-17T18:53:29.283965100Z",
     "start_time": "2023-11-17T18:53:29.277444Z"
    }
   },
   "id": "517c85b2ee66b6f9"
  },
  {
   "cell_type": "code",
   "execution_count": 38,
   "outputs": [
    {
     "name": "stdout",
     "output_type": "stream",
     "text": [
      "+----+--------------------+----+---+-------+---+----+\n",
      "| _c0|                 _c1| _c2|_c3|    _c4|_c5| _c6|\n",
      "+----+--------------------+----+---+-------+---+----+\n",
      "| 306|FRANCAMAR REFRIGE...|2240| 49|   0,00|  1|NULL|\n",
      "|1355|BRASILEIRO & OLIV...|2062| 49|   0,00|  5|NULL|\n",
      "|4820|REGISTRO DE IMOVE...|3034| 32|   0,00|  5|NULL|\n",
      "|5347|ROSELY APARECIDA ...|2135| 50|   0,00|  5|NULL|\n",
      "|6846|BADU E FILHOS TEC...|2062| 49|4000,00|  1|NULL|\n",
      "+----+--------------------+----+---+-------+---+----+\n"
     ]
    }
   ],
   "source": [
    "empresas_df.show(5)"
   ],
   "metadata": {
    "collapsed": false,
    "ExecuteTime": {
     "end_time": "2023-11-17T18:53:29.360364400Z",
     "start_time": "2023-11-17T18:53:29.280967400Z"
    }
   },
   "id": "6a97944b61a4fab2"
  },
  {
   "cell_type": "code",
   "execution_count": 39,
   "outputs": [
    {
     "name": "stdout",
     "output_type": "stream",
     "text": [
      "+----+---+---+---+--------------------+---+--------+---+----+----+--------+-------+--------------------+-------+--------------------+----+------+-------------------+--------+----+----+----+--------+----+----+----+----+--------------------+----+----+\n",
      "| _c0|_c1|_c2|_c3|                 _c4|_c5|     _c6|_c7| _c8| _c9|    _c10|   _c11|                _c12|   _c13|                _c14|_c15|  _c16|               _c17|    _c18|_c19|_c20|_c21|    _c22|_c23|_c24|_c25|_c26|                _c27|_c28|_c29|\n",
      "+----+---+---+---+--------------------+---+--------+---+----+----+--------+-------+--------------------+-------+--------------------+----+------+-------------------+--------+----+----+----+--------+----+----+----+----+--------------------+----+----+\n",
      "| 537|  1| 51|  1|  PAPAI NOEL IMOVEIS|  2|20041224|  0|NULL|NULL|19941107|6821802|6821801,6822600,8...|AVENIDA|DOUTOR CARDOSO DE...| 247|  NULL|       VILA OLIMPIA| 4548001|  SP|7107|  11|38499387|NULL|NULL|NULL|NULL|ADM@VERTIZAIMOVEI...|NULL|NULL|\n",
      "| 537|  2| 32|  2|                NULL|  8|20000929|  1|NULL|NULL|19990629|6821802|     6822600,8111700|AVENIDA| DR. CARDOSO DE MELO|  46|  NULL|       VILA OLIMPIA| 4548000|  SP|7107|NULL|    NULL|NULL|NULL|NULL|NULL|                NULL|NULL|NULL|\n",
      "|6454|  1| 70|  1|AGNES COMERCIO DE...|  4|20181004| 63|NULL|NULL|19940518|4774100|                NULL|    RUA|CEL.RUBENS REIS R...|  47|SALA 3|        JD ARPOADOR| 5565180|  SP|7107|NULL|    NULL|NULL|NULL|NULL|NULL|                NULL|NULL|NULL|\n",
      "|7632|  1| 87|  1|                NULL|  2|20051103|  0|NULL|NULL|19940520|4785799|                NULL|AVENIDA|             MORUMBI| 342|  NULL|       VILA MORUMBI|13572000|  SP|7079|NULL|    NULL|NULL|NULL|NULL|NULL|                NULL|NULL|NULL|\n",
      "|7638|  1| 54|  1|                NULL|  2|20051103|  0|NULL|NULL|19940520|1610203|                NULL|    RUA|                TRES| S/N|  NULL|DISTRITO INDUSTRIAL|17120001|  SP|6113|NULL|    NULL|NULL|NULL|NULL|NULL|                NULL|NULL|NULL|\n",
      "+----+---+---+---+--------------------+---+--------+---+----+----+--------+-------+--------------------+-------+--------------------+----+------+-------------------+--------+----+----+----+--------+----+----+----+----+--------------------+----+----+\n"
     ]
    }
   ],
   "source": [
    "estabelecimentos_df.show(5)"
   ],
   "metadata": {
    "collapsed": false,
    "ExecuteTime": {
     "end_time": "2023-11-17T18:53:29.489972400Z",
     "start_time": "2023-11-17T18:53:29.354451500Z"
    }
   },
   "id": "559af4501ab66d6d"
  },
  {
   "cell_type": "code",
   "execution_count": 40,
   "outputs": [
    {
     "name": "stdout",
     "output_type": "stream",
     "text": [
      "+-----+---+--------------------+--------------+---+--------+----+-----------+--------------------+---+----+\n",
      "|  _c0|_c1|                 _c2|           _c3|_c4|     _c5| _c6|        _c7|                 _c8|_c9|_c10|\n",
      "+-----+---+--------------------+--------------+---+--------+----+-----------+--------------------+---+----+\n",
      "|  403|  2|ARCHIBALDE POUZA ...|   ***550688**| 49|19941019|NULL|***000000**|                NULL|  0|   8|\n",
      "|  403|  2|MARIA LUCIA DE AR...|   ***358948**| 22|19941019|NULL|***550688**|ARCHIBALDE POUZA ...|  5|   7|\n",
      "|52803|  2|   PAULA PAVAN MAMED|   ***454918**| 22|19980831|NULL|***000000**|                NULL|  0|   6|\n",
      "|52803|  2| NASSIM MAMED JUNIOR|   ***040608**| 49|19980831|NULL|***000000**|                NULL|  0|   6|\n",
      "|52803|  2|CARLA PAVAN MAMED...|   ***454898**| 22|20130812|NULL|***000000**|                NULL|  0|   6|\n",
      "|52803|  1|ACTUALPAR ADMINIS...|27556902000165| 22|20170809|NULL|***040608**| NASSIM MAMED JUNIOR|  5|   0|\n",
      "|57154|  2|ELIANE IZABEL MAR...|   ***741156**| 49|19940429|NULL|***000000**|                NULL|  0|   7|\n",
      "|57154|  2|JOSE GERALDO DOS ...|   ***400306**| 22|19950921|NULL|***000000**|                NULL|  0|   7|\n",
      "|57764|  2|           JOAO VICK|   ***383999**| 49|19940428|NULL|***000000**|                NULL|  0|   8|\n",
      "|57764|  2| MARIA MADALENA VICK|   ***939619**| 22|19940428|NULL|***000000**|                NULL|  0|   7|\n",
      "|64377|  2| HELIO NIESPODZINSKI|   ***761219**| 49|19940425|NULL|***000000**|                NULL|  0|   6|\n",
      "|64377|  2|JOSE MARIO NIESPO...|   ***258779**| 22|19940425|NULL|***000000**|                NULL|  0|   6|\n",
      "|67869|  2|ENEIAS PAIVA DE O...|   ***183631**| 49|20030213|NULL|***000000**|                NULL|  0|   6|\n",
      "|67869|  2|RAFAEL RIBEIRO DO...|   ***337979**| 49|20080208|NULL|***000000**|                NULL|  0|   6|\n",
      "|77294|  2|SIRLEI RUIVO DA S...|   ***725988**| 16|20050912|NULL|***000000**|                NULL|  0|   6|\n",
      "|79869|  2|  NELSON SCHONBERGER|   ***845520**| 49|19940531|NULL|***000000**|                NULL|  0|   7|\n",
      "|79869|  2|BETANIA SCHONBERG...|   ***283700**| 49|19940531|NULL|***000000**|                NULL|  0|   5|\n",
      "|79869|  2|VERA LUCIA SCHONB...|   ***438020**| 49|19980316|NULL|***000000**|                NULL|  0|   7|\n",
      "|92058|  2|VITORIA COLORINDA...|   ***922280**| 49|19981019|NULL|***000000**|                NULL|  0|   6|\n",
      "|92058|  2|   DELVINO SGANZERLA|   ***073750**| 22|19981019|NULL|***000000**|                NULL|  0|   7|\n",
      "+-----+---+--------------------+--------------+---+--------+----+-----------+--------------------+---+----+\n"
     ]
    }
   ],
   "source": [
    "socios_df.show()"
   ],
   "metadata": {
    "collapsed": false,
    "ExecuteTime": {
     "end_time": "2023-11-17T18:53:29.619796500Z",
     "start_time": "2023-11-17T18:53:29.442938400Z"
    }
   },
   "id": "c84454cdc7f722b4"
  },
  {
   "cell_type": "code",
   "execution_count": 41,
   "outputs": [
    {
     "name": "stdout",
     "output_type": "stream",
     "text": [
      "+----+--------------------+----+---+-------+---+----+\n",
      "| _c0|                 _c1| _c2|_c3|    _c4|_c5| _c6|\n",
      "+----+--------------------+----+---+-------+---+----+\n",
      "| 306|FRANCAMAR REFRIGE...|2240| 49|   0,00|  1|NULL|\n",
      "|1355|BRASILEIRO & OLIV...|2062| 49|   0,00|  5|NULL|\n",
      "|4820|REGISTRO DE IMOVE...|3034| 32|   0,00|  5|NULL|\n",
      "|5347|ROSELY APARECIDA ...|2135| 50|   0,00|  5|NULL|\n",
      "|6846|BADU E FILHOS TEC...|2062| 49|4000,00|  1|NULL|\n",
      "+----+--------------------+----+---+-------+---+----+\n"
     ]
    }
   ],
   "source": [
    "empresas_df.limit(5).show()"
   ],
   "metadata": {
    "collapsed": false,
    "ExecuteTime": {
     "end_time": "2023-11-17T18:53:29.689427700Z",
     "start_time": "2023-11-17T18:53:29.544852300Z"
    }
   },
   "id": "92a070baef17bd5c"
  },
  {
   "cell_type": "code",
   "execution_count": 42,
   "outputs": [
    {
     "data": {
      "text/plain": "['cnpj_basico',\n 'razao_social_nome_empresarial',\n 'natureza_juridica',\n 'qualificacao_do_responsavel',\n 'capital_social_da_empresa',\n 'porte_da_empresa',\n 'ente_federativo_responsavel']"
     },
     "execution_count": 42,
     "metadata": {},
     "output_type": "execute_result"
    }
   ],
   "source": [
    "for index, column_name in enumerate(empresasColNames):\n",
    "    empresas_df = empresas_df.withColumnRenamed(existing=f'_c{index}', new=column_name)\n",
    "\n",
    "empresas_df.columns"
   ],
   "metadata": {
    "collapsed": false,
    "ExecuteTime": {
     "end_time": "2023-11-17T18:53:29.741687300Z",
     "start_time": "2023-11-17T18:53:29.625801200Z"
    }
   },
   "id": "30e51c04ba2cacb4"
  },
  {
   "cell_type": "code",
   "execution_count": 43,
   "outputs": [
    {
     "name": "stdout",
     "output_type": "stream",
     "text": [
      "+-----------+-----------------------------+-----------------+---------------------------+-------------------------+----------------+---------------------------+\n",
      "|cnpj_basico|razao_social_nome_empresarial|natureza_juridica|qualificacao_do_responsavel|capital_social_da_empresa|porte_da_empresa|ente_federativo_responsavel|\n",
      "+-----------+-----------------------------+-----------------+---------------------------+-------------------------+----------------+---------------------------+\n",
      "|        306|         FRANCAMAR REFRIGE...|             2240|                         49|                     0,00|               1|                       NULL|\n",
      "|       1355|         BRASILEIRO & OLIV...|             2062|                         49|                     0,00|               5|                       NULL|\n",
      "|       4820|         REGISTRO DE IMOVE...|             3034|                         32|                     0,00|               5|                       NULL|\n",
      "|       5347|         ROSELY APARECIDA ...|             2135|                         50|                     0,00|               5|                       NULL|\n",
      "|       6846|         BADU E FILHOS TEC...|             2062|                         49|                  4000,00|               1|                       NULL|\n",
      "+-----------+-----------------------------+-----------------+---------------------------+-------------------------+----------------+---------------------------+\n"
     ]
    }
   ],
   "source": [
    "empresas_df.show(5)"
   ],
   "metadata": {
    "collapsed": false,
    "ExecuteTime": {
     "end_time": "2023-11-17T18:53:29.944200Z",
     "start_time": "2023-11-17T18:53:29.680434600Z"
    }
   },
   "id": "38338e9ca5bb223"
  },
  {
   "cell_type": "code",
   "execution_count": 44,
   "outputs": [
    {
     "data": {
      "text/plain": "['cnpj_basico',\n 'identificador_de_socio',\n 'nome_do_socio_ou_razao_social',\n 'cnpj_ou_cpf_do_socio',\n 'qualificacao_do_socio',\n 'data_de_entrada_sociedade',\n 'pais',\n 'representante_legal',\n 'nome_do_representante',\n 'qualificacao_do_representante_legal',\n 'faixa_etaria']"
     },
     "execution_count": 44,
     "metadata": {},
     "output_type": "execute_result"
    }
   ],
   "source": [
    "for index, column_name in enumerate(sociosColNames):\n",
    "    socios_df = socios_df.withColumnRenamed(existing=f'_c{index}', new=column_name)\n",
    "\n",
    "socios_df.columns"
   ],
   "metadata": {
    "collapsed": false,
    "ExecuteTime": {
     "end_time": "2023-11-17T18:53:30.000637800Z",
     "start_time": "2023-11-17T18:53:29.774205400Z"
    }
   },
   "id": "b236504ca3e63c31"
  },
  {
   "cell_type": "code",
   "execution_count": 45,
   "outputs": [
    {
     "data": {
      "text/plain": "['cnpj_basico',\n 'cnpj_ordem',\n 'cnpj_dv',\n 'identificador_matriz_filial',\n 'nome_fantasia',\n 'situacao_cadastral',\n 'data_situacao_cadastral',\n 'motivo_situacao_cadastral',\n 'nome_da_cidade_no_exterior',\n 'pais',\n 'data_de_inicio_atividade',\n 'cnae_fiscal_principal',\n 'cnae_fiscal_secundaria',\n 'tipo_de_logradouro',\n 'logradouro',\n 'numero',\n 'complemento',\n 'bairro',\n 'cep',\n 'uf',\n 'municipio',\n 'ddd_1',\n 'telefone_1',\n 'ddd_2',\n 'telefone_2',\n 'ddd_do_fax',\n 'fax',\n 'correio_eletronico',\n 'situacao_especial',\n 'data_da_situacao_especial']"
     },
     "execution_count": 45,
     "metadata": {},
     "output_type": "execute_result"
    }
   ],
   "source": [
    "for index, column_name in enumerate(estabsColNames):\n",
    "    estabelecimentos_df = estabelecimentos_df.withColumnRenamed(existing=f'_c{index}', new=column_name)\n",
    "\n",
    "estabelecimentos_df.columns"
   ],
   "metadata": {
    "collapsed": false,
    "ExecuteTime": {
     "end_time": "2023-11-17T18:53:30.115027600Z",
     "start_time": "2023-11-17T18:53:29.826836300Z"
    }
   },
   "id": "7490c17d8a647902"
  },
  {
   "cell_type": "code",
   "execution_count": 46,
   "outputs": [
    {
     "name": "stdout",
     "output_type": "stream",
     "text": [
      "root\n",
      " |-- cnpj_basico: integer (nullable = true)\n",
      " |-- razao_social_nome_empresarial: string (nullable = true)\n",
      " |-- natureza_juridica: integer (nullable = true)\n",
      " |-- qualificacao_do_responsavel: integer (nullable = true)\n",
      " |-- capital_social_da_empresa: string (nullable = true)\n",
      " |-- porte_da_empresa: integer (nullable = true)\n",
      " |-- ente_federativo_responsavel: string (nullable = true)\n"
     ]
    }
   ],
   "source": [
    "empresas_df.printSchema()"
   ],
   "metadata": {
    "collapsed": false,
    "ExecuteTime": {
     "end_time": "2023-11-17T18:53:30.116050400Z",
     "start_time": "2023-11-17T18:53:30.028149Z"
    }
   },
   "id": "480bff08975859a7"
  },
  {
   "cell_type": "code",
   "execution_count": 47,
   "outputs": [],
   "source": [
    "from pyspark.sql.types import DoubleType, StringType\n",
    "from pyspark.sql import functions as f"
   ],
   "metadata": {
    "collapsed": false,
    "ExecuteTime": {
     "end_time": "2023-11-17T18:53:30.116050400Z",
     "start_time": "2023-11-17T18:53:30.032146400Z"
    }
   },
   "id": "72ca3e056dc8da9"
  },
  {
   "cell_type": "code",
   "execution_count": 48,
   "outputs": [
    {
     "name": "stdout",
     "output_type": "stream",
     "text": [
      "root\n",
      " |-- cnpj_basico: integer (nullable = true)\n",
      " |-- razao_social_nome_empresarial: string (nullable = true)\n",
      " |-- natureza_juridica: integer (nullable = true)\n",
      " |-- qualificacao_do_responsavel: integer (nullable = true)\n",
      " |-- capital_social_da_empresa: string (nullable = true)\n",
      " |-- porte_da_empresa: integer (nullable = true)\n",
      " |-- ente_federativo_responsavel: string (nullable = true)\n"
     ]
    }
   ],
   "source": [
    "empresas_df.printSchema()"
   ],
   "metadata": {
    "collapsed": false,
    "ExecuteTime": {
     "end_time": "2023-11-17T18:53:30.144605Z",
     "start_time": "2023-11-17T18:53:30.041146Z"
    }
   },
   "id": "b539e2f6149e268e"
  },
  {
   "cell_type": "code",
   "execution_count": 49,
   "outputs": [],
   "source": [
    "empresas_df = empresas_df.withColumn('capital_social_da_empresa',\n",
    "                                     f.regexp_replace(string='capital_social_da_empresa', pattern=',', replacement='.'))"
   ],
   "metadata": {
    "collapsed": false,
    "ExecuteTime": {
     "end_time": "2023-11-17T18:53:30.145613700Z",
     "start_time": "2023-11-17T18:53:30.044658Z"
    }
   },
   "id": "bac51b05eff5b3ba"
  },
  {
   "cell_type": "code",
   "execution_count": 50,
   "outputs": [
    {
     "name": "stdout",
     "output_type": "stream",
     "text": [
      "+-----------+-----------------------------+-----------------+---------------------------+-------------------------+----------------+---------------------------+\n",
      "|cnpj_basico|razao_social_nome_empresarial|natureza_juridica|qualificacao_do_responsavel|capital_social_da_empresa|porte_da_empresa|ente_federativo_responsavel|\n",
      "+-----------+-----------------------------+-----------------+---------------------------+-------------------------+----------------+---------------------------+\n",
      "|        306|         FRANCAMAR REFRIGE...|             2240|                         49|                     0.00|               1|                       NULL|\n",
      "|       1355|         BRASILEIRO & OLIV...|             2062|                         49|                     0.00|               5|                       NULL|\n",
      "|       4820|         REGISTRO DE IMOVE...|             3034|                         32|                     0.00|               5|                       NULL|\n",
      "|       5347|         ROSELY APARECIDA ...|             2135|                         50|                     0.00|               5|                       NULL|\n",
      "|       6846|         BADU E FILHOS TEC...|             2062|                         49|                  4000.00|               1|                       NULL|\n",
      "+-----------+-----------------------------+-----------------+---------------------------+-------------------------+----------------+---------------------------+\n"
     ]
    }
   ],
   "source": [
    "empresas_df.show(5)"
   ],
   "metadata": {
    "collapsed": false,
    "ExecuteTime": {
     "end_time": "2023-11-17T18:53:30.172519500Z",
     "start_time": "2023-11-17T18:53:30.061175800Z"
    }
   },
   "id": "247a09f7235f0522"
  },
  {
   "cell_type": "code",
   "execution_count": 51,
   "outputs": [],
   "source": [
    "empresas_df = empresas_df.withColumn(colName='capital_social_da_empresa',\n",
    "                                     col=empresas_df['capital_social_da_empresa'].cast(DoubleType()))"
   ],
   "metadata": {
    "collapsed": false,
    "ExecuteTime": {
     "end_time": "2023-11-17T18:53:30.248798100Z",
     "start_time": "2023-11-17T18:53:30.126566700Z"
    }
   },
   "id": "35d662e537e72d7"
  },
  {
   "cell_type": "code",
   "execution_count": 52,
   "outputs": [
    {
     "name": "stdout",
     "output_type": "stream",
     "text": [
      "root\n",
      " |-- cnpj_basico: integer (nullable = true)\n",
      " |-- razao_social_nome_empresarial: string (nullable = true)\n",
      " |-- natureza_juridica: integer (nullable = true)\n",
      " |-- qualificacao_do_responsavel: integer (nullable = true)\n",
      " |-- capital_social_da_empresa: double (nullable = true)\n",
      " |-- porte_da_empresa: integer (nullable = true)\n",
      " |-- ente_federativo_responsavel: string (nullable = true)\n"
     ]
    }
   ],
   "source": [
    "empresas_df.printSchema()"
   ],
   "metadata": {
    "collapsed": false,
    "ExecuteTime": {
     "end_time": "2023-11-17T18:53:30.266652900Z",
     "start_time": "2023-11-17T18:53:30.143088500Z"
    }
   },
   "id": "1b937a469d60ea76"
  },
  {
   "cell_type": "code",
   "execution_count": 53,
   "outputs": [
    {
     "name": "stdout",
     "output_type": "stream",
     "text": [
      "root\n",
      " |-- cnpj_basico: integer (nullable = true)\n",
      " |-- cnpj_ordem: integer (nullable = true)\n",
      " |-- cnpj_dv: integer (nullable = true)\n",
      " |-- identificador_matriz_filial: integer (nullable = true)\n",
      " |-- nome_fantasia: string (nullable = true)\n",
      " |-- situacao_cadastral: integer (nullable = true)\n",
      " |-- data_situacao_cadastral: integer (nullable = true)\n",
      " |-- motivo_situacao_cadastral: integer (nullable = true)\n",
      " |-- nome_da_cidade_no_exterior: string (nullable = true)\n",
      " |-- pais: integer (nullable = true)\n",
      " |-- data_de_inicio_atividade: integer (nullable = true)\n",
      " |-- cnae_fiscal_principal: integer (nullable = true)\n",
      " |-- cnae_fiscal_secundaria: string (nullable = true)\n",
      " |-- tipo_de_logradouro: string (nullable = true)\n",
      " |-- logradouro: string (nullable = true)\n",
      " |-- numero: string (nullable = true)\n",
      " |-- complemento: string (nullable = true)\n",
      " |-- bairro: string (nullable = true)\n",
      " |-- cep: integer (nullable = true)\n",
      " |-- uf: string (nullable = true)\n",
      " |-- municipio: integer (nullable = true)\n",
      " |-- ddd_1: string (nullable = true)\n",
      " |-- telefone_1: string (nullable = true)\n",
      " |-- ddd_2: string (nullable = true)\n",
      " |-- telefone_2: string (nullable = true)\n",
      " |-- ddd_do_fax: integer (nullable = true)\n",
      " |-- fax: string (nullable = true)\n",
      " |-- correio_eletronico: string (nullable = true)\n",
      " |-- situacao_especial: string (nullable = true)\n",
      " |-- data_da_situacao_especial: integer (nullable = true)\n"
     ]
    }
   ],
   "source": [
    "estabelecimentos_df.printSchema()"
   ],
   "metadata": {
    "collapsed": false,
    "ExecuteTime": {
     "end_time": "2023-11-17T18:53:30.267522Z",
     "start_time": "2023-11-17T18:53:30.150612500Z"
    }
   },
   "id": "c88de40f800c82ae"
  },
  {
   "cell_type": "code",
   "execution_count": 54,
   "outputs": [
    {
     "name": "stdout",
     "output_type": "stream",
     "text": [
      "root\n",
      " |-- cnpj_basico: integer (nullable = true)\n",
      " |-- cnpj_ordem: integer (nullable = true)\n",
      " |-- cnpj_dv: integer (nullable = true)\n",
      " |-- identificador_matriz_filial: integer (nullable = true)\n",
      " |-- nome_fantasia: string (nullable = true)\n",
      " |-- situacao_cadastral: integer (nullable = true)\n",
      " |-- data_situacao_cadastral: date (nullable = true)\n",
      " |-- motivo_situacao_cadastral: integer (nullable = true)\n",
      " |-- nome_da_cidade_no_exterior: string (nullable = true)\n",
      " |-- pais: integer (nullable = true)\n",
      " |-- data_de_inicio_atividade: date (nullable = true)\n",
      " |-- cnae_fiscal_principal: integer (nullable = true)\n",
      " |-- cnae_fiscal_secundaria: string (nullable = true)\n",
      " |-- tipo_de_logradouro: string (nullable = true)\n",
      " |-- logradouro: string (nullable = true)\n",
      " |-- numero: string (nullable = true)\n",
      " |-- complemento: string (nullable = true)\n",
      " |-- bairro: string (nullable = true)\n",
      " |-- cep: integer (nullable = true)\n",
      " |-- uf: string (nullable = true)\n",
      " |-- municipio: integer (nullable = true)\n",
      " |-- ddd_1: string (nullable = true)\n",
      " |-- telefone_1: string (nullable = true)\n",
      " |-- ddd_2: string (nullable = true)\n",
      " |-- telefone_2: string (nullable = true)\n",
      " |-- ddd_do_fax: integer (nullable = true)\n",
      " |-- fax: string (nullable = true)\n",
      " |-- correio_eletronico: string (nullable = true)\n",
      " |-- situacao_especial: string (nullable = true)\n",
      " |-- data_da_situacao_especial: date (nullable = true)\n"
     ]
    }
   ],
   "source": [
    "estabelecimentos_df = (((estabelecimentos_df\n",
    "                         .withColumn(colName='data_situacao_cadastral',\n",
    "                                     col=f.to_date(estabelecimentos_df.data_situacao_cadastral.cast(StringType()),\n",
    "                                                   'yyyyMMdd')))\n",
    "                        .withColumn(colName='data_da_situacao_especial',\n",
    "                                    col=f.to_date(estabelecimentos_df.data_da_situacao_especial.cast(StringType()),\n",
    "                                                  'yyyyMMdd')))\n",
    "                       .withColumn(colName='data_de_inicio_atividade',\n",
    "                                   col=f.to_date(estabelecimentos_df.data_de_inicio_atividade.cast(StringType()),\n",
    "                                                 'yyyyMMdd')))\n",
    "estabelecimentos_df.printSchema()"
   ],
   "metadata": {
    "collapsed": false,
    "ExecuteTime": {
     "end_time": "2023-11-17T18:53:30.302768400Z",
     "start_time": "2023-11-17T18:53:30.158610900Z"
    }
   },
   "id": "854b2d02345e751a"
  },
  {
   "cell_type": "code",
   "execution_count": 56,
   "outputs": [
    {
     "name": "stdout",
     "output_type": "stream",
     "text": [
      "+-----------+----------+-------+---------------------------+--------------------+------------------+-----------------------+-------------------------+--------------------------+----+------------------------+---------------------+----------------------+------------------+--------------------+------+--------------------+--------------------+--------+---+---------+-----+----------+-----+----------+----------+--------+--------------------+-----------------+-------------------------+\n",
      "|cnpj_basico|cnpj_ordem|cnpj_dv|identificador_matriz_filial|       nome_fantasia|situacao_cadastral|data_situacao_cadastral|motivo_situacao_cadastral|nome_da_cidade_no_exterior|pais|data_de_inicio_atividade|cnae_fiscal_principal|cnae_fiscal_secundaria|tipo_de_logradouro|          logradouro|numero|         complemento|              bairro|     cep| uf|municipio|ddd_1|telefone_1|ddd_2|telefone_2|ddd_do_fax|     fax|  correio_eletronico|situacao_especial|data_da_situacao_especial|\n",
      "+-----------+----------+-------+---------------------------+--------------------+------------------+-----------------------+-------------------------+--------------------------+----+------------------------+---------------------+----------------------+------------------+--------------------+------+--------------------+--------------------+--------+---+---------+-----+----------+-----+----------+----------+--------+--------------------+-----------------+-------------------------+\n",
      "|        537|         1|     51|                          1|  PAPAI NOEL IMOVEIS|                 2|             2004-12-24|                        0|                      NULL|NULL|              1994-11-07|              6821802|  6821801,6822600,8...|           AVENIDA|DOUTOR CARDOSO DE...|   247|                NULL|        VILA OLIMPIA| 4548001| SP|     7107|   11|  38499387| NULL|      NULL|      NULL|    NULL|ADM@VERTIZAIMOVEI...|             NULL|                     NULL|\n",
      "|        537|         2|     32|                          2|                NULL|                 8|             2000-09-29|                        1|                      NULL|NULL|              1999-06-29|              6821802|       6822600,8111700|           AVENIDA| DR. CARDOSO DE MELO|    46|                NULL|        VILA OLIMPIA| 4548000| SP|     7107| NULL|      NULL| NULL|      NULL|      NULL|    NULL|                NULL|             NULL|                     NULL|\n",
      "|       6454|         1|     70|                          1|AGNES COMERCIO DE...|                 4|             2018-10-04|                       63|                      NULL|NULL|              1994-05-18|              4774100|                  NULL|               RUA|CEL.RUBENS REIS R...|    47|              SALA 3|         JD ARPOADOR| 5565180| SP|     7107| NULL|      NULL| NULL|      NULL|      NULL|    NULL|                NULL|             NULL|                     NULL|\n",
      "|       7632|         1|     87|                          1|                NULL|                 2|             2005-11-03|                        0|                      NULL|NULL|              1994-05-20|              4785799|                  NULL|           AVENIDA|             MORUMBI|   342|                NULL|        VILA MORUMBI|13572000| SP|     7079| NULL|      NULL| NULL|      NULL|      NULL|    NULL|                NULL|             NULL|                     NULL|\n",
      "|       7638|         1|     54|                          1|                NULL|                 2|             2005-11-03|                        0|                      NULL|NULL|              1994-05-20|              1610203|                  NULL|               RUA|                TRES|   S/N|                NULL| DISTRITO INDUSTRIAL|17120001| SP|     6113| NULL|      NULL| NULL|      NULL|      NULL|    NULL|                NULL|             NULL|                     NULL|\n",
      "|       7685|         1|      6|                          1|       SHOPPING VALL|                 8|             2008-12-31|                       71|                      NULL|NULL|              1994-05-20|              4744001|                  NULL|               RUA| MANOEL PEREIRA LOBO|   514|                NULL|       QUARTA PARADA| 3179010| SP|     7107| NULL|      NULL| NULL|      NULL|      NULL|    NULL|                NULL|             NULL|                     NULL|\n",
      "|       8641|         1|     92|                          1|                NULL|                 8|             1995-10-31|                        1|                      NULL|NULL|              1994-05-24|              4755501|                  NULL|               RUA|     DOMINGOS ROBERT|   572|              FUNDOS|              CENTRO|14940000| SP|     6493| NULL|      NULL| NULL|      NULL|      NULL|    NULL|                NULL|             NULL|                     NULL|\n",
      "|      12441|         1|      3|                          1|                NULL|                 8|             2008-12-31|                       71|                      NULL|NULL|              1994-05-31|              4774100|                  NULL|               RUA|       ABEL FERREIRA|    07|                NULL|          VL FORMOZA| 3340000| SP|     7107| NULL|      NULL| NULL|      NULL|      NULL|    NULL|                NULL|             NULL|                     NULL|\n",
      "|      16025|         1|     83|                          1|                NULL|                 8|             2008-12-31|                       71|                      NULL|NULL|              1994-10-19|              4721102|                  NULL|               RUA|               PIAUI|  1032|                NULL|        VL CRISTOVAO|13480021| SP|     6639| NULL|      NULL| NULL|      NULL|      NULL|    NULL|                NULL|             NULL|                     NULL|\n",
      "|      21767|         1|      5|                          1|                NULL|                 8|             2016-09-30|                        1|                      NULL|NULL|              1994-06-22|              8299799|  6399200,7410299,7...|           AVENIDA|       ANTONIO MASSA|   355|     1 ANDAR SALA 05|              CENTRO| 8550350| SP|     6897| NULL|      NULL| NULL|      NULL|      NULL|    NULL|                NULL|             NULL|                     NULL|\n",
      "|      23298|         1|     55|                          1|DEPOSITO ALTERNATIVA|                 8|             2008-04-25|                       54|                      NULL|NULL|              1994-06-30|              4744001|                  NULL|           ESTRADA|         SONIA MARIA|    77|                NULL|         JD ORATORIO| 9380440| SP|     6689| NULL|      NULL| NULL|      NULL|      NULL|    NULL|                NULL|             NULL|                     NULL|\n",
      "|      27110|         1|     47|                          1|     MERCEARIA SOUZA|                 4|             2018-09-04|                       63|                      NULL|NULL|              1982-01-22|              4712100|                  NULL|               RUA|   MARQUES DE OLINDA|   S/N|          QD 8 LT 17|         PARQUE REAL|74943530| GO|     9227| NULL|      NULL| NULL|      NULL|      NULL|    NULL|                NULL|             NULL|                     NULL|\n",
      "|      29590|         1|     85|                          1|TRANSPORTADORA J....|                 8|             2016-08-23|                        1|                      NULL|NULL|              1994-08-10|              4930201|                  NULL|               RUA|       QUINCAS BORBA|    09|                NULL|    JDIM SAO SAVERIO| 4194280| SP|     7107| NULL|      NULL| NULL|      NULL|      NULL|    NULL|                NULL|             NULL|                     NULL|\n",
      "|      55841|         1|      4|                          1| LAMINADOS ANTONINHO|                 8|             1995-06-30|                        9|                      NULL|NULL|              1994-04-28|              1610203|                  NULL|           AVENIDA|               MAIKA|   S/N|              KM 2,5|     AREA INDUSTRIAL|78535000| MT|     9899| NULL|      NULL| NULL|      NULL|      NULL|    NULL|                NULL|             NULL|                     NULL|\n",
      "|      59088|         1|     17|                          1|  PANIFICADORA UNIAO|                 8|             2008-12-31|                       71|                      NULL|NULL|              1994-05-04|              1091101|                  NULL|               RUA|                  18|   S/N|         QD 16 LT 34|        MORADA NOBRE|72855868| GO|     9445| NULL|      NULL| NULL|      NULL|      NULL|    NULL|                NULL|             NULL|                     NULL|\n",
      "|      61201|         1|      7|                          1|                NULL|                 8|             2008-12-31|                       71|                      NULL|NULL|              1994-05-06|              4689301|                  NULL|               RUA|       PADRE MARTINS|    64|                NULL|         PADRE FARIA|35400000| MG|     4921| NULL|      NULL| NULL|      NULL|      NULL|    NULL|                NULL|             NULL|                     NULL|\n",
      "|      63003|         1|     74|                          1| TROPICAL BICICLETAS|                 4|             2018-09-11|                       63|                      NULL|NULL|              1994-05-09|              4774100|                  NULL|              NULL|PRAC CARLOS MACIEIRA|   S/N|                NULL|              CENTRO|65105000| MA|      901| NULL|      NULL| NULL|      NULL|      NULL|    NULL|                NULL|             NULL|                     NULL|\n",
      "|      63134|         2|     32|                          2| TSUHA DIVISAO CORTE|                 2|             2008-07-29|                        0|                      NULL|NULL|              2008-07-29|              2539001|               4530704|           AVENIDA|MASCARENHAS DE MO...|  3333|                NULL|    CORONEL ANTONINO|79010500| MS|     9051|   67|  33615951| NULL|      NULL|        67|33615951|edson.oshiro@grup...|             NULL|                     NULL|\n",
      "|      63134|         1|     51|                          1|                NULL|                 2|             2001-03-08|                        0|                      NULL|NULL|              1994-05-10|              2539001|  2822401,2840200,3...|               RUA|DONA TERESA CRISTINA|   216|                NULL|    CORONEL ANTONINO|79013580| MS|     9051|   67|  33615951| NULL|      NULL|        67|33615951|EDSON.OSHIRO@GRUP...|             NULL|                     NULL|\n",
      "|      63328|         1|     57|                          1|        KILO E GRAMA|                 8|             2012-05-16|                        1|                      NULL|NULL|              1994-05-09|              9001999|                  NULL|           AVENIDA|LUIZ TARQUINIO PI...|    14|                NULL|              CENTRO|42700130| BA|     3685|   71|   3460323| NULL|      NULL|        71| 3474800|                NULL|             NULL|                     NULL|\n",
      "|      63642|         1|     30|                          1|                NULL|                 8|             2015-02-09|                       73|                      NULL|NULL|              1994-05-10|              1412601|               1412603|               RUA|ARLINDO SAMPAIO J...|   648|                NULL|          NOVA BAHIA|79034510| MS|     9051| NULL|      NULL| NULL|      NULL|      NULL|    NULL|                NULL|             NULL|                     NULL|\n",
      "|      65207|         1|     44|                          1|                NULL|                 8|             2008-12-31|                       71|                      NULL|NULL|              1994-05-09|              7311400|                  NULL|               RUA| ARAUJO PORTO ALEGRE|    71|       3 ANDAR PARTE|              CENTRO|20030012| RJ|     6001| NULL|      NULL| NULL|      NULL|      NULL|    NULL|                NULL|             NULL|                     NULL|\n",
      "|      65226|         1|     70|                          1|                NULL|                 8|             2008-12-31|                       71|                      NULL|NULL|              1994-05-09|              4649401|                  NULL|               RUA|MANOEL JOAO GONCA...|    78|             LOJA 02|           ALCANTARA|24430380| RJ|     5897| NULL|      NULL| NULL|      NULL|      NULL|    NULL|                NULL|             NULL|                     NULL|\n",
      "|      67163|         1|     91|                          1|                NULL|                 8|             2008-12-31|                       71|                      NULL|NULL|              1994-05-11|              4789007|                  NULL|               RUA|      SENADOR DANTAS|   117|           SALA 1803|              CENTRO|20031202| RJ|     6001| NULL|      NULL| NULL|      NULL|      NULL|    NULL|                NULL|             NULL|                     NULL|\n",
      "|      72105|         1|     56|                          1|               M C R|                 8|             2008-12-31|                       71|                      NULL|NULL|              1994-05-20|              9103100|                  NULL|               RUA|VOLUNTARIOS DA PA...|   475|        CONJUNTO 611|              CENTRO|80020000| PR|     7535| NULL|      NULL| NULL|      NULL|      NULL|    NULL|                NULL|             NULL|                     NULL|\n",
      "|      75414|         1|     80|                          1|                NULL|                 8|             1994-05-25|                        1|                      NULL|NULL|              1994-05-25|              5611203|                  NULL|               RUA|JOAO FERREIRA DOS...|   274|                NULL|              CENTRO|49100000| SE|     3233| NULL|      NULL| NULL|      NULL|      NULL|    NULL|                NULL|             NULL|                     NULL|\n",
      "|      75612|         1|     43|                          1|                NULL|                 8|             1996-11-30|                        1|                      NULL|NULL|              1994-05-24|              4744001|                  NULL|           AVENIDA|             COLOMBO|  2749|                NULL|             ZONA 07|87030120| PR|     7691| NULL|      NULL| NULL|      NULL|      NULL|    NULL|                NULL|             NULL|                     NULL|\n",
      "|      77431|         1|     56|                          1|        JOAO & MARIA|                 4|             2018-11-21|                       63|                      NULL|NULL|              1994-05-27|              4781400|                  NULL|               RUA|           ITABAIANA|  1015|                LOJA|              CENTRO|49015110| SE|     3105| NULL|      NULL| NULL|      NULL|      NULL|    NULL|                NULL|             NULL|                     NULL|\n",
      "|      78304|         1|     71|                          1|            DA TERRA|                 4|             2018-09-13|                       63|                      NULL|NULL|              1994-05-30|              6110801|                  NULL|               RUA|         COELHO NETO|    40|            APTO 201|              CENTRO|92310180| RS|     8589| NULL|      NULL| NULL|      NULL|      NULL|    NULL|                NULL|             NULL|                     NULL|\n",
      "|      79145|         1|     20|                          1|LEGIONARIAS DO BE...|                 8|             2008-12-31|                       71|                      NULL|NULL|              1984-06-19|              9430800|       9493600,9499500|             PRACA|         CEL CARRIJO|    01|                NULL|              CENTRO|75830002| GO|     9459| NULL|      NULL| NULL|      NULL|      NULL|    NULL|                NULL|             NULL|                     NULL|\n",
      "|      79668|         1|     76|                          1|RESTAURANTE E LAN...|                 4|             2018-12-12|                       63|                      NULL|NULL|              1994-06-01|              5611201|                  NULL|           AVENIDA|    LOURIVAL BARBOSA|   704|                NULL|              CENTRO|79130000| MS|     9143| NULL|      NULL| NULL|      NULL|      NULL|    NULL|                NULL|             NULL|                     NULL|\n",
      "|      82492|         1|      1|                          1|                NULL|                 4|             2018-11-23|                       63|                      NULL|NULL|              1994-06-01|              5611201|                  NULL|               RUA|FRANCISCO F ALBUQ...|   767|                NULL|              CENTRO|87301130| PR|     7483| NULL|      NULL| NULL|      NULL|      NULL|    NULL|                NULL|             NULL|                     NULL|\n",
      "|      83437|         1|     36|                          1|M&C BAZAR E ARMAR...|                 8|             2008-12-10|                        1|                      NULL|NULL|              1994-06-01|              4713004|                  NULL|               RUA|     JARDIM BOTANICO|   S/N|      LOTE 29 QD 207|  SAO JOAO DE MERITI|25570030| RJ|     5901| NULL|      NULL| NULL|      NULL|      NULL|    NULL|                NULL|             NULL|                     NULL|\n",
      "|      84817|         1|     95|                          1|                NULL|                 4|             2018-10-25|                       63|                      NULL|NULL|              1994-06-06|              5620101|                  NULL|           AVENIDA|              FRANCA|   S/N|    TER TUR MARITIMO|            COMERCIO|40010000| BA|     3849| NULL|      NULL| NULL|      NULL|      NULL|    NULL|                NULL|             NULL|                     NULL|\n",
      "|      84817|         2|     76|                          2|         CIA A BORDO|                 4|             2018-10-25|                       63|                      NULL|NULL|              1994-09-16|              4712100|                  NULL|           AVENIDA|      ESTADOS UNIDOS|    04|   SALAS 1101 E 1102|            COMERCIO|40010020| BA|     3849| NULL|      NULL| NULL|      NULL|      NULL|    NULL|                NULL|             NULL|                     NULL|\n",
      "|      85869|         1|     86|                          1|                NULL|                 8|             1997-08-31|                        9|                      NULL|NULL|              1994-06-01|              2512800|                  NULL|           AVENIDA|        PONTA GROSSA|  1352|                NULL|                SEDE|86820000| PR|     7467| NULL|      NULL| NULL|      NULL|      NULL|    NULL|                NULL|             NULL|                     NULL|\n",
      "|      87071|         1|     73|                          1|                NULL|                 8|             2015-02-09|                       73|                      NULL|NULL|              1994-06-01|              7112000|                  NULL|           AVENIDA|FERNAO DIAS PAES ...|  2161|             SALA 15|              CENTRO|13220005| SP|     7233| NULL|      NULL| NULL|      NULL|      NULL|    NULL|                NULL|             NULL|                     NULL|\n",
      "|      97967|         1|     33|                          1|           COTAS BAR|                 8|             2012-03-09|                        1|                      NULL|NULL|              1994-06-23|              5611203|                  NULL|               RUA|            TAQUARIL|   320|                NULL|             SAUDADE|30285380| MG|     4123| NULL|      NULL| NULL|      NULL|      NULL|    NULL|                NULL|             NULL|                     NULL|\n",
      "|      99166|         1|      7|                          1|UNITEL PRODUTOS E...|                 4|             2018-09-04|                       63|                      NULL|NULL|              1994-06-27|              4744001|  4789099,4751201,4...|               RUA|                C-17|   186|QUADRA58         ...|SETOR NOVO HORIZONTE|74365730| GO|     9373|   62|  32879292|   62|  32471583|        62|32471583|ef@orionauditoria...|             NULL|                     NULL|\n",
      "|      99425|         1|      8|                          1|TIMON COMERCIO DE...|                 8|             2001-12-14|                        1|                      NULL|NULL|              1994-06-28|              4784900|                  NULL|               RUA|        MIGUEL SIMAO|   936|                NULL|              CENTRO|65634065| MA|      937| NULL|      NULL| NULL|      NULL|      NULL|    NULL|                NULL|             NULL|                     NULL|\n",
      "|      99633|         1|      7|                          1|                NULL|                 8|             2008-12-31|                       71|                      NULL|NULL|              1994-06-23|              9529102|                  NULL|               RUA|               RUBIS|  1454|               PARTE|       ROCHA MIRANDA|21360510| RJ|     6001| NULL|      NULL| NULL|      NULL|      NULL|    NULL|                NULL|             NULL|                     NULL|\n",
      "|     100553|         1|     16|                          1|                NULL|                 4|             2018-09-20|                       63|                      NULL|NULL|              1994-06-29|              4330402|                  NULL|               RUA|            BLUMENAU|    58|                NULL| NOSSA SRA DE FATIMA|89610000| SC|     8131| NULL|      NULL| NULL|      NULL|      NULL|    NULL|                NULL|             NULL|                     NULL|\n",
      "|     101977|         1|      3|                          1|                NULL|                 8|             2008-12-31|                       71|                      NULL|NULL|              1994-06-29|              5611201|                  NULL|               RUA|        LAURO MULLER|   116| LJ 301 PT C 50J 3PA|            BOTAFOGO|22290160| RJ|     6001| NULL|      NULL| NULL|      NULL|      NULL|    NULL|                NULL|             NULL|                     NULL|\n",
      "|     102065|         1|     48|                          1|        REI DO SABOR|                 2|             2019-04-05|                        0|                      NULL|NULL|              1994-06-30|              5620101|  4641901,4641902,4...|               RUA|         MALVA VERDE|    22|                NULL|      TANCREDO NEVES|69087640| AM|      255|   92|  91163794|   92|  98197999|      NULL|    NULL|FRANCISCOSCOSTA62...|             NULL|                     NULL|\n",
      "|     104276|         1|     10|                          1|               CESAP|                 2|             1999-08-01|                        0|                      NULL|NULL|              1994-06-14|              9491000|                  NULL|               RUA|          DR FERRARI|   258|              CASA 1|     TODOS OS SANTOS|20770160| RJ|     6001| NULL|      NULL| NULL|      NULL|      NULL|    NULL|                NULL|             NULL|                     NULL|\n",
      "|     105139|         1|      8|                          1|                NULL|                 8|             2007-07-05|                        1|                      NULL|NULL|              1994-07-05|              4774100|                  NULL|           AVENIDA|        PADRE CLARET|   592|                NULL|              CENTRO|93280260| RS|     8651| NULL|      NULL| NULL|      NULL|      NULL|    NULL|                NULL|             NULL|                     NULL|\n",
      "|     106928|         1|     55|                          1|   KITLAR DECORACOES|                 4|             2018-10-25|                       63|                      NULL|NULL|              1994-07-05|              4754701|                  NULL|               RUA|TEODULO DE ALBUQU...|   216|       LJ 108 TERREO|           CABULA VI|41181250| BA|     3849| NULL|      NULL| NULL|      NULL|      NULL|    NULL|                NULL|             NULL|                     NULL|\n",
      "|     106998|         1|      3|                          1|                NULL|                 4|             2020-10-29|                       63|                      NULL|NULL|              1994-07-04|              3101200|                  NULL|               RUA|           GUAICURUS|   199|                NULL|       JARDIM MEUDOM|25953000| RJ|     5915| NULL|      NULL| NULL|      NULL|      NULL|    NULL|                NULL|             NULL|                     NULL|\n",
      "|     119467|         1|     55|                          1|                NULL|                 8|             2009-04-07|                       54|                      NULL|NULL|              1994-07-22|              4744005|                  NULL|           AVENIDA|         DOS TRILHOS|   300|                NULL|              CENTRO|12315310| SP|     6589| NULL|      NULL| NULL|      NULL|      NULL|    NULL|                NULL|             NULL|                     NULL|\n",
      "|     122420|         1|     40|                          1|                NULL|                 8|             2021-03-30|                        1|                      NULL|NULL|              1994-07-25|              4763603|                  NULL|               RUA|     ALBERTO FOLLONI|  1271|                NULL|                 AHU|80540000| PR|     7535| NULL|      NULL| NULL|      NULL|      NULL|    NULL|                NULL|             NULL|                     NULL|\n",
      "+-----------+----------+-------+---------------------------+--------------------+------------------+-----------------------+-------------------------+--------------------------+----+------------------------+---------------------+----------------------+------------------+--------------------+------+--------------------+--------------------+--------+---+---------+-----+----------+-----+----------+----------+--------+--------------------+-----------------+-------------------------+\n"
     ]
    }
   ],
   "source": [
    "estabelecimentos_df.show(50)"
   ],
   "metadata": {
    "collapsed": false,
    "ExecuteTime": {
     "end_time": "2023-11-17T18:53:49.099979300Z",
     "start_time": "2023-11-17T18:53:48.960140500Z"
    }
   },
   "id": "5fa94e798a30cc9d"
  },
  {
   "cell_type": "code",
   "execution_count": 57,
   "outputs": [
    {
     "name": "stdout",
     "output_type": "stream",
     "text": [
      "+-----------+----------------------+-----------------------------+--------------------+---------------------+-------------------------+----+-------------------+---------------------+-----------------------------------+------------+\n",
      "|cnpj_basico|identificador_de_socio|nome_do_socio_ou_razao_social|cnpj_ou_cpf_do_socio|qualificacao_do_socio|data_de_entrada_sociedade|pais|representante_legal|nome_do_representante|qualificacao_do_representante_legal|faixa_etaria|\n",
      "+-----------+----------------------+-----------------------------+--------------------+---------------------+-------------------------+----+-------------------+---------------------+-----------------------------------+------------+\n",
      "|        403|                     2|         ARCHIBALDE POUZA ...|         ***550688**|                   49|                 19941019|NULL|        ***000000**|                 NULL|                                  0|           8|\n",
      "|        403|                     2|         MARIA LUCIA DE AR...|         ***358948**|                   22|                 19941019|NULL|        ***550688**| ARCHIBALDE POUZA ...|                                  5|           7|\n",
      "|      52803|                     2|            PAULA PAVAN MAMED|         ***454918**|                   22|                 19980831|NULL|        ***000000**|                 NULL|                                  0|           6|\n",
      "|      52803|                     2|          NASSIM MAMED JUNIOR|         ***040608**|                   49|                 19980831|NULL|        ***000000**|                 NULL|                                  0|           6|\n",
      "|      52803|                     2|         CARLA PAVAN MAMED...|         ***454898**|                   22|                 20130812|NULL|        ***000000**|                 NULL|                                  0|           6|\n",
      "+-----------+----------------------+-----------------------------+--------------------+---------------------+-------------------------+----+-------------------+---------------------+-----------------------------------+------------+\n"
     ]
    }
   ],
   "source": [
    "socios_df.show(5)"
   ],
   "metadata": {
    "collapsed": false,
    "ExecuteTime": {
     "end_time": "2023-11-17T18:55:01.496850600Z",
     "start_time": "2023-11-17T18:55:01.406419600Z"
    }
   },
   "id": "7f676e26eba8f9e5"
  },
  {
   "cell_type": "code",
   "execution_count": 58,
   "outputs": [
    {
     "name": "stdout",
     "output_type": "stream",
     "text": [
      "root\n",
      " |-- cnpj_basico: integer (nullable = true)\n",
      " |-- identificador_de_socio: integer (nullable = true)\n",
      " |-- nome_do_socio_ou_razao_social: string (nullable = true)\n",
      " |-- cnpj_ou_cpf_do_socio: string (nullable = true)\n",
      " |-- qualificacao_do_socio: integer (nullable = true)\n",
      " |-- data_de_entrada_sociedade: date (nullable = true)\n",
      " |-- pais: integer (nullable = true)\n",
      " |-- representante_legal: string (nullable = true)\n",
      " |-- nome_do_representante: string (nullable = true)\n",
      " |-- qualificacao_do_representante_legal: integer (nullable = true)\n",
      " |-- faixa_etaria: integer (nullable = true)\n"
     ]
    }
   ],
   "source": [
    "socios_df =  socios_df.withColumn('data_de_entrada_sociedade', f.to_date(socios_df.data_de_entrada_sociedade.cast(StringType()), 'yyyyMMdd'))\n",
    "socios_df.printSchema()"
   ],
   "metadata": {
    "collapsed": false,
    "ExecuteTime": {
     "end_time": "2023-11-17T18:58:11.397694800Z",
     "start_time": "2023-11-17T18:58:11.315485700Z"
    }
   },
   "id": "730211babb401171"
  },
  {
   "cell_type": "code",
   "execution_count": 60,
   "outputs": [
    {
     "name": "stdout",
     "output_type": "stream",
     "text": [
      "+-----------+----------------------+-----------------------------+--------------------+---------------------+-------------------------+----+-------------------+---------------------+-----------------------------------+------------+\n",
      "|cnpj_basico|identificador_de_socio|nome_do_socio_ou_razao_social|cnpj_ou_cpf_do_socio|qualificacao_do_socio|data_de_entrada_sociedade|pais|representante_legal|nome_do_representante|qualificacao_do_representante_legal|faixa_etaria|\n",
      "+-----------+----------------------+-----------------------------+--------------------+---------------------+-------------------------+----+-------------------+---------------------+-----------------------------------+------------+\n",
      "|        403|                     2|         ARCHIBALDE POUZA ...|         ***550688**|                   49|               1994-10-19|NULL|        ***000000**|                 NULL|                                  0|           8|\n",
      "|        403|                     2|         MARIA LUCIA DE AR...|         ***358948**|                   22|               1994-10-19|NULL|        ***550688**| ARCHIBALDE POUZA ...|                                  5|           7|\n",
      "|      52803|                     2|            PAULA PAVAN MAMED|         ***454918**|                   22|               1998-08-31|NULL|        ***000000**|                 NULL|                                  0|           6|\n",
      "|      52803|                     2|          NASSIM MAMED JUNIOR|         ***040608**|                   49|               1998-08-31|NULL|        ***000000**|                 NULL|                                  0|           6|\n",
      "|      52803|                     2|         CARLA PAVAN MAMED...|         ***454898**|                   22|               2013-08-12|NULL|        ***000000**|                 NULL|                                  0|           6|\n",
      "+-----------+----------------------+-----------------------------+--------------------+---------------------+-------------------------+----+-------------------+---------------------+-----------------------------------+------------+\n"
     ]
    }
   ],
   "source": [
    "socios_df.show(5)"
   ],
   "metadata": {
    "collapsed": false,
    "ExecuteTime": {
     "end_time": "2023-11-17T18:58:24.256841Z",
     "start_time": "2023-11-17T18:58:24.185240400Z"
    }
   },
   "id": "add0babf6775f0e9"
  },
  {
   "cell_type": "code",
   "execution_count": null,
   "outputs": [],
   "source": [],
   "metadata": {
    "collapsed": false
   },
   "id": "51bb9d6857d31eaf"
  }
 ],
 "metadata": {
  "kernelspec": {
   "display_name": "Python 3",
   "language": "python",
   "name": "python3"
  },
  "language_info": {
   "codemirror_mode": {
    "name": "ipython",
    "version": 2
   },
   "file_extension": ".py",
   "mimetype": "text/x-python",
   "name": "python",
   "nbconvert_exporter": "python",
   "pygments_lexer": "ipython2",
   "version": "2.7.6"
  }
 },
 "nbformat": 4,
 "nbformat_minor": 5
}
