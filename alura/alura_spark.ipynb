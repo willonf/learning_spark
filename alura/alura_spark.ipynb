{
 "cells": [
  {
   "cell_type": "code",
   "execution_count": 1,
   "id": "initial_id",
   "metadata": {
    "collapsed": true,
    "ExecuteTime": {
     "end_time": "2024-01-14T21:48:39.877790300Z",
     "start_time": "2024-01-14T21:48:39.388710300Z"
    }
   },
   "outputs": [],
   "source": [
    "from pyspark.sql import SparkSession"
   ]
  },
  {
   "cell_type": "code",
   "execution_count": 2,
   "outputs": [],
   "source": [
    "from pyspark.sql.functions import col"
   ],
   "metadata": {
    "collapsed": false,
    "ExecuteTime": {
     "end_time": "2024-01-14T21:48:39.889728Z",
     "start_time": "2024-01-14T21:48:39.850110300Z"
    }
   },
   "id": "39bd5259b16c7ac6"
  },
  {
   "cell_type": "code",
   "execution_count": 3,
   "outputs": [],
   "source": [
    "spark = SparkSession.builder.appName('alura_spark').getOrCreate()"
   ],
   "metadata": {
    "collapsed": false,
    "ExecuteTime": {
     "end_time": "2024-01-14T21:48:43.050128700Z",
     "start_time": "2024-01-14T21:48:39.854236800Z"
    }
   },
   "id": "ad585d8a09286e88"
  },
  {
   "cell_type": "code",
   "execution_count": 4,
   "outputs": [],
   "source": [
    "# É possível passar caracteres curingas\n",
    "\n",
    "empresas_path = '/home/jovyan/datasets/empresas/'  # ou '/home/jovyan/datasets/empresas/ppart-0000?-5478.csv'\n",
    "empresas_df = spark.read.csv(path=empresas_path, sep=';', inferSchema=True)\n",
    "\n",
    "estabelecimentos_path = '/home/jovyan/datasets/estabelecimentos/'\n",
    "estabelecimentos_df = spark.read.csv(path=estabelecimentos_path, sep=';', inferSchema=True)\n",
    "\n",
    "socios_path = '/home/jovyan/datasets/socios/'  # ou '/home/jovyan/datasets/empresas/ppart-0000?-5478.csv'\n",
    "socios_df = spark.read.csv(path=socios_path, sep=';', inferSchema=True)"
   ],
   "metadata": {
    "collapsed": false,
    "ExecuteTime": {
     "end_time": "2024-01-14T21:48:51.987448100Z",
     "start_time": "2024-01-14T21:48:43.023169800Z"
    }
   },
   "id": "d33ef6522031e933"
  },
  {
   "cell_type": "code",
   "execution_count": 5,
   "outputs": [],
   "source": [
    "empresasColNames = ['cnpj_basico', 'razao_social_nome_empresarial', 'natureza_juridica', 'qualificacao_do_responsavel',\n",
    "                    'capital_social_da_empresa', 'porte_da_empresa', 'ente_federativo_responsavel']\n",
    "\n",
    "estabsColNames = ['cnpj_basico', 'cnpj_ordem', 'cnpj_dv', 'identificador_matriz_filial', 'nome_fantasia',\n",
    "                  'situacao_cadastral', 'data_situacao_cadastral', 'motivo_situacao_cadastral',\n",
    "                  'nome_da_cidade_no_exterior', 'pais', 'data_de_inicio_atividade', 'cnae_fiscal_principal',\n",
    "                  'cnae_fiscal_secundaria', 'tipo_de_logradouro', 'logradouro', 'numero', 'complemento', 'bairro',\n",
    "                  'cep', 'uf', 'municipio', 'ddd_1', 'telefone_1', 'ddd_2', 'telefone_2', 'ddd_do_fax', 'fax',\n",
    "                  'correio_eletronico', 'situacao_especial', 'data_da_situacao_especial']\n",
    "\n",
    "sociosColNames = ['cnpj_basico', 'identificador_de_socio', 'nome_do_socio_ou_razao_social', 'cnpj_ou_cpf_do_socio',\n",
    "                  'qualificacao_do_socio', 'data_de_entrada_sociedade', 'pais', 'representante_legal',\n",
    "                  'nome_do_representante', 'qualificacao_do_representante_legal', 'faixa_etaria']"
   ],
   "metadata": {
    "collapsed": false,
    "ExecuteTime": {
     "end_time": "2024-01-14T21:48:52.000055600Z",
     "start_time": "2024-01-14T21:48:51.987448100Z"
    }
   },
   "id": "517c85b2ee66b6f9"
  },
  {
   "cell_type": "code",
   "execution_count": 6,
   "outputs": [
    {
     "name": "stdout",
     "output_type": "stream",
     "text": [
      "+----+--------------------+----+---+-------+---+----+\n",
      "| _c0|                 _c1| _c2|_c3|    _c4|_c5| _c6|\n",
      "+----+--------------------+----+---+-------+---+----+\n",
      "| 306|FRANCAMAR REFRIGE...|2240| 49|   0,00|  1|NULL|\n",
      "|1355|BRASILEIRO & OLIV...|2062| 49|   0,00|  5|NULL|\n",
      "|4820|REGISTRO DE IMOVE...|3034| 32|   0,00|  5|NULL|\n",
      "|5347|ROSELY APARECIDA ...|2135| 50|   0,00|  5|NULL|\n",
      "|6846|BADU E FILHOS TEC...|2062| 49|4000,00|  1|NULL|\n",
      "+----+--------------------+----+---+-------+---+----+\n"
     ]
    }
   ],
   "source": [
    "empresas_df.show(5)"
   ],
   "metadata": {
    "collapsed": false,
    "ExecuteTime": {
     "end_time": "2024-01-14T21:48:52.172510400Z",
     "start_time": "2024-01-14T21:48:51.994789100Z"
    }
   },
   "id": "6a97944b61a4fab2"
  },
  {
   "cell_type": "code",
   "execution_count": 7,
   "outputs": [
    {
     "name": "stdout",
     "output_type": "stream",
     "text": [
      "+----+---+---+---+--------------------+---+--------+---+----+----+--------+-------+--------------------+-------+--------------------+----+------+-------------------+--------+----+----+----+--------+----+----+----+----+--------------------+----+----+\n",
      "| _c0|_c1|_c2|_c3|                 _c4|_c5|     _c6|_c7| _c8| _c9|    _c10|   _c11|                _c12|   _c13|                _c14|_c15|  _c16|               _c17|    _c18|_c19|_c20|_c21|    _c22|_c23|_c24|_c25|_c26|                _c27|_c28|_c29|\n",
      "+----+---+---+---+--------------------+---+--------+---+----+----+--------+-------+--------------------+-------+--------------------+----+------+-------------------+--------+----+----+----+--------+----+----+----+----+--------------------+----+----+\n",
      "| 537|  1| 51|  1|  PAPAI NOEL IMOVEIS|  2|20041224|  0|NULL|NULL|19941107|6821802|6821801,6822600,8...|AVENIDA|DOUTOR CARDOSO DE...| 247|  NULL|       VILA OLIMPIA| 4548001|  SP|7107|  11|38499387|NULL|NULL|NULL|NULL|ADM@VERTIZAIMOVEI...|NULL|NULL|\n",
      "| 537|  2| 32|  2|                NULL|  8|20000929|  1|NULL|NULL|19990629|6821802|     6822600,8111700|AVENIDA| DR. CARDOSO DE MELO|  46|  NULL|       VILA OLIMPIA| 4548000|  SP|7107|NULL|    NULL|NULL|NULL|NULL|NULL|                NULL|NULL|NULL|\n",
      "|6454|  1| 70|  1|AGNES COMERCIO DE...|  4|20181004| 63|NULL|NULL|19940518|4774100|                NULL|    RUA|CEL.RUBENS REIS R...|  47|SALA 3|        JD ARPOADOR| 5565180|  SP|7107|NULL|    NULL|NULL|NULL|NULL|NULL|                NULL|NULL|NULL|\n",
      "|7632|  1| 87|  1|                NULL|  2|20051103|  0|NULL|NULL|19940520|4785799|                NULL|AVENIDA|             MORUMBI| 342|  NULL|       VILA MORUMBI|13572000|  SP|7079|NULL|    NULL|NULL|NULL|NULL|NULL|                NULL|NULL|NULL|\n",
      "|7638|  1| 54|  1|                NULL|  2|20051103|  0|NULL|NULL|19940520|1610203|                NULL|    RUA|                TRES| S/N|  NULL|DISTRITO INDUSTRIAL|17120001|  SP|6113|NULL|    NULL|NULL|NULL|NULL|NULL|                NULL|NULL|NULL|\n",
      "+----+---+---+---+--------------------+---+--------+---+----+----+--------+-------+--------------------+-------+--------------------+----+------+-------------------+--------+----+----+----+--------+----+----+----+----+--------------------+----+----+\n"
     ]
    }
   ],
   "source": [
    "estabelecimentos_df.show(5)"
   ],
   "metadata": {
    "collapsed": false,
    "ExecuteTime": {
     "end_time": "2024-01-14T21:48:52.379254600Z",
     "start_time": "2024-01-14T21:48:52.172850900Z"
    }
   },
   "id": "559af4501ab66d6d"
  },
  {
   "cell_type": "code",
   "execution_count": 8,
   "outputs": [
    {
     "name": "stdout",
     "output_type": "stream",
     "text": [
      "+-----+---+--------------------+--------------+---+--------+----+-----------+--------------------+---+----+\n",
      "|  _c0|_c1|                 _c2|           _c3|_c4|     _c5| _c6|        _c7|                 _c8|_c9|_c10|\n",
      "+-----+---+--------------------+--------------+---+--------+----+-----------+--------------------+---+----+\n",
      "|  403|  2|ARCHIBALDE POUZA ...|   ***550688**| 49|19941019|NULL|***000000**|                NULL|  0|   8|\n",
      "|  403|  2|MARIA LUCIA DE AR...|   ***358948**| 22|19941019|NULL|***550688**|ARCHIBALDE POUZA ...|  5|   7|\n",
      "|52803|  2|   PAULA PAVAN MAMED|   ***454918**| 22|19980831|NULL|***000000**|                NULL|  0|   6|\n",
      "|52803|  2| NASSIM MAMED JUNIOR|   ***040608**| 49|19980831|NULL|***000000**|                NULL|  0|   6|\n",
      "|52803|  2|CARLA PAVAN MAMED...|   ***454898**| 22|20130812|NULL|***000000**|                NULL|  0|   6|\n",
      "|52803|  1|ACTUALPAR ADMINIS...|27556902000165| 22|20170809|NULL|***040608**| NASSIM MAMED JUNIOR|  5|   0|\n",
      "|57154|  2|ELIANE IZABEL MAR...|   ***741156**| 49|19940429|NULL|***000000**|                NULL|  0|   7|\n",
      "|57154|  2|JOSE GERALDO DOS ...|   ***400306**| 22|19950921|NULL|***000000**|                NULL|  0|   7|\n",
      "|57764|  2|           JOAO VICK|   ***383999**| 49|19940428|NULL|***000000**|                NULL|  0|   8|\n",
      "|57764|  2| MARIA MADALENA VICK|   ***939619**| 22|19940428|NULL|***000000**|                NULL|  0|   7|\n",
      "|64377|  2| HELIO NIESPODZINSKI|   ***761219**| 49|19940425|NULL|***000000**|                NULL|  0|   6|\n",
      "|64377|  2|JOSE MARIO NIESPO...|   ***258779**| 22|19940425|NULL|***000000**|                NULL|  0|   6|\n",
      "|67869|  2|ENEIAS PAIVA DE O...|   ***183631**| 49|20030213|NULL|***000000**|                NULL|  0|   6|\n",
      "|67869|  2|RAFAEL RIBEIRO DO...|   ***337979**| 49|20080208|NULL|***000000**|                NULL|  0|   6|\n",
      "|77294|  2|SIRLEI RUIVO DA S...|   ***725988**| 16|20050912|NULL|***000000**|                NULL|  0|   6|\n",
      "|79869|  2|  NELSON SCHONBERGER|   ***845520**| 49|19940531|NULL|***000000**|                NULL|  0|   7|\n",
      "|79869|  2|BETANIA SCHONBERG...|   ***283700**| 49|19940531|NULL|***000000**|                NULL|  0|   5|\n",
      "|79869|  2|VERA LUCIA SCHONB...|   ***438020**| 49|19980316|NULL|***000000**|                NULL|  0|   7|\n",
      "|92058|  2|VITORIA COLORINDA...|   ***922280**| 49|19981019|NULL|***000000**|                NULL|  0|   6|\n",
      "|92058|  2|   DELVINO SGANZERLA|   ***073750**| 22|19981019|NULL|***000000**|                NULL|  0|   7|\n",
      "+-----+---+--------------------+--------------+---+--------+----+-----------+--------------------+---+----+\n"
     ]
    }
   ],
   "source": [
    "socios_df.show()"
   ],
   "metadata": {
    "collapsed": false,
    "ExecuteTime": {
     "end_time": "2024-01-14T21:48:52.527373700Z",
     "start_time": "2024-01-14T21:48:52.377159Z"
    }
   },
   "id": "c84454cdc7f722b4"
  },
  {
   "cell_type": "code",
   "execution_count": 9,
   "outputs": [
    {
     "name": "stdout",
     "output_type": "stream",
     "text": [
      "+----+--------------------+----+---+-------+---+----+\n",
      "| _c0|                 _c1| _c2|_c3|    _c4|_c5| _c6|\n",
      "+----+--------------------+----+---+-------+---+----+\n",
      "| 306|FRANCAMAR REFRIGE...|2240| 49|   0,00|  1|NULL|\n",
      "|1355|BRASILEIRO & OLIV...|2062| 49|   0,00|  5|NULL|\n",
      "|4820|REGISTRO DE IMOVE...|3034| 32|   0,00|  5|NULL|\n",
      "|5347|ROSELY APARECIDA ...|2135| 50|   0,00|  5|NULL|\n",
      "|6846|BADU E FILHOS TEC...|2062| 49|4000,00|  1|NULL|\n",
      "+----+--------------------+----+---+-------+---+----+\n"
     ]
    }
   ],
   "source": [
    "empresas_df.limit(5).show()"
   ],
   "metadata": {
    "collapsed": false,
    "ExecuteTime": {
     "end_time": "2024-01-14T21:48:52.638440800Z",
     "start_time": "2024-01-14T21:48:52.488425300Z"
    }
   },
   "id": "92a070baef17bd5c"
  },
  {
   "cell_type": "code",
   "execution_count": 10,
   "outputs": [
    {
     "data": {
      "text/plain": "['cnpj_basico',\n 'razao_social_nome_empresarial',\n 'natureza_juridica',\n 'qualificacao_do_responsavel',\n 'capital_social_da_empresa',\n 'porte_da_empresa',\n 'ente_federativo_responsavel']"
     },
     "execution_count": 10,
     "metadata": {},
     "output_type": "execute_result"
    }
   ],
   "source": [
    "for index, column_name in enumerate(empresasColNames):\n",
    "    empresas_df = empresas_df.withColumnRenamed(existing=f'_c{index}', new=column_name)\n",
    "\n",
    "empresas_df.columns"
   ],
   "metadata": {
    "collapsed": false,
    "ExecuteTime": {
     "end_time": "2024-01-14T21:48:52.722834Z",
     "start_time": "2024-01-14T21:48:52.563221800Z"
    }
   },
   "id": "30e51c04ba2cacb4"
  },
  {
   "cell_type": "code",
   "execution_count": 11,
   "outputs": [
    {
     "name": "stdout",
     "output_type": "stream",
     "text": [
      "+-----------+-----------------------------+-----------------+---------------------------+-------------------------+----------------+---------------------------+\n",
      "|cnpj_basico|razao_social_nome_empresarial|natureza_juridica|qualificacao_do_responsavel|capital_social_da_empresa|porte_da_empresa|ente_federativo_responsavel|\n",
      "+-----------+-----------------------------+-----------------+---------------------------+-------------------------+----------------+---------------------------+\n",
      "|        306|         FRANCAMAR REFRIGE...|             2240|                         49|                     0,00|               1|                       NULL|\n",
      "|       1355|         BRASILEIRO & OLIV...|             2062|                         49|                     0,00|               5|                       NULL|\n",
      "|       4820|         REGISTRO DE IMOVE...|             3034|                         32|                     0,00|               5|                       NULL|\n",
      "|       5347|         ROSELY APARECIDA ...|             2135|                         50|                     0,00|               5|                       NULL|\n",
      "|       6846|         BADU E FILHOS TEC...|             2062|                         49|                  4000,00|               1|                       NULL|\n",
      "+-----------+-----------------------------+-----------------+---------------------------+-------------------------+----------------+---------------------------+\n"
     ]
    }
   ],
   "source": [
    "empresas_df.show(5)"
   ],
   "metadata": {
    "collapsed": false,
    "ExecuteTime": {
     "end_time": "2024-01-14T21:48:52.845252200Z",
     "start_time": "2024-01-14T21:48:52.626196Z"
    }
   },
   "id": "38338e9ca5bb223"
  },
  {
   "cell_type": "code",
   "execution_count": 12,
   "outputs": [
    {
     "data": {
      "text/plain": "['cnpj_basico',\n 'identificador_de_socio',\n 'nome_do_socio_ou_razao_social',\n 'cnpj_ou_cpf_do_socio',\n 'qualificacao_do_socio',\n 'data_de_entrada_sociedade',\n 'pais',\n 'representante_legal',\n 'nome_do_representante',\n 'qualificacao_do_representante_legal',\n 'faixa_etaria']"
     },
     "execution_count": 12,
     "metadata": {},
     "output_type": "execute_result"
    }
   ],
   "source": [
    "for index, column_name in enumerate(sociosColNames):\n",
    "    socios_df = socios_df.withColumnRenamed(existing=f'_c{index}', new=column_name)\n",
    "\n",
    "socios_df.columns"
   ],
   "metadata": {
    "collapsed": false,
    "ExecuteTime": {
     "end_time": "2024-01-14T21:48:52.943837900Z",
     "start_time": "2024-01-14T21:48:52.722834Z"
    }
   },
   "id": "b236504ca3e63c31"
  },
  {
   "cell_type": "code",
   "execution_count": 13,
   "outputs": [
    {
     "data": {
      "text/plain": "['cnpj_basico',\n 'cnpj_ordem',\n 'cnpj_dv',\n 'identificador_matriz_filial',\n 'nome_fantasia',\n 'situacao_cadastral',\n 'data_situacao_cadastral',\n 'motivo_situacao_cadastral',\n 'nome_da_cidade_no_exterior',\n 'pais',\n 'data_de_inicio_atividade',\n 'cnae_fiscal_principal',\n 'cnae_fiscal_secundaria',\n 'tipo_de_logradouro',\n 'logradouro',\n 'numero',\n 'complemento',\n 'bairro',\n 'cep',\n 'uf',\n 'municipio',\n 'ddd_1',\n 'telefone_1',\n 'ddd_2',\n 'telefone_2',\n 'ddd_do_fax',\n 'fax',\n 'correio_eletronico',\n 'situacao_especial',\n 'data_da_situacao_especial']"
     },
     "execution_count": 13,
     "metadata": {},
     "output_type": "execute_result"
    }
   ],
   "source": [
    "for index, column_name in enumerate(estabsColNames):\n",
    "    estabelecimentos_df = estabelecimentos_df.withColumnRenamed(existing=f'_c{index}', new=column_name)\n",
    "\n",
    "estabelecimentos_df.columns"
   ],
   "metadata": {
    "collapsed": false,
    "ExecuteTime": {
     "end_time": "2024-01-14T21:48:53.133505500Z",
     "start_time": "2024-01-14T21:48:52.787501Z"
    }
   },
   "id": "7490c17d8a647902"
  },
  {
   "cell_type": "code",
   "execution_count": 14,
   "outputs": [
    {
     "name": "stdout",
     "output_type": "stream",
     "text": [
      "root\n",
      " |-- cnpj_basico: integer (nullable = true)\n",
      " |-- razao_social_nome_empresarial: string (nullable = true)\n",
      " |-- natureza_juridica: integer (nullable = true)\n",
      " |-- qualificacao_do_responsavel: integer (nullable = true)\n",
      " |-- capital_social_da_empresa: string (nullable = true)\n",
      " |-- porte_da_empresa: integer (nullable = true)\n",
      " |-- ente_federativo_responsavel: string (nullable = true)\n"
     ]
    }
   ],
   "source": [
    "empresas_df.printSchema()"
   ],
   "metadata": {
    "collapsed": false,
    "ExecuteTime": {
     "end_time": "2024-01-14T21:48:53.141124100Z",
     "start_time": "2024-01-14T21:48:53.012109500Z"
    }
   },
   "id": "480bff08975859a7"
  },
  {
   "cell_type": "code",
   "execution_count": 15,
   "outputs": [],
   "source": [
    "from pyspark.sql.types import DoubleType, StringType\n",
    "from pyspark.sql import functions as f"
   ],
   "metadata": {
    "collapsed": false,
    "ExecuteTime": {
     "end_time": "2024-01-14T21:48:53.143161700Z",
     "start_time": "2024-01-14T21:48:53.017402500Z"
    }
   },
   "id": "72ca3e056dc8da9"
  },
  {
   "cell_type": "code",
   "execution_count": 16,
   "outputs": [
    {
     "name": "stdout",
     "output_type": "stream",
     "text": [
      "root\n",
      " |-- cnpj_basico: integer (nullable = true)\n",
      " |-- razao_social_nome_empresarial: string (nullable = true)\n",
      " |-- natureza_juridica: integer (nullable = true)\n",
      " |-- qualificacao_do_responsavel: integer (nullable = true)\n",
      " |-- capital_social_da_empresa: string (nullable = true)\n",
      " |-- porte_da_empresa: integer (nullable = true)\n",
      " |-- ente_federativo_responsavel: string (nullable = true)\n"
     ]
    }
   ],
   "source": [
    "empresas_df.printSchema()"
   ],
   "metadata": {
    "collapsed": false,
    "ExecuteTime": {
     "end_time": "2024-01-14T21:48:53.184785Z",
     "start_time": "2024-01-14T21:48:53.021006800Z"
    }
   },
   "id": "b539e2f6149e268e"
  },
  {
   "cell_type": "code",
   "execution_count": 17,
   "outputs": [],
   "source": [
    "empresas_df = empresas_df.withColumn('capital_social_da_empresa',\n",
    "                                     f.regexp_replace(string='capital_social_da_empresa', pattern=',', replacement='.'))"
   ],
   "metadata": {
    "collapsed": false,
    "ExecuteTime": {
     "end_time": "2024-01-14T21:48:53.189092300Z",
     "start_time": "2024-01-14T21:48:53.027516200Z"
    }
   },
   "id": "bac51b05eff5b3ba"
  },
  {
   "cell_type": "code",
   "execution_count": 18,
   "outputs": [
    {
     "name": "stdout",
     "output_type": "stream",
     "text": [
      "+-----------+-----------------------------+-----------------+---------------------------+-------------------------+----------------+---------------------------+\n",
      "|cnpj_basico|razao_social_nome_empresarial|natureza_juridica|qualificacao_do_responsavel|capital_social_da_empresa|porte_da_empresa|ente_federativo_responsavel|\n",
      "+-----------+-----------------------------+-----------------+---------------------------+-------------------------+----------------+---------------------------+\n",
      "|        306|         FRANCAMAR REFRIGE...|             2240|                         49|                     0.00|               1|                       NULL|\n",
      "|       1355|         BRASILEIRO & OLIV...|             2062|                         49|                     0.00|               5|                       NULL|\n",
      "|       4820|         REGISTRO DE IMOVE...|             3034|                         32|                     0.00|               5|                       NULL|\n",
      "|       5347|         ROSELY APARECIDA ...|             2135|                         50|                     0.00|               5|                       NULL|\n",
      "|       6846|         BADU E FILHOS TEC...|             2062|                         49|                  4000.00|               1|                       NULL|\n",
      "+-----------+-----------------------------+-----------------+---------------------------+-------------------------+----------------+---------------------------+\n"
     ]
    }
   ],
   "source": [
    "empresas_df.show(5)"
   ],
   "metadata": {
    "collapsed": false,
    "ExecuteTime": {
     "end_time": "2024-01-14T21:48:53.372601800Z",
     "start_time": "2024-01-14T21:48:53.061273300Z"
    }
   },
   "id": "247a09f7235f0522"
  },
  {
   "cell_type": "code",
   "execution_count": 19,
   "outputs": [],
   "source": [
    "empresas_df = empresas_df.withColumn(colName='capital_social_da_empresa',\n",
    "                                     col=empresas_df['capital_social_da_empresa'].cast(DoubleType()))"
   ],
   "metadata": {
    "collapsed": false,
    "ExecuteTime": {
     "end_time": "2024-01-14T21:48:53.378346300Z",
     "start_time": "2024-01-14T21:48:53.195319500Z"
    }
   },
   "id": "35d662e537e72d7"
  },
  {
   "cell_type": "code",
   "execution_count": 20,
   "outputs": [
    {
     "name": "stdout",
     "output_type": "stream",
     "text": [
      "root\n",
      " |-- cnpj_basico: integer (nullable = true)\n",
      " |-- razao_social_nome_empresarial: string (nullable = true)\n",
      " |-- natureza_juridica: integer (nullable = true)\n",
      " |-- qualificacao_do_responsavel: integer (nullable = true)\n",
      " |-- capital_social_da_empresa: double (nullable = true)\n",
      " |-- porte_da_empresa: integer (nullable = true)\n",
      " |-- ente_federativo_responsavel: string (nullable = true)\n"
     ]
    }
   ],
   "source": [
    "empresas_df.printSchema()"
   ],
   "metadata": {
    "collapsed": false,
    "ExecuteTime": {
     "end_time": "2024-01-14T21:48:53.380535400Z",
     "start_time": "2024-01-14T21:48:53.222769600Z"
    }
   },
   "id": "1b937a469d60ea76"
  },
  {
   "cell_type": "code",
   "execution_count": 21,
   "outputs": [
    {
     "name": "stdout",
     "output_type": "stream",
     "text": [
      "root\n",
      " |-- cnpj_basico: integer (nullable = true)\n",
      " |-- cnpj_ordem: integer (nullable = true)\n",
      " |-- cnpj_dv: integer (nullable = true)\n",
      " |-- identificador_matriz_filial: integer (nullable = true)\n",
      " |-- nome_fantasia: string (nullable = true)\n",
      " |-- situacao_cadastral: integer (nullable = true)\n",
      " |-- data_situacao_cadastral: integer (nullable = true)\n",
      " |-- motivo_situacao_cadastral: integer (nullable = true)\n",
      " |-- nome_da_cidade_no_exterior: string (nullable = true)\n",
      " |-- pais: integer (nullable = true)\n",
      " |-- data_de_inicio_atividade: integer (nullable = true)\n",
      " |-- cnae_fiscal_principal: integer (nullable = true)\n",
      " |-- cnae_fiscal_secundaria: string (nullable = true)\n",
      " |-- tipo_de_logradouro: string (nullable = true)\n",
      " |-- logradouro: string (nullable = true)\n",
      " |-- numero: string (nullable = true)\n",
      " |-- complemento: string (nullable = true)\n",
      " |-- bairro: string (nullable = true)\n",
      " |-- cep: integer (nullable = true)\n",
      " |-- uf: string (nullable = true)\n",
      " |-- municipio: integer (nullable = true)\n",
      " |-- ddd_1: string (nullable = true)\n",
      " |-- telefone_1: string (nullable = true)\n",
      " |-- ddd_2: string (nullable = true)\n",
      " |-- telefone_2: string (nullable = true)\n",
      " |-- ddd_do_fax: integer (nullable = true)\n",
      " |-- fax: string (nullable = true)\n",
      " |-- correio_eletronico: string (nullable = true)\n",
      " |-- situacao_especial: string (nullable = true)\n",
      " |-- data_da_situacao_especial: integer (nullable = true)\n"
     ]
    }
   ],
   "source": [
    "estabelecimentos_df.printSchema()"
   ],
   "metadata": {
    "collapsed": false,
    "ExecuteTime": {
     "end_time": "2024-01-14T21:48:53.398648600Z",
     "start_time": "2024-01-14T21:48:53.227910400Z"
    }
   },
   "id": "c88de40f800c82ae"
  },
  {
   "cell_type": "code",
   "execution_count": 22,
   "outputs": [
    {
     "name": "stdout",
     "output_type": "stream",
     "text": [
      "root\n",
      " |-- cnpj_basico: integer (nullable = true)\n",
      " |-- cnpj_ordem: integer (nullable = true)\n",
      " |-- cnpj_dv: integer (nullable = true)\n",
      " |-- identificador_matriz_filial: integer (nullable = true)\n",
      " |-- nome_fantasia: string (nullable = true)\n",
      " |-- situacao_cadastral: integer (nullable = true)\n",
      " |-- data_situacao_cadastral: date (nullable = true)\n",
      " |-- motivo_situacao_cadastral: integer (nullable = true)\n",
      " |-- nome_da_cidade_no_exterior: string (nullable = true)\n",
      " |-- pais: integer (nullable = true)\n",
      " |-- data_de_inicio_atividade: date (nullable = true)\n",
      " |-- cnae_fiscal_principal: integer (nullable = true)\n",
      " |-- cnae_fiscal_secundaria: string (nullable = true)\n",
      " |-- tipo_de_logradouro: string (nullable = true)\n",
      " |-- logradouro: string (nullable = true)\n",
      " |-- numero: string (nullable = true)\n",
      " |-- complemento: string (nullable = true)\n",
      " |-- bairro: string (nullable = true)\n",
      " |-- cep: integer (nullable = true)\n",
      " |-- uf: string (nullable = true)\n",
      " |-- municipio: integer (nullable = true)\n",
      " |-- ddd_1: string (nullable = true)\n",
      " |-- telefone_1: string (nullable = true)\n",
      " |-- ddd_2: string (nullable = true)\n",
      " |-- telefone_2: string (nullable = true)\n",
      " |-- ddd_do_fax: integer (nullable = true)\n",
      " |-- fax: string (nullable = true)\n",
      " |-- correio_eletronico: string (nullable = true)\n",
      " |-- situacao_especial: string (nullable = true)\n",
      " |-- data_da_situacao_especial: date (nullable = true)\n"
     ]
    }
   ],
   "source": [
    "estabelecimentos_df = (((estabelecimentos_df\n",
    "                         .withColumn(colName='data_situacao_cadastral',\n",
    "                                     col=f.to_date(estabelecimentos_df.data_situacao_cadastral.cast(StringType()),\n",
    "                                                   'yyyyMMdd')))\n",
    "                        .withColumn(colName='data_da_situacao_especial',\n",
    "                                    col=f.to_date(estabelecimentos_df.data_da_situacao_especial.cast(StringType()),\n",
    "                                                  'yyyyMMdd')))\n",
    "                       .withColumn(colName='data_de_inicio_atividade',\n",
    "                                   col=f.to_date(estabelecimentos_df.data_de_inicio_atividade.cast(StringType()),\n",
    "                                                 'yyyyMMdd')))\n",
    "estabelecimentos_df.printSchema()"
   ],
   "metadata": {
    "collapsed": false,
    "ExecuteTime": {
     "end_time": "2024-01-14T21:48:53.464412600Z",
     "start_time": "2024-01-14T21:48:53.234851300Z"
    }
   },
   "id": "854b2d02345e751a"
  },
  {
   "cell_type": "code",
   "execution_count": 23,
   "outputs": [
    {
     "name": "stdout",
     "output_type": "stream",
     "text": [
      "+-----------+----------+-------+---------------------------+--------------------+------------------+-----------------------+-------------------------+--------------------------+----+------------------------+---------------------+----------------------+------------------+--------------------+------+--------------------+--------------------+--------+---+---------+-----+----------+-----+----------+----------+--------+--------------------+-----------------+-------------------------+\n",
      "|cnpj_basico|cnpj_ordem|cnpj_dv|identificador_matriz_filial|       nome_fantasia|situacao_cadastral|data_situacao_cadastral|motivo_situacao_cadastral|nome_da_cidade_no_exterior|pais|data_de_inicio_atividade|cnae_fiscal_principal|cnae_fiscal_secundaria|tipo_de_logradouro|          logradouro|numero|         complemento|              bairro|     cep| uf|municipio|ddd_1|telefone_1|ddd_2|telefone_2|ddd_do_fax|     fax|  correio_eletronico|situacao_especial|data_da_situacao_especial|\n",
      "+-----------+----------+-------+---------------------------+--------------------+------------------+-----------------------+-------------------------+--------------------------+----+------------------------+---------------------+----------------------+------------------+--------------------+------+--------------------+--------------------+--------+---+---------+-----+----------+-----+----------+----------+--------+--------------------+-----------------+-------------------------+\n",
      "|        537|         1|     51|                          1|  PAPAI NOEL IMOVEIS|                 2|             2004-12-24|                        0|                      NULL|NULL|              1994-11-07|              6821802|  6821801,6822600,8...|           AVENIDA|DOUTOR CARDOSO DE...|   247|                NULL|        VILA OLIMPIA| 4548001| SP|     7107|   11|  38499387| NULL|      NULL|      NULL|    NULL|ADM@VERTIZAIMOVEI...|             NULL|                     NULL|\n",
      "|        537|         2|     32|                          2|                NULL|                 8|             2000-09-29|                        1|                      NULL|NULL|              1999-06-29|              6821802|       6822600,8111700|           AVENIDA| DR. CARDOSO DE MELO|    46|                NULL|        VILA OLIMPIA| 4548000| SP|     7107| NULL|      NULL| NULL|      NULL|      NULL|    NULL|                NULL|             NULL|                     NULL|\n",
      "|       6454|         1|     70|                          1|AGNES COMERCIO DE...|                 4|             2018-10-04|                       63|                      NULL|NULL|              1994-05-18|              4774100|                  NULL|               RUA|CEL.RUBENS REIS R...|    47|              SALA 3|         JD ARPOADOR| 5565180| SP|     7107| NULL|      NULL| NULL|      NULL|      NULL|    NULL|                NULL|             NULL|                     NULL|\n",
      "|       7632|         1|     87|                          1|                NULL|                 2|             2005-11-03|                        0|                      NULL|NULL|              1994-05-20|              4785799|                  NULL|           AVENIDA|             MORUMBI|   342|                NULL|        VILA MORUMBI|13572000| SP|     7079| NULL|      NULL| NULL|      NULL|      NULL|    NULL|                NULL|             NULL|                     NULL|\n",
      "|       7638|         1|     54|                          1|                NULL|                 2|             2005-11-03|                        0|                      NULL|NULL|              1994-05-20|              1610203|                  NULL|               RUA|                TRES|   S/N|                NULL| DISTRITO INDUSTRIAL|17120001| SP|     6113| NULL|      NULL| NULL|      NULL|      NULL|    NULL|                NULL|             NULL|                     NULL|\n",
      "|       7685|         1|      6|                          1|       SHOPPING VALL|                 8|             2008-12-31|                       71|                      NULL|NULL|              1994-05-20|              4744001|                  NULL|               RUA| MANOEL PEREIRA LOBO|   514|                NULL|       QUARTA PARADA| 3179010| SP|     7107| NULL|      NULL| NULL|      NULL|      NULL|    NULL|                NULL|             NULL|                     NULL|\n",
      "|       8641|         1|     92|                          1|                NULL|                 8|             1995-10-31|                        1|                      NULL|NULL|              1994-05-24|              4755501|                  NULL|               RUA|     DOMINGOS ROBERT|   572|              FUNDOS|              CENTRO|14940000| SP|     6493| NULL|      NULL| NULL|      NULL|      NULL|    NULL|                NULL|             NULL|                     NULL|\n",
      "|      12441|         1|      3|                          1|                NULL|                 8|             2008-12-31|                       71|                      NULL|NULL|              1994-05-31|              4774100|                  NULL|               RUA|       ABEL FERREIRA|    07|                NULL|          VL FORMOZA| 3340000| SP|     7107| NULL|      NULL| NULL|      NULL|      NULL|    NULL|                NULL|             NULL|                     NULL|\n",
      "|      16025|         1|     83|                          1|                NULL|                 8|             2008-12-31|                       71|                      NULL|NULL|              1994-10-19|              4721102|                  NULL|               RUA|               PIAUI|  1032|                NULL|        VL CRISTOVAO|13480021| SP|     6639| NULL|      NULL| NULL|      NULL|      NULL|    NULL|                NULL|             NULL|                     NULL|\n",
      "|      21767|         1|      5|                          1|                NULL|                 8|             2016-09-30|                        1|                      NULL|NULL|              1994-06-22|              8299799|  6399200,7410299,7...|           AVENIDA|       ANTONIO MASSA|   355|     1 ANDAR SALA 05|              CENTRO| 8550350| SP|     6897| NULL|      NULL| NULL|      NULL|      NULL|    NULL|                NULL|             NULL|                     NULL|\n",
      "|      23298|         1|     55|                          1|DEPOSITO ALTERNATIVA|                 8|             2008-04-25|                       54|                      NULL|NULL|              1994-06-30|              4744001|                  NULL|           ESTRADA|         SONIA MARIA|    77|                NULL|         JD ORATORIO| 9380440| SP|     6689| NULL|      NULL| NULL|      NULL|      NULL|    NULL|                NULL|             NULL|                     NULL|\n",
      "|      27110|         1|     47|                          1|     MERCEARIA SOUZA|                 4|             2018-09-04|                       63|                      NULL|NULL|              1982-01-22|              4712100|                  NULL|               RUA|   MARQUES DE OLINDA|   S/N|          QD 8 LT 17|         PARQUE REAL|74943530| GO|     9227| NULL|      NULL| NULL|      NULL|      NULL|    NULL|                NULL|             NULL|                     NULL|\n",
      "|      29590|         1|     85|                          1|TRANSPORTADORA J....|                 8|             2016-08-23|                        1|                      NULL|NULL|              1994-08-10|              4930201|                  NULL|               RUA|       QUINCAS BORBA|    09|                NULL|    JDIM SAO SAVERIO| 4194280| SP|     7107| NULL|      NULL| NULL|      NULL|      NULL|    NULL|                NULL|             NULL|                     NULL|\n",
      "|      55841|         1|      4|                          1| LAMINADOS ANTONINHO|                 8|             1995-06-30|                        9|                      NULL|NULL|              1994-04-28|              1610203|                  NULL|           AVENIDA|               MAIKA|   S/N|              KM 2,5|     AREA INDUSTRIAL|78535000| MT|     9899| NULL|      NULL| NULL|      NULL|      NULL|    NULL|                NULL|             NULL|                     NULL|\n",
      "|      59088|         1|     17|                          1|  PANIFICADORA UNIAO|                 8|             2008-12-31|                       71|                      NULL|NULL|              1994-05-04|              1091101|                  NULL|               RUA|                  18|   S/N|         QD 16 LT 34|        MORADA NOBRE|72855868| GO|     9445| NULL|      NULL| NULL|      NULL|      NULL|    NULL|                NULL|             NULL|                     NULL|\n",
      "|      61201|         1|      7|                          1|                NULL|                 8|             2008-12-31|                       71|                      NULL|NULL|              1994-05-06|              4689301|                  NULL|               RUA|       PADRE MARTINS|    64|                NULL|         PADRE FARIA|35400000| MG|     4921| NULL|      NULL| NULL|      NULL|      NULL|    NULL|                NULL|             NULL|                     NULL|\n",
      "|      63003|         1|     74|                          1| TROPICAL BICICLETAS|                 4|             2018-09-11|                       63|                      NULL|NULL|              1994-05-09|              4774100|                  NULL|              NULL|PRAC CARLOS MACIEIRA|   S/N|                NULL|              CENTRO|65105000| MA|      901| NULL|      NULL| NULL|      NULL|      NULL|    NULL|                NULL|             NULL|                     NULL|\n",
      "|      63134|         2|     32|                          2| TSUHA DIVISAO CORTE|                 2|             2008-07-29|                        0|                      NULL|NULL|              2008-07-29|              2539001|               4530704|           AVENIDA|MASCARENHAS DE MO...|  3333|                NULL|    CORONEL ANTONINO|79010500| MS|     9051|   67|  33615951| NULL|      NULL|        67|33615951|edson.oshiro@grup...|             NULL|                     NULL|\n",
      "|      63134|         1|     51|                          1|                NULL|                 2|             2001-03-08|                        0|                      NULL|NULL|              1994-05-10|              2539001|  2822401,2840200,3...|               RUA|DONA TERESA CRISTINA|   216|                NULL|    CORONEL ANTONINO|79013580| MS|     9051|   67|  33615951| NULL|      NULL|        67|33615951|EDSON.OSHIRO@GRUP...|             NULL|                     NULL|\n",
      "|      63328|         1|     57|                          1|        KILO E GRAMA|                 8|             2012-05-16|                        1|                      NULL|NULL|              1994-05-09|              9001999|                  NULL|           AVENIDA|LUIZ TARQUINIO PI...|    14|                NULL|              CENTRO|42700130| BA|     3685|   71|   3460323| NULL|      NULL|        71| 3474800|                NULL|             NULL|                     NULL|\n",
      "|      63642|         1|     30|                          1|                NULL|                 8|             2015-02-09|                       73|                      NULL|NULL|              1994-05-10|              1412601|               1412603|               RUA|ARLINDO SAMPAIO J...|   648|                NULL|          NOVA BAHIA|79034510| MS|     9051| NULL|      NULL| NULL|      NULL|      NULL|    NULL|                NULL|             NULL|                     NULL|\n",
      "|      65207|         1|     44|                          1|                NULL|                 8|             2008-12-31|                       71|                      NULL|NULL|              1994-05-09|              7311400|                  NULL|               RUA| ARAUJO PORTO ALEGRE|    71|       3 ANDAR PARTE|              CENTRO|20030012| RJ|     6001| NULL|      NULL| NULL|      NULL|      NULL|    NULL|                NULL|             NULL|                     NULL|\n",
      "|      65226|         1|     70|                          1|                NULL|                 8|             2008-12-31|                       71|                      NULL|NULL|              1994-05-09|              4649401|                  NULL|               RUA|MANOEL JOAO GONCA...|    78|             LOJA 02|           ALCANTARA|24430380| RJ|     5897| NULL|      NULL| NULL|      NULL|      NULL|    NULL|                NULL|             NULL|                     NULL|\n",
      "|      67163|         1|     91|                          1|                NULL|                 8|             2008-12-31|                       71|                      NULL|NULL|              1994-05-11|              4789007|                  NULL|               RUA|      SENADOR DANTAS|   117|           SALA 1803|              CENTRO|20031202| RJ|     6001| NULL|      NULL| NULL|      NULL|      NULL|    NULL|                NULL|             NULL|                     NULL|\n",
      "|      72105|         1|     56|                          1|               M C R|                 8|             2008-12-31|                       71|                      NULL|NULL|              1994-05-20|              9103100|                  NULL|               RUA|VOLUNTARIOS DA PA...|   475|        CONJUNTO 611|              CENTRO|80020000| PR|     7535| NULL|      NULL| NULL|      NULL|      NULL|    NULL|                NULL|             NULL|                     NULL|\n",
      "|      75414|         1|     80|                          1|                NULL|                 8|             1994-05-25|                        1|                      NULL|NULL|              1994-05-25|              5611203|                  NULL|               RUA|JOAO FERREIRA DOS...|   274|                NULL|              CENTRO|49100000| SE|     3233| NULL|      NULL| NULL|      NULL|      NULL|    NULL|                NULL|             NULL|                     NULL|\n",
      "|      75612|         1|     43|                          1|                NULL|                 8|             1996-11-30|                        1|                      NULL|NULL|              1994-05-24|              4744001|                  NULL|           AVENIDA|             COLOMBO|  2749|                NULL|             ZONA 07|87030120| PR|     7691| NULL|      NULL| NULL|      NULL|      NULL|    NULL|                NULL|             NULL|                     NULL|\n",
      "|      77431|         1|     56|                          1|        JOAO & MARIA|                 4|             2018-11-21|                       63|                      NULL|NULL|              1994-05-27|              4781400|                  NULL|               RUA|           ITABAIANA|  1015|                LOJA|              CENTRO|49015110| SE|     3105| NULL|      NULL| NULL|      NULL|      NULL|    NULL|                NULL|             NULL|                     NULL|\n",
      "|      78304|         1|     71|                          1|            DA TERRA|                 4|             2018-09-13|                       63|                      NULL|NULL|              1994-05-30|              6110801|                  NULL|               RUA|         COELHO NETO|    40|            APTO 201|              CENTRO|92310180| RS|     8589| NULL|      NULL| NULL|      NULL|      NULL|    NULL|                NULL|             NULL|                     NULL|\n",
      "|      79145|         1|     20|                          1|LEGIONARIAS DO BE...|                 8|             2008-12-31|                       71|                      NULL|NULL|              1984-06-19|              9430800|       9493600,9499500|             PRACA|         CEL CARRIJO|    01|                NULL|              CENTRO|75830002| GO|     9459| NULL|      NULL| NULL|      NULL|      NULL|    NULL|                NULL|             NULL|                     NULL|\n",
      "|      79668|         1|     76|                          1|RESTAURANTE E LAN...|                 4|             2018-12-12|                       63|                      NULL|NULL|              1994-06-01|              5611201|                  NULL|           AVENIDA|    LOURIVAL BARBOSA|   704|                NULL|              CENTRO|79130000| MS|     9143| NULL|      NULL| NULL|      NULL|      NULL|    NULL|                NULL|             NULL|                     NULL|\n",
      "|      82492|         1|      1|                          1|                NULL|                 4|             2018-11-23|                       63|                      NULL|NULL|              1994-06-01|              5611201|                  NULL|               RUA|FRANCISCO F ALBUQ...|   767|                NULL|              CENTRO|87301130| PR|     7483| NULL|      NULL| NULL|      NULL|      NULL|    NULL|                NULL|             NULL|                     NULL|\n",
      "|      83437|         1|     36|                          1|M&C BAZAR E ARMAR...|                 8|             2008-12-10|                        1|                      NULL|NULL|              1994-06-01|              4713004|                  NULL|               RUA|     JARDIM BOTANICO|   S/N|      LOTE 29 QD 207|  SAO JOAO DE MERITI|25570030| RJ|     5901| NULL|      NULL| NULL|      NULL|      NULL|    NULL|                NULL|             NULL|                     NULL|\n",
      "|      84817|         1|     95|                          1|                NULL|                 4|             2018-10-25|                       63|                      NULL|NULL|              1994-06-06|              5620101|                  NULL|           AVENIDA|              FRANCA|   S/N|    TER TUR MARITIMO|            COMERCIO|40010000| BA|     3849| NULL|      NULL| NULL|      NULL|      NULL|    NULL|                NULL|             NULL|                     NULL|\n",
      "|      84817|         2|     76|                          2|         CIA A BORDO|                 4|             2018-10-25|                       63|                      NULL|NULL|              1994-09-16|              4712100|                  NULL|           AVENIDA|      ESTADOS UNIDOS|    04|   SALAS 1101 E 1102|            COMERCIO|40010020| BA|     3849| NULL|      NULL| NULL|      NULL|      NULL|    NULL|                NULL|             NULL|                     NULL|\n",
      "|      85869|         1|     86|                          1|                NULL|                 8|             1997-08-31|                        9|                      NULL|NULL|              1994-06-01|              2512800|                  NULL|           AVENIDA|        PONTA GROSSA|  1352|                NULL|                SEDE|86820000| PR|     7467| NULL|      NULL| NULL|      NULL|      NULL|    NULL|                NULL|             NULL|                     NULL|\n",
      "|      87071|         1|     73|                          1|                NULL|                 8|             2015-02-09|                       73|                      NULL|NULL|              1994-06-01|              7112000|                  NULL|           AVENIDA|FERNAO DIAS PAES ...|  2161|             SALA 15|              CENTRO|13220005| SP|     7233| NULL|      NULL| NULL|      NULL|      NULL|    NULL|                NULL|             NULL|                     NULL|\n",
      "|      97967|         1|     33|                          1|           COTAS BAR|                 8|             2012-03-09|                        1|                      NULL|NULL|              1994-06-23|              5611203|                  NULL|               RUA|            TAQUARIL|   320|                NULL|             SAUDADE|30285380| MG|     4123| NULL|      NULL| NULL|      NULL|      NULL|    NULL|                NULL|             NULL|                     NULL|\n",
      "|      99166|         1|      7|                          1|UNITEL PRODUTOS E...|                 4|             2018-09-04|                       63|                      NULL|NULL|              1994-06-27|              4744001|  4789099,4751201,4...|               RUA|                C-17|   186|QUADRA58         ...|SETOR NOVO HORIZONTE|74365730| GO|     9373|   62|  32879292|   62|  32471583|        62|32471583|ef@orionauditoria...|             NULL|                     NULL|\n",
      "|      99425|         1|      8|                          1|TIMON COMERCIO DE...|                 8|             2001-12-14|                        1|                      NULL|NULL|              1994-06-28|              4784900|                  NULL|               RUA|        MIGUEL SIMAO|   936|                NULL|              CENTRO|65634065| MA|      937| NULL|      NULL| NULL|      NULL|      NULL|    NULL|                NULL|             NULL|                     NULL|\n",
      "|      99633|         1|      7|                          1|                NULL|                 8|             2008-12-31|                       71|                      NULL|NULL|              1994-06-23|              9529102|                  NULL|               RUA|               RUBIS|  1454|               PARTE|       ROCHA MIRANDA|21360510| RJ|     6001| NULL|      NULL| NULL|      NULL|      NULL|    NULL|                NULL|             NULL|                     NULL|\n",
      "|     100553|         1|     16|                          1|                NULL|                 4|             2018-09-20|                       63|                      NULL|NULL|              1994-06-29|              4330402|                  NULL|               RUA|            BLUMENAU|    58|                NULL| NOSSA SRA DE FATIMA|89610000| SC|     8131| NULL|      NULL| NULL|      NULL|      NULL|    NULL|                NULL|             NULL|                     NULL|\n",
      "|     101977|         1|      3|                          1|                NULL|                 8|             2008-12-31|                       71|                      NULL|NULL|              1994-06-29|              5611201|                  NULL|               RUA|        LAURO MULLER|   116| LJ 301 PT C 50J 3PA|            BOTAFOGO|22290160| RJ|     6001| NULL|      NULL| NULL|      NULL|      NULL|    NULL|                NULL|             NULL|                     NULL|\n",
      "|     102065|         1|     48|                          1|        REI DO SABOR|                 2|             2019-04-05|                        0|                      NULL|NULL|              1994-06-30|              5620101|  4641901,4641902,4...|               RUA|         MALVA VERDE|    22|                NULL|      TANCREDO NEVES|69087640| AM|      255|   92|  91163794|   92|  98197999|      NULL|    NULL|FRANCISCOSCOSTA62...|             NULL|                     NULL|\n",
      "|     104276|         1|     10|                          1|               CESAP|                 2|             1999-08-01|                        0|                      NULL|NULL|              1994-06-14|              9491000|                  NULL|               RUA|          DR FERRARI|   258|              CASA 1|     TODOS OS SANTOS|20770160| RJ|     6001| NULL|      NULL| NULL|      NULL|      NULL|    NULL|                NULL|             NULL|                     NULL|\n",
      "|     105139|         1|      8|                          1|                NULL|                 8|             2007-07-05|                        1|                      NULL|NULL|              1994-07-05|              4774100|                  NULL|           AVENIDA|        PADRE CLARET|   592|                NULL|              CENTRO|93280260| RS|     8651| NULL|      NULL| NULL|      NULL|      NULL|    NULL|                NULL|             NULL|                     NULL|\n",
      "|     106928|         1|     55|                          1|   KITLAR DECORACOES|                 4|             2018-10-25|                       63|                      NULL|NULL|              1994-07-05|              4754701|                  NULL|               RUA|TEODULO DE ALBUQU...|   216|       LJ 108 TERREO|           CABULA VI|41181250| BA|     3849| NULL|      NULL| NULL|      NULL|      NULL|    NULL|                NULL|             NULL|                     NULL|\n",
      "|     106998|         1|      3|                          1|                NULL|                 4|             2020-10-29|                       63|                      NULL|NULL|              1994-07-04|              3101200|                  NULL|               RUA|           GUAICURUS|   199|                NULL|       JARDIM MEUDOM|25953000| RJ|     5915| NULL|      NULL| NULL|      NULL|      NULL|    NULL|                NULL|             NULL|                     NULL|\n",
      "|     119467|         1|     55|                          1|                NULL|                 8|             2009-04-07|                       54|                      NULL|NULL|              1994-07-22|              4744005|                  NULL|           AVENIDA|         DOS TRILHOS|   300|                NULL|              CENTRO|12315310| SP|     6589| NULL|      NULL| NULL|      NULL|      NULL|    NULL|                NULL|             NULL|                     NULL|\n",
      "|     122420|         1|     40|                          1|                NULL|                 8|             2021-03-30|                        1|                      NULL|NULL|              1994-07-25|              4763603|                  NULL|               RUA|     ALBERTO FOLLONI|  1271|                NULL|                 AHU|80540000| PR|     7535| NULL|      NULL| NULL|      NULL|      NULL|    NULL|                NULL|             NULL|                     NULL|\n",
      "+-----------+----------+-------+---------------------------+--------------------+------------------+-----------------------+-------------------------+--------------------------+----+------------------------+---------------------+----------------------+------------------+--------------------+------+--------------------+--------------------+--------+---+---------+-----+----------+-----+----------+----------+--------+--------------------+-----------------+-------------------------+\n"
     ]
    }
   ],
   "source": [
    "estabelecimentos_df.show(50)"
   ],
   "metadata": {
    "collapsed": false,
    "ExecuteTime": {
     "end_time": "2024-01-14T21:48:53.689309300Z",
     "start_time": "2024-01-14T21:48:53.295659700Z"
    }
   },
   "id": "5fa94e798a30cc9d"
  },
  {
   "cell_type": "code",
   "execution_count": 24,
   "outputs": [
    {
     "name": "stdout",
     "output_type": "stream",
     "text": [
      "+-----------+----------------------+-----------------------------+--------------------+---------------------+-------------------------+----+-------------------+---------------------+-----------------------------------+------------+\n",
      "|cnpj_basico|identificador_de_socio|nome_do_socio_ou_razao_social|cnpj_ou_cpf_do_socio|qualificacao_do_socio|data_de_entrada_sociedade|pais|representante_legal|nome_do_representante|qualificacao_do_representante_legal|faixa_etaria|\n",
      "+-----------+----------------------+-----------------------------+--------------------+---------------------+-------------------------+----+-------------------+---------------------+-----------------------------------+------------+\n",
      "|        403|                     2|         ARCHIBALDE POUZA ...|         ***550688**|                   49|                 19941019|NULL|        ***000000**|                 NULL|                                  0|           8|\n",
      "|        403|                     2|         MARIA LUCIA DE AR...|         ***358948**|                   22|                 19941019|NULL|        ***550688**| ARCHIBALDE POUZA ...|                                  5|           7|\n",
      "|      52803|                     2|            PAULA PAVAN MAMED|         ***454918**|                   22|                 19980831|NULL|        ***000000**|                 NULL|                                  0|           6|\n",
      "|      52803|                     2|          NASSIM MAMED JUNIOR|         ***040608**|                   49|                 19980831|NULL|        ***000000**|                 NULL|                                  0|           6|\n",
      "|      52803|                     2|         CARLA PAVAN MAMED...|         ***454898**|                   22|                 20130812|NULL|        ***000000**|                 NULL|                                  0|           6|\n",
      "+-----------+----------------------+-----------------------------+--------------------+---------------------+-------------------------+----+-------------------+---------------------+-----------------------------------+------------+\n"
     ]
    }
   ],
   "source": [
    "socios_df.show(5)"
   ],
   "metadata": {
    "collapsed": false,
    "ExecuteTime": {
     "end_time": "2024-01-14T21:48:53.737446300Z",
     "start_time": "2024-01-14T21:48:53.548015300Z"
    }
   },
   "id": "7f676e26eba8f9e5"
  },
  {
   "cell_type": "code",
   "execution_count": 25,
   "outputs": [
    {
     "name": "stdout",
     "output_type": "stream",
     "text": [
      "root\n",
      " |-- cnpj_basico: integer (nullable = true)\n",
      " |-- identificador_de_socio: integer (nullable = true)\n",
      " |-- nome_do_socio_ou_razao_social: string (nullable = true)\n",
      " |-- cnpj_ou_cpf_do_socio: string (nullable = true)\n",
      " |-- qualificacao_do_socio: integer (nullable = true)\n",
      " |-- data_de_entrada_sociedade: date (nullable = true)\n",
      " |-- pais: integer (nullable = true)\n",
      " |-- representante_legal: string (nullable = true)\n",
      " |-- nome_do_representante: string (nullable = true)\n",
      " |-- qualificacao_do_representante_legal: integer (nullable = true)\n",
      " |-- faixa_etaria: integer (nullable = true)\n"
     ]
    }
   ],
   "source": [
    "socios_df = socios_df.withColumn('data_de_entrada_sociedade',\n",
    "                                 f.to_date(socios_df.data_de_entrada_sociedade.cast(StringType()), 'yyyyMMdd'))\n",
    "socios_df.printSchema()"
   ],
   "metadata": {
    "collapsed": false,
    "ExecuteTime": {
     "end_time": "2024-01-14T21:48:53.744946400Z",
     "start_time": "2024-01-14T21:48:53.631377Z"
    }
   },
   "id": "730211babb401171"
  },
  {
   "cell_type": "code",
   "execution_count": 26,
   "outputs": [
    {
     "name": "stdout",
     "output_type": "stream",
     "text": [
      "+-----------+----------------------+-----------------------------+--------------------+---------------------+-------------------------+----+-------------------+---------------------+-----------------------------------+------------+\n",
      "|cnpj_basico|identificador_de_socio|nome_do_socio_ou_razao_social|cnpj_ou_cpf_do_socio|qualificacao_do_socio|data_de_entrada_sociedade|pais|representante_legal|nome_do_representante|qualificacao_do_representante_legal|faixa_etaria|\n",
      "+-----------+----------------------+-----------------------------+--------------------+---------------------+-------------------------+----+-------------------+---------------------+-----------------------------------+------------+\n",
      "|        403|                     2|         ARCHIBALDE POUZA ...|         ***550688**|                   49|               1994-10-19|NULL|        ***000000**|                 NULL|                                  0|           8|\n",
      "|        403|                     2|         MARIA LUCIA DE AR...|         ***358948**|                   22|               1994-10-19|NULL|        ***550688**| ARCHIBALDE POUZA ...|                                  5|           7|\n",
      "|      52803|                     2|            PAULA PAVAN MAMED|         ***454918**|                   22|               1998-08-31|NULL|        ***000000**|                 NULL|                                  0|           6|\n",
      "|      52803|                     2|          NASSIM MAMED JUNIOR|         ***040608**|                   49|               1998-08-31|NULL|        ***000000**|                 NULL|                                  0|           6|\n",
      "|      52803|                     2|         CARLA PAVAN MAMED...|         ***454898**|                   22|               2013-08-12|NULL|        ***000000**|                 NULL|                                  0|           6|\n",
      "+-----------+----------------------+-----------------------------+--------------------+---------------------+-------------------------+----+-------------------+---------------------+-----------------------------------+------------+\n"
     ]
    }
   ],
   "source": [
    "socios_df.show(5)"
   ],
   "metadata": {
    "collapsed": false,
    "ExecuteTime": {
     "end_time": "2024-01-14T21:48:53.884684400Z",
     "start_time": "2024-01-14T21:48:53.648492100Z"
    }
   },
   "id": "add0babf6775f0e9"
  },
  {
   "cell_type": "code",
   "execution_count": 27,
   "outputs": [
    {
     "name": "stdout",
     "output_type": "stream",
     "text": [
      "+-----------------+----------------+-------------------------+\n",
      "|natureza_juridica|porte_da_empresa|capital_social_da_empresa|\n",
      "+-----------------+----------------+-------------------------+\n",
      "|             2240|               1|                      0.0|\n",
      "|             2062|               5|                      0.0|\n",
      "|             3034|               5|                      0.0|\n",
      "|             2135|               5|                      0.0|\n",
      "|             2062|               1|                   4000.0|\n",
      "+-----------------+----------------+-------------------------+\n"
     ]
    }
   ],
   "source": [
    "empresas_df \\\n",
    "    .select('natureza_juridica', 'porte_da_empresa', 'capital_social_da_empresa') \\\n",
    "    .show(n=5)"
   ],
   "metadata": {
    "collapsed": false,
    "ExecuteTime": {
     "end_time": "2024-01-14T21:48:54.033937Z",
     "start_time": "2024-01-14T21:48:53.742806Z"
    }
   },
   "id": "51bb9d6857d31eaf"
  },
  {
   "cell_type": "code",
   "execution_count": 28,
   "outputs": [
    {
     "name": "stdout",
     "output_type": "stream",
     "text": [
      "+-----------------------------+------------+-------------------------+--------------+\n",
      "|nome_do_socio_ou_razao_social|faixa_etaria|data_de_entrada_sociedade|ano_de_entrada|\n",
      "+-----------------------------+------------+-------------------------+--------------+\n",
      "|         ARCHIBALDE POUZA ...|           8|               1994-10-19|          1994|\n",
      "|         MARIA LUCIA DE AR...|           7|               1994-10-19|          1994|\n",
      "|            PAULA PAVAN MAMED|           6|               1998-08-31|          1998|\n",
      "|          NASSIM MAMED JUNIOR|           6|               1998-08-31|          1998|\n",
      "|         CARLA PAVAN MAMED...|           6|               2013-08-12|          2013|\n",
      "+-----------------------------+------------+-------------------------+--------------+\n"
     ]
    }
   ],
   "source": [
    "socios_df \\\n",
    "    .select('nome_do_socio_ou_razao_social', 'faixa_etaria', 'data_de_entrada_sociedade',\n",
    "            f.year('data_de_entrada_sociedade').alias('ano_de_entrada')) \\\n",
    "    .show(n=5)"
   ],
   "metadata": {
    "collapsed": false,
    "ExecuteTime": {
     "end_time": "2024-01-14T21:48:54.191258Z",
     "start_time": "2024-01-14T21:48:53.875802600Z"
    }
   },
   "id": "1de9f79212d3ea1a"
  },
  {
   "cell_type": "code",
   "execution_count": 29,
   "outputs": [
    {
     "name": "stdout",
     "output_type": "stream",
     "text": [
      "+--------------------+---------+------------------------+-----------------------+-----------------------+\n",
      "|       nome_fantasia|municipio|data_de_inicio_atividade|ano_de_inicio_atividade|mes_de_inicio_atividade|\n",
      "+--------------------+---------+------------------------+-----------------------+-----------------------+\n",
      "|  PAPAI NOEL IMOVEIS|     7107|              1994-11-07|                   1994|                     11|\n",
      "|                NULL|     7107|              1999-06-29|                   1999|                      6|\n",
      "|AGNES COMERCIO DE...|     7107|              1994-05-18|                   1994|                      5|\n",
      "|                NULL|     7079|              1994-05-20|                   1994|                      5|\n",
      "|                NULL|     6113|              1994-05-20|                   1994|                      5|\n",
      "+--------------------+---------+------------------------+-----------------------+-----------------------+\n"
     ]
    }
   ],
   "source": [
    "estabelecimentos_df \\\n",
    "    .select('nome_fantasia', 'municipio', 'data_de_inicio_atividade',\n",
    "            f.year('data_de_inicio_atividade').alias('ano_de_inicio_atividade'),\n",
    "            f.month('data_de_inicio_atividade').alias('mes_de_inicio_atividade')) \\\n",
    "    .show(n=5)"
   ],
   "metadata": {
    "collapsed": false,
    "ExecuteTime": {
     "end_time": "2024-01-14T21:48:54.310179700Z",
     "start_time": "2024-01-14T21:48:54.009042700Z"
    }
   },
   "id": "b3a0d8ee44f521a0"
  },
  {
   "cell_type": "code",
   "execution_count": 30,
   "outputs": [
    {
     "name": "stdout",
     "output_type": "stream",
     "text": [
      "+------------------------------+-----+\n",
      "|nome                          |idade|\n",
      "+------------------------------+-----+\n",
      "|GISELLE PAULA GUIMARAES CASTRO|15   |\n",
      "|ELAINE GARCIA DE OLIVEIRA     |22   |\n",
      "|JOAO CARLOS ABNER DE LOURDES  |43   |\n",
      "|MARTA ZELI FERREIRA           |24   |\n",
      "|LAUDENETE WIGGERS ROEDER      |51   |\n",
      "+------------------------------+-----+\n"
     ]
    }
   ],
   "source": [
    "data = [\n",
    "    ('GISELLE PAULA GUIMARAES CASTRO', 15),\n",
    "    ('ELAINE GARCIA DE OLIVEIRA', 22),\n",
    "    ('JOAO CARLOS ABNER DE LOURDES', 43),\n",
    "    ('MARTA ZELI FERREIRA', 24),\n",
    "    ('LAUDENETE WIGGERS ROEDER', 51)\n",
    "]\n",
    "colNames = ['nome', 'idade']\n",
    "df = spark.createDataFrame(data, colNames)\n",
    "df.show(truncate=False)"
   ],
   "metadata": {
    "collapsed": false,
    "ExecuteTime": {
     "end_time": "2024-01-14T21:48:56.323793900Z",
     "start_time": "2024-01-14T21:48:54.149184700Z"
    }
   },
   "id": "83a0d05108ad778b"
  },
  {
   "cell_type": "code",
   "execution_count": 31,
   "outputs": [
    {
     "name": "stdout",
     "output_type": "stream",
     "text": [
      "+-----------------+-----+\n",
      "|            ident|idade|\n",
      "+-----------------+-----+\n",
      "|  CASTRO, GISELLE|   15|\n",
      "| OLIVEIRA, ELAINE|   22|\n",
      "|    LOURDES, JOAO|   43|\n",
      "|  FERREIRA, MARTA|   24|\n",
      "|ROEDER, LAUDENETE|   51|\n",
      "+-----------------+-----+\n"
     ]
    }
   ],
   "source": [
    "df.select(f.concat_ws(', ', f.substring_index('nome', ' ', -1), f.substring_index('nome', ' ', 1)).alias('ident'),\n",
    "          'idade').show()"
   ],
   "metadata": {
    "collapsed": false,
    "ExecuteTime": {
     "end_time": "2024-01-14T21:48:56.779755400Z",
     "start_time": "2024-01-14T21:48:56.326299Z"
    }
   },
   "id": "37500eab2d68cb10"
  },
  {
   "cell_type": "code",
   "execution_count": 32,
   "outputs": [
    {
     "name": "stdout",
     "output_type": "stream",
     "text": [
      "+---------------------+-----+\n",
      "|split(nome,  , -1)[1]|idade|\n",
      "+---------------------+-----+\n",
      "|PAULA                |15   |\n",
      "|GARCIA               |22   |\n",
      "|CARLOS               |43   |\n",
      "|ZELI                 |24   |\n",
      "|WIGGERS              |51   |\n",
      "+---------------------+-----+\n"
     ]
    }
   ],
   "source": [
    "df.select(f.split('nome', ' ')[1], 'idade').show(truncate=False)"
   ],
   "metadata": {
    "collapsed": false,
    "ExecuteTime": {
     "end_time": "2024-01-14T21:48:57.239673200Z",
     "start_time": "2024-01-14T21:48:56.779755400Z"
    }
   },
   "id": "3a63cea0afe4deea"
  },
  {
   "cell_type": "code",
   "execution_count": 33,
   "outputs": [
    {
     "name": "stdout",
     "output_type": "stream",
     "text": [
      "+----+\n",
      "|data|\n",
      "+----+\n",
      "|   1|\n",
      "|   2|\n",
      "|   3|\n",
      "|NULL|\n",
      "+----+\n"
     ]
    }
   ],
   "source": [
    "df = spark.createDataFrame([(1,), (2,), (3,), (None,)], ['data'])\n",
    "df.show()"
   ],
   "metadata": {
    "collapsed": false,
    "ExecuteTime": {
     "end_time": "2024-01-14T21:48:57.698199200Z",
     "start_time": "2024-01-14T21:48:57.241015300Z"
    }
   },
   "id": "1981e81959ab3934"
  },
  {
   "cell_type": "code",
   "execution_count": 34,
   "outputs": [
    {
     "name": "stdout",
     "output_type": "stream",
     "text": [
      "+----+\n",
      "|data|\n",
      "+----+\n",
      "| 1.0|\n",
      "| 2.0|\n",
      "| 3.0|\n",
      "| NaN|\n",
      "+----+\n"
     ]
    }
   ],
   "source": [
    "df = spark.createDataFrame([(1.,), (2.,), (3.,), (float('nan'),)], ['data'])\n",
    "df.show()"
   ],
   "metadata": {
    "collapsed": false,
    "ExecuteTime": {
     "end_time": "2024-01-14T21:48:58.205334800Z",
     "start_time": "2024-01-14T21:48:57.697177500Z"
    }
   },
   "id": "fe386abb92bfa134"
  },
  {
   "cell_type": "code",
   "execution_count": 35,
   "outputs": [
    {
     "name": "stdout",
     "output_type": "stream",
     "text": [
      "+----+\n",
      "|data|\n",
      "+----+\n",
      "| 1.0|\n",
      "| 2.0|\n",
      "| 3.0|\n",
      "|NULL|\n",
      "+----+\n"
     ]
    }
   ],
   "source": [
    "df = spark.createDataFrame([(1.,), (2.,), (3.,), (None,)], ['data'])\n",
    "df.show()"
   ],
   "metadata": {
    "collapsed": false,
    "ExecuteTime": {
     "end_time": "2024-01-14T21:48:58.640232800Z",
     "start_time": "2024-01-14T21:48:58.203303900Z"
    }
   },
   "id": "8f45dc4162fd1a9c"
  },
  {
   "cell_type": "code",
   "execution_count": 36,
   "outputs": [
    {
     "name": "stdout",
     "output_type": "stream",
     "text": [
      "+-----------+----------------------+-----------------------------+--------------------+---------------------+-------------------------+----+-------------------+---------------------+-----------------------------------+------------+\n",
      "|cnpj_basico|identificador_de_socio|nome_do_socio_ou_razao_social|cnpj_ou_cpf_do_socio|qualificacao_do_socio|data_de_entrada_sociedade|pais|representante_legal|nome_do_representante|qualificacao_do_representante_legal|faixa_etaria|\n",
      "+-----------+----------------------+-----------------------------+--------------------+---------------------+-------------------------+----+-------------------+---------------------+-----------------------------------+------------+\n",
      "|        403|                     2|         ARCHIBALDE POUZA ...|         ***550688**|                   49|               1994-10-19|NULL|        ***000000**|                 NULL|                                  0|           8|\n",
      "|        403|                     2|         MARIA LUCIA DE AR...|         ***358948**|                   22|               1994-10-19|NULL|        ***550688**| ARCHIBALDE POUZA ...|                                  5|           7|\n",
      "|      52803|                     2|            PAULA PAVAN MAMED|         ***454918**|                   22|               1998-08-31|NULL|        ***000000**|                 NULL|                                  0|           6|\n",
      "|      52803|                     2|          NASSIM MAMED JUNIOR|         ***040608**|                   49|               1998-08-31|NULL|        ***000000**|                 NULL|                                  0|           6|\n",
      "|      52803|                     2|         CARLA PAVAN MAMED...|         ***454898**|                   22|               2013-08-12|NULL|        ***000000**|                 NULL|                                  0|           6|\n",
      "+-----------+----------------------+-----------------------------+--------------------+---------------------+-------------------------+----+-------------------+---------------------+-----------------------------------+------------+\n"
     ]
    }
   ],
   "source": [
    "socios_df.limit(5).show()"
   ],
   "metadata": {
    "collapsed": false,
    "ExecuteTime": {
     "end_time": "2024-01-14T21:48:58.764175500Z",
     "start_time": "2024-01-14T21:48:58.642236900Z"
    }
   },
   "id": "6e6b619a28ab76b"
  },
  {
   "cell_type": "code",
   "execution_count": 37,
   "outputs": [
    {
     "name": "stdout",
     "output_type": "stream",
     "text": [
      "+-----------+----------------------+-----------------------------+--------------------+---------------------+-------------------------+-------+-------------------+---------------------+-----------------------------------+------------+\n",
      "|cnpj_basico|identificador_de_socio|nome_do_socio_ou_razao_social|cnpj_ou_cpf_do_socio|qualificacao_do_socio|data_de_entrada_sociedade|   pais|representante_legal|nome_do_representante|qualificacao_do_representante_legal|faixa_etaria|\n",
      "+-----------+----------------------+-----------------------------+--------------------+---------------------+-------------------------+-------+-------------------+---------------------+-----------------------------------+------------+\n",
      "|          0|                     0|                          208|                1234|                    0|                        1|2038255|                  0|              1995432|                                  0|           0|\n",
      "+-----------+----------------------+-----------------------------+--------------------+---------------------+-------------------------+-------+-------------------+---------------------+-----------------------------------+------------+\n"
     ]
    }
   ],
   "source": [
    "socios_df.select(\n",
    "    [f.count(f.when(f.isnull(c), 1)).alias(c) for c in socios_df.columns]\n",
    ").show()"
   ],
   "metadata": {
    "collapsed": false,
    "ExecuteTime": {
     "end_time": "2024-01-14T21:49:01.349460600Z",
     "start_time": "2024-01-14T21:48:58.717485200Z"
    }
   },
   "id": "50fd41bc4179d0d4"
  },
  {
   "cell_type": "code",
   "execution_count": 38,
   "outputs": [
    {
     "name": "stdout",
     "output_type": "stream",
     "text": [
      "+-----------+----------------------+-----------------------------+--------------------+---------------------+-------------------------+----+-------------------+---------------------+-----------------------------------+------------+\n",
      "|cnpj_basico|identificador_de_socio|nome_do_socio_ou_razao_social|cnpj_ou_cpf_do_socio|qualificacao_do_socio|data_de_entrada_sociedade|pais|representante_legal|nome_do_representante|qualificacao_do_representante_legal|faixa_etaria|\n",
      "+-----------+----------------------+-----------------------------+--------------------+---------------------+-------------------------+----+-------------------+---------------------+-----------------------------------+------------+\n",
      "|        403|                     2|         ARCHIBALDE POUZA ...|         ***550688**|                   49|               1994-10-19|NULL|        ***000000**|                    -|                                  0|           8|\n",
      "|        403|                     2|         MARIA LUCIA DE AR...|         ***358948**|                   22|               1994-10-19|NULL|        ***550688**| ARCHIBALDE POUZA ...|                                  5|           7|\n",
      "|      52803|                     2|            PAULA PAVAN MAMED|         ***454918**|                   22|               1998-08-31|NULL|        ***000000**|                    -|                                  0|           6|\n",
      "|      52803|                     2|          NASSIM MAMED JUNIOR|         ***040608**|                   49|               1998-08-31|NULL|        ***000000**|                    -|                                  0|           6|\n",
      "|      52803|                     2|         CARLA PAVAN MAMED...|         ***454898**|                   22|               2013-08-12|NULL|        ***000000**|                    -|                                  0|           6|\n",
      "+-----------+----------------------+-----------------------------+--------------------+---------------------+-------------------------+----+-------------------+---------------------+-----------------------------------+------------+\n"
     ]
    }
   ],
   "source": [
    "socios_df.na.fill('-').limit(5).show()"
   ],
   "metadata": {
    "collapsed": false,
    "ExecuteTime": {
     "end_time": "2024-01-14T21:49:01.481230900Z",
     "start_time": "2024-01-14T21:49:01.348416Z"
    }
   },
   "id": "48de0a1d2876c6fb"
  },
  {
   "cell_type": "code",
   "execution_count": 39,
   "outputs": [
    {
     "name": "stdout",
     "output_type": "stream",
     "text": [
      "+-----------------------------+------------+--------------+\n",
      "|nome_do_socio_ou_razao_social|faixa_etaria|ano_de_entrada|\n",
      "+-----------------------------+------------+--------------+\n",
      "|            LUIZ ROBERTO CRUZ|           8|          2021|\n",
      "|         FLAVIO SOARES FER...|           6|          2021|\n",
      "|         KASSIANO RODRIGO ...|           4|          2021|\n",
      "|         PRISCILA DA SILVA...|           3|          2021|\n",
      "|         ANTONIO JOSE HENR...|           3|          2021|\n",
      "+-----------------------------+------------+--------------+\n"
     ]
    }
   ],
   "source": [
    "socios_df \\\n",
    "    .select('nome_do_socio_ou_razao_social', 'faixa_etaria',\n",
    "            f.year('data_de_entrada_sociedade').alias('ano_de_entrada')) \\\n",
    "    .orderBy('ano_de_entrada', ascending=False).show(5)"
   ],
   "metadata": {
    "collapsed": false,
    "ExecuteTime": {
     "end_time": "2024-01-14T21:49:02.883671400Z",
     "start_time": "2024-01-14T21:49:01.448815200Z"
    }
   },
   "id": "7070c5f734f5a2f7"
  },
  {
   "cell_type": "code",
   "execution_count": 40,
   "outputs": [
    {
     "name": "stdout",
     "output_type": "stream",
     "text": [
      "+-----------------------------+------------+--------------+\n",
      "|nome_do_socio_ou_razao_social|faixa_etaria|ano_de_entrada|\n",
      "+-----------------------------+------------+--------------+\n",
      "|                  INGO DOHLER|           9|          2021|\n",
      "|            YARA CABRAL PINTO|           9|          2021|\n",
      "|         EDGAR FRANCISCO D...|           9|          2021|\n",
      "|         JOSE LUIZ DE AMOR...|           9|          2021|\n",
      "|              ARMANDO FRANZEN|           9|          2021|\n",
      "+-----------------------------+------------+--------------+\n"
     ]
    }
   ],
   "source": [
    "socios_df \\\n",
    "    .select('nome_do_socio_ou_razao_social', 'faixa_etaria',\n",
    "            f.year('data_de_entrada_sociedade').alias('ano_de_entrada')) \\\n",
    "    .orderBy(['ano_de_entrada', 'faixa_etaria'], ascending=[False, False]) \\\n",
    "    .show(5)"
   ],
   "metadata": {
    "collapsed": false,
    "ExecuteTime": {
     "end_time": "2024-01-14T21:49:03.979448200Z",
     "start_time": "2024-01-14T21:49:02.883671400Z"
    }
   },
   "id": "3294e56089987a8e"
  },
  {
   "cell_type": "code",
   "execution_count": 41,
   "outputs": [
    {
     "name": "stdout",
     "output_type": "stream",
     "text": [
      "+---------------------+---+----+\n",
      "|nome                 |mes|ano |\n",
      "+---------------------+---+----+\n",
      "|CARMINA RABELO       |4  |2010|\n",
      "|HERONDINA PEREIRA    |6  |2009|\n",
      "|IRANI DOS SANTOS     |12 |2010|\n",
      "|JOAO BOSCO DA FONSECA|3  |2009|\n",
      "|CARLITO SOUZA        |1  |2010|\n",
      "|WALTER DIAS          |9  |2009|\n",
      "|BRENO VENTUROSO      |1  |2009|\n",
      "|ADELINA TEIXEIRA     |5  |2009|\n",
      "|ELIO SILVA           |7  |2010|\n",
      "|DENIS FONSECA        |6  |2010|\n",
      "+---------------------+---+----+\n"
     ]
    }
   ],
   "source": [
    "data = [\n",
    "    ('CARMINA RABELO', 4, 2010),\n",
    "    ('HERONDINA PEREIRA', 6, 2009),\n",
    "    ('IRANI DOS SANTOS', 12, 2010),\n",
    "    ('JOAO BOSCO DA FONSECA', 3, 2009),\n",
    "    ('CARLITO SOUZA', 1, 2010),\n",
    "    ('WALTER DIAS', 9, 2009),\n",
    "    ('BRENO VENTUROSO', 1, 2009),\n",
    "    ('ADELINA TEIXEIRA', 5, 2009),\n",
    "    ('ELIO SILVA', 7, 2010),\n",
    "    ('DENIS FONSECA', 6, 2010)\n",
    "]\n",
    "colNames = ['nome', 'mes', 'ano']\n",
    "df = spark.createDataFrame(data, colNames)\n",
    "df.show(truncate=False)"
   ],
   "metadata": {
    "collapsed": false,
    "ExecuteTime": {
     "end_time": "2024-01-14T21:49:04.424803600Z",
     "start_time": "2024-01-14T21:49:03.982561100Z"
    }
   },
   "id": "ada49dbf40d4733c"
  },
  {
   "cell_type": "code",
   "execution_count": 42,
   "outputs": [
    {
     "name": "stdout",
     "output_type": "stream",
     "text": [
      "+---------------------+---+----+\n",
      "|nome                 |mes|ano |\n",
      "+---------------------+---+----+\n",
      "|IRANI DOS SANTOS     |12 |2010|\n",
      "|ELIO SILVA           |7  |2010|\n",
      "|DENIS FONSECA        |6  |2010|\n",
      "|CARMINA RABELO       |4  |2010|\n",
      "|CARLITO SOUZA        |1  |2010|\n",
      "|WALTER DIAS          |9  |2009|\n",
      "|HERONDINA PEREIRA    |6  |2009|\n",
      "|ADELINA TEIXEIRA     |5  |2009|\n",
      "|JOAO BOSCO DA FONSECA|3  |2009|\n",
      "|BRENO VENTUROSO      |1  |2009|\n",
      "+---------------------+---+----+\n"
     ]
    }
   ],
   "source": [
    "df.select('*') \\\n",
    "    .orderBy(['ano', 'mes'], ascending=[False, False]).show(truncate=False)"
   ],
   "metadata": {
    "collapsed": false,
    "ExecuteTime": {
     "end_time": "2024-01-14T21:49:04.829397900Z",
     "start_time": "2024-01-14T21:49:04.427961100Z"
    }
   },
   "id": "9d5cbe89c1caf247"
  },
  {
   "cell_type": "code",
   "execution_count": 43,
   "outputs": [
    {
     "name": "stdout",
     "output_type": "stream",
     "text": [
      "+--------------------+---------------+\n",
      "|                nome|data_nascimento|\n",
      "+--------------------+---------------+\n",
      "|    IRANI DOS SANTOS|        12-2010|\n",
      "|          ELIO SILVA|         7-2010|\n",
      "|       DENIS FONSECA|         6-2010|\n",
      "|      CARMINA RABELO|         4-2010|\n",
      "|       CARLITO SOUZA|         1-2010|\n",
      "|         WALTER DIAS|         9-2009|\n",
      "|   HERONDINA PEREIRA|         6-2009|\n",
      "|    ADELINA TEIXEIRA|         5-2009|\n",
      "|JOAO BOSCO DA FON...|         3-2009|\n",
      "|     BRENO VENTUROSO|         1-2009|\n",
      "+--------------------+---------------+\n"
     ]
    }
   ],
   "source": [
    "df.select('*') \\\n",
    "    .orderBy(['ano', 'mes'], ascending=[False, False]) \\\n",
    "    .withColumn('data_nascimento', f.concat_ws('-', f.col('mes'), f.col('ano'))) \\\n",
    "    .drop(f.col('mes'), f.col('ano')) \\\n",
    "    .show()"
   ],
   "metadata": {
    "collapsed": false,
    "ExecuteTime": {
     "end_time": "2024-01-14T21:49:05.181738500Z",
     "start_time": "2024-01-14T21:49:04.814019200Z"
    }
   },
   "id": "3033356bc4409ac"
  },
  {
   "cell_type": "code",
   "execution_count": 44,
   "outputs": [
    {
     "name": "stdout",
     "output_type": "stream",
     "text": [
      "+-----------+------------------------------------+-----------------+---------------------------+-------------------------+----------------+---------------------------+\n",
      "|cnpj_basico|razao_social_nome_empresarial       |natureza_juridica|qualificacao_do_responsavel|capital_social_da_empresa|porte_da_empresa|ente_federativo_responsavel|\n",
      "+-----------+------------------------------------+-----------------+---------------------------+-------------------------+----------------+---------------------------+\n",
      "|17350147   |ERIK MARCELO DOS SANTOS 42107848858 |2135             |50                         |50.0                     |1               |NULL                       |\n",
      "|17833214   |ALEXANDRE MACHADO LIMA 73750123772  |2135             |50                         |50.0                     |1               |NULL                       |\n",
      "|20860830   |YASMIN MOURA DA FONSECA 13457709793 |2135             |50                         |50.0                     |1               |NULL                       |\n",
      "|22242856   |JOAO CESAR MESSIAS 08707149883      |2135             |50                         |50.0                     |1               |NULL                       |\n",
      "|23238540   |EVERTON ROBERTO DA SILVA 42101963809|2135             |50                         |50.0                     |1               |NULL                       |\n",
      "+-----------+------------------------------------+-----------------+---------------------------+-------------------------+----------------+---------------------------+\n"
     ]
    }
   ],
   "source": [
    "empresas_df \\\n",
    "    .filter('capital_social_da_empresa==50') \\\n",
    "    .show(5, truncate=False)"
   ],
   "metadata": {
    "collapsed": false,
    "ExecuteTime": {
     "end_time": "2024-01-14T21:49:05.398597800Z",
     "start_time": "2024-01-14T21:49:05.182762300Z"
    }
   },
   "id": "72e7e10f9ff60d4a"
  },
  {
   "cell_type": "code",
   "execution_count": 45,
   "outputs": [
    {
     "name": "stdout",
     "output_type": "stream",
     "text": [
      "+-------------------------------+\n",
      "|nome_do_socio_ou_razao_social  |\n",
      "+-------------------------------+\n",
      "|RODRIGO RITTER MAIA DIAS       |\n",
      "|RODRIGO DE ALMEIDA DIAS        |\n",
      "|RODRIGO COELHO DIAS            |\n",
      "|RODRIGO CESAR SILVA DIAS       |\n",
      "|RODRIGO BERNARDINI DIAS        |\n",
      "|RODRIGO PINHEIRO DIAS          |\n",
      "|RODRIGO SOUZA DIAS             |\n",
      "|RODRIGO ROBERTO DIAS           |\n",
      "|RODRIGO OLIVEIRA DE CASTRO DIAS|\n",
      "|RODRIGO ALVES DIAS             |\n",
      "+-------------------------------+\n"
     ]
    }
   ],
   "source": [
    "socios_df \\\n",
    "    .select('nome_do_socio_ou_razao_social') \\\n",
    "    .filter(socios_df.nome_do_socio_ou_razao_social.startswith('RODRIGO')) \\\n",
    "    .filter(socios_df.nome_do_socio_ou_razao_social.endswith('DIAS')) \\\n",
    "    .limit(10).show(truncate=False)"
   ],
   "metadata": {
    "collapsed": false,
    "ExecuteTime": {
     "end_time": "2024-01-14T21:49:05.988405700Z",
     "start_time": "2024-01-14T21:49:05.399635Z"
    }
   },
   "id": "3092f8d666db994e"
  },
  {
   "cell_type": "code",
   "execution_count": 46,
   "outputs": [
    {
     "name": "stdout",
     "output_type": "stream",
     "text": [
      "+---------------------+---+----+\n",
      "|nome                 |mes|ano |\n",
      "+---------------------+---+----+\n",
      "|HERONDINA PEREIRA    |6  |2009|\n",
      "|JOAO BOSCO DA FONSECA|3  |2009|\n",
      "|BRENO VENTUROSO      |1  |2009|\n",
      "|ADELINA TEIXEIRA     |5  |2009|\n",
      "+---------------------+---+----+\n",
      "+---------------------+---+----+\n",
      "|nome                 |mes|ano |\n",
      "+---------------------+---+----+\n",
      "|HERONDINA PEREIRA    |6  |2009|\n",
      "|JOAO BOSCO DA FONSECA|3  |2009|\n",
      "|BRENO VENTUROSO      |1  |2009|\n",
      "|ADELINA TEIXEIRA     |5  |2009|\n",
      "+---------------------+---+----+\n"
     ]
    }
   ],
   "source": [
    "data = [\n",
    "    ('CARMINA RABELO', 4, 2010),\n",
    "    ('HERONDINA PEREIRA', 6, 2009),\n",
    "    ('IRANI DOS SANTOS', 12, 2010),\n",
    "    ('JOAO BOSCO DA FONSECA', 3, 2009),\n",
    "    ('CARLITO SOUZA', 1, 2010),\n",
    "    ('WALTER DIAS', 9, 2009),\n",
    "    ('BRENO VENTUROSO', 1, 2009),\n",
    "    ('ADELINA TEIXEIRA', 5, 2009),\n",
    "    ('ELIO SILVA', 7, 2010),\n",
    "    ('DENIS FONSECA', 6, 2010)\n",
    "]\n",
    "colNames = ['nome', 'mes', 'ano']\n",
    "df = spark.createDataFrame(data, colNames)\n",
    "df.filter(col('ano') == 2009).filter('mes<=6').show(truncate=False)\n",
    "df.filter('ano==2009 and mes<=6').show(truncate=False)"
   ],
   "metadata": {
    "collapsed": false,
    "ExecuteTime": {
     "end_time": "2024-01-14T21:49:07.001898100Z",
     "start_time": "2024-01-14T21:49:05.981900600Z"
    }
   },
   "id": "bf76111ec7c0bd0b"
  },
  {
   "cell_type": "code",
   "execution_count": 47,
   "outputs": [
    {
     "name": "stdout",
     "output_type": "stream",
     "text": [
      "+--------------------+\n",
      "|                data|\n",
      "+--------------------+\n",
      "|  RESTAURANTE DO RUI|\n",
      "|Juca restaurantes...|\n",
      "|    Joca Restaurante|\n",
      "|     Alura Refeições|\n",
      "+--------------------+\n"
     ]
    }
   ],
   "source": [
    "df = spark.createDataFrame(\n",
    "    [('RESTAURANTE DO RUI',), ('Juca restaurantes ltda.',), ('Joca Restaurante',), ('Alura Refeições',)], ['data'])\n",
    "df.show()"
   ],
   "metadata": {
    "collapsed": false,
    "ExecuteTime": {
     "end_time": "2024-01-14T21:49:07.445738200Z",
     "start_time": "2024-01-14T21:49:06.997530600Z"
    }
   },
   "id": "19db9fffefe724d8"
  },
  {
   "cell_type": "code",
   "execution_count": 48,
   "outputs": [
    {
     "name": "stdout",
     "output_type": "stream",
     "text": [
      "+-----------------------+\n",
      "|data                   |\n",
      "+-----------------------+\n",
      "|RESTAURANTE DO RUI     |\n",
      "|Juca restaurantes ltda.|\n",
      "|Joca Restaurante       |\n",
      "+-----------------------+\n",
      "+---------------+\n",
      "|data           |\n",
      "+---------------+\n",
      "|Alura Refeições|\n",
      "+---------------+\n"
     ]
    }
   ],
   "source": [
    "df.where(f.upper(df.data).like('%RESTAURANTE%')).show(truncate=False)\n",
    "df.where(f.upper(df.data).like('%REFEIÇÕES%')).show(truncate=False)"
   ],
   "metadata": {
    "collapsed": false,
    "ExecuteTime": {
     "end_time": "2024-01-14T21:49:08.389459500Z",
     "start_time": "2024-01-14T21:49:07.444651700Z"
    }
   },
   "id": "1e8e709ff72ae4b7"
  },
  {
   "cell_type": "code",
   "execution_count": 49,
   "outputs": [
    {
     "name": "stdout",
     "output_type": "stream",
     "text": [
      "+-----------------------------------------+-----------------+----------------+-------------------------+\n",
      "|razao_social_nome_empresarial            |natureza_juridica|porte_da_empresa|capital_social_da_empresa|\n",
      "+-----------------------------------------+-----------------+----------------+-------------------------+\n",
      "|RESTAURANTE IMIGRANTE PORTUGUES LTDA.    |2062             |5               |0.0                      |\n",
      "|RESTAURANTE E PETISCARIA THE-DELICIA LTDA|2062             |5               |0.0                      |\n",
      "|RESTAURANTE PONTO NOBRE EIRELI           |2305             |1               |105000.0                 |\n",
      "|RESTAURANTE ALEGRIA ALEGRIA LTDA         |2062             |1               |5000.0                   |\n",
      "|RESTAURANTE D GABI EIRELI                |2305             |1               |95400.0                  |\n",
      "+-----------------------------------------+-----------------+----------------+-------------------------+\n"
     ]
    }
   ],
   "source": [
    "empresas_df \\\n",
    "    .select('razao_social_nome_empresarial', 'natureza_juridica', 'porte_da_empresa', 'capital_social_da_empresa') \\\n",
    "    .filter(f.upper(empresas_df['razao_social_nome_empresarial']).like('RESTAURANTE%')) \\\n",
    "    .show(n=5, truncate=False)"
   ],
   "metadata": {
    "collapsed": false,
    "ExecuteTime": {
     "end_time": "2024-01-14T21:49:08.480844Z",
     "start_time": "2024-01-14T21:49:08.353176600Z"
    }
   },
   "id": "11605adad51eb14a"
  },
  {
   "cell_type": "code",
   "execution_count": 50,
   "outputs": [
    {
     "name": "stdout",
     "output_type": "stream",
     "text": [
      "+--------------+------+\n",
      "|ano_de_entrada| count|\n",
      "+--------------+------+\n",
      "|          2010| 79337|\n",
      "|          2011| 83906|\n",
      "|          2012| 80101|\n",
      "|          2013| 83919|\n",
      "|          2014| 80590|\n",
      "|          2015| 80906|\n",
      "|          2016| 81587|\n",
      "|          2017| 90221|\n",
      "|          2018| 99935|\n",
      "|          2019|118248|\n",
      "|          2020|125927|\n",
      "|          2021| 56316|\n",
      "+--------------+------+\n"
     ]
    }
   ],
   "source": [
    "socios_df \\\n",
    "    .select(f.year('data_de_entrada_sociedade').alias('ano_de_entrada')) \\\n",
    "    .where('ano_de_entrada >= 2010') \\\n",
    "    .groupBy('ano_de_entrada') \\\n",
    "    .count() \\\n",
    "    .orderBy('ano_de_entrada', ascending=True) \\\n",
    "    .show()"
   ],
   "metadata": {
    "collapsed": false,
    "ExecuteTime": {
     "end_time": "2024-01-14T21:49:10.288647300Z",
     "start_time": "2024-01-14T21:49:08.469878100Z"
    }
   },
   "id": "1a3e6160870894d6"
  },
  {
   "cell_type": "code",
   "execution_count": 51,
   "outputs": [
    {
     "name": "stdout",
     "output_type": "stream",
     "text": [
      "+----------------+--------------------+----------+\n",
      "|porte_da_empresa|capital_social_medio|frequencia|\n",
      "+----------------+--------------------+----------+\n",
      "|            NULL|    8.35421888053467|      5985|\n",
      "|               1|  339994.53313507047|   3129043|\n",
      "|               3|  2601001.7677092687|    115151|\n",
      "|               5|   708660.4208249794|   1335500|\n",
      "+----------------+--------------------+----------+\n"
     ]
    }
   ],
   "source": [
    "empresas_df \\\n",
    "    .select('cnpj_basico', 'porte_da_empresa', 'capital_social_da_empresa') \\\n",
    "    .groupBy('porte_da_empresa') \\\n",
    "    .agg(\n",
    "    f.avg('capital_social_da_empresa').alias('capital_social_medio'),\n",
    "    f.count('cnpj_basico').alias('frequencia')\n",
    ").orderBy('porte_da_empresa').show()\n",
    "    "
   ],
   "metadata": {
    "collapsed": false,
    "ExecuteTime": {
     "end_time": "2024-01-14T21:49:12.624599100Z",
     "start_time": "2024-01-14T21:49:10.277675100Z"
    }
   },
   "id": "dc6f2ef7be340a56"
  },
  {
   "cell_type": "code",
   "execution_count": 52,
   "outputs": [
    {
     "name": "stdout",
     "output_type": "stream",
     "text": [
      "+-------+-------------------------+\n",
      "|summary|capital_social_da_empresa|\n",
      "+-------+-------------------------+\n",
      "|  count|                  4585679|\n",
      "|   mean|       503694.54785426764|\n",
      "| stddev|     2.1118691490537643E8|\n",
      "|    min|                      0.0|\n",
      "|    25%|                      0.0|\n",
      "|    50%|                   1000.0|\n",
      "|    75%|                   7000.0|\n",
      "|    max|         3.22014670262E11|\n",
      "+-------+-------------------------+\n"
     ]
    }
   ],
   "source": [
    "empresas_df.select('capital_social_da_empresa').summary().show()"
   ],
   "metadata": {
    "collapsed": false,
    "ExecuteTime": {
     "end_time": "2024-01-14T21:49:17.223013500Z",
     "start_time": "2024-01-14T21:49:12.621992800Z"
    }
   },
   "id": "309606fd7b9c43b7"
  },
  {
   "cell_type": "code",
   "execution_count": 53,
   "outputs": [
    {
     "name": "stdout",
     "output_type": "stream",
     "text": [
      "+-------+-------------------------+\n",
      "|summary|capital_social_da_empresa|\n",
      "+-------+-------------------------+\n",
      "|  count|                  4585679|\n",
      "|   mean|       503694.54785426764|\n",
      "+-------+-------------------------+\n"
     ]
    }
   ],
   "source": [
    "empresas_df.select('capital_social_da_empresa').summary('count', 'mean').show()"
   ],
   "metadata": {
    "collapsed": false,
    "ExecuteTime": {
     "end_time": "2024-01-14T21:49:19.018185800Z",
     "start_time": "2024-01-14T21:49:17.224269700Z"
    }
   },
   "id": "e7b7d5c0e23a2120"
  },
  {
   "cell_type": "code",
   "execution_count": 54,
   "outputs": [
    {
     "name": "stdout",
     "output_type": "stream",
     "text": [
      "+-------+----------+----+\n",
      "|   nome|   materia|nota|\n",
      "+-------+----------+----+\n",
      "| CARLOS|MATEMÁTICA|   7|\n",
      "|    IVO|MATEMÁTICA|   9|\n",
      "| MÁRCIA|MATEMÁTICA|   8|\n",
      "|  LEILA|MATEMÁTICA|   9|\n",
      "|  BRENO|MATEMÁTICA|   7|\n",
      "|LETÍCIA|MATEMÁTICA|   8|\n",
      "| CARLOS|    FÍSICA|   2|\n",
      "|    IVO|    FÍSICA|   8|\n",
      "| MÁRCIA|    FÍSICA|  10|\n",
      "|  LEILA|    FÍSICA|   9|\n",
      "|  BRENO|    FÍSICA|   1|\n",
      "|LETÍCIA|    FÍSICA|   6|\n",
      "| CARLOS|   QUÍMICA|  10|\n",
      "|    IVO|   QUÍMICA|   8|\n",
      "| MÁRCIA|   QUÍMICA|   1|\n",
      "|  LEILA|   QUÍMICA|  10|\n",
      "|  BRENO|   QUÍMICA|   7|\n",
      "|LETÍCIA|   QUÍMICA|   9|\n",
      "+-------+----------+----+\n"
     ]
    }
   ],
   "source": [
    "data = [\n",
    "    ('CARLOS', 'MATEMÁTICA', 7),\n",
    "    ('IVO', 'MATEMÁTICA', 9),\n",
    "    ('MÁRCIA', 'MATEMÁTICA', 8),\n",
    "    ('LEILA', 'MATEMÁTICA', 9),\n",
    "    ('BRENO', 'MATEMÁTICA', 7),\n",
    "    ('LETÍCIA', 'MATEMÁTICA', 8),\n",
    "    ('CARLOS', 'FÍSICA', 2),\n",
    "    ('IVO', 'FÍSICA', 8),\n",
    "    ('MÁRCIA', 'FÍSICA', 10),\n",
    "    ('LEILA', 'FÍSICA', 9),\n",
    "    ('BRENO', 'FÍSICA', 1),\n",
    "    ('LETÍCIA', 'FÍSICA', 6),\n",
    "    ('CARLOS', 'QUÍMICA', 10),\n",
    "    ('IVO', 'QUÍMICA', 8),\n",
    "    ('MÁRCIA', 'QUÍMICA', 1),\n",
    "    ('LEILA', 'QUÍMICA', 10),\n",
    "    ('BRENO', 'QUÍMICA', 7),\n",
    "    ('LETÍCIA', 'QUÍMICA', 9)\n",
    "]\n",
    "colNames = ['nome', 'materia', 'nota']\n",
    "df_notas = spark.createDataFrame(data, colNames)\n",
    "df_notas.show()"
   ],
   "metadata": {
    "collapsed": false,
    "ExecuteTime": {
     "end_time": "2024-01-14T21:49:19.491030300Z",
     "start_time": "2024-01-14T21:49:19.021464Z"
    }
   },
   "id": "e4dd0aca7871ac6b"
  },
  {
   "cell_type": "code",
   "execution_count": 55,
   "outputs": [
    {
     "name": "stdout",
     "output_type": "stream",
     "text": [
      "+-------+----------+----+\n",
      "|   nome|   materia|nota|\n",
      "+-------+----------+----+\n",
      "| CARLOS|MATEMÁTICA|   7|\n",
      "|    IVO|MATEMÁTICA|   9|\n",
      "| MÁRCIA|MATEMÁTICA|   8|\n",
      "|  LEILA|MATEMÁTICA|   9|\n",
      "|  BRENO|MATEMÁTICA|   7|\n",
      "|LETÍCIA|MATEMÁTICA|   8|\n",
      "| CARLOS|    FÍSICA|   2|\n",
      "|    IVO|    FÍSICA|   8|\n",
      "| MÁRCIA|    FÍSICA|  10|\n",
      "|  LEILA|    FÍSICA|   9|\n",
      "|  BRENO|    FÍSICA|   1|\n",
      "|LETÍCIA|    FÍSICA|   6|\n",
      "| CARLOS|   QUÍMICA|  10|\n",
      "|    IVO|   QUÍMICA|   8|\n",
      "| MÁRCIA|   QUÍMICA|   1|\n",
      "|  LEILA|   QUÍMICA|  10|\n",
      "|  BRENO|   QUÍMICA|   7|\n",
      "|LETÍCIA|   QUÍMICA|   9|\n",
      "+-------+----------+----+\n"
     ]
    }
   ],
   "source": [
    "df = df_notas.withColumn('status', f.when(df_notas.nota >= 7, \"APROVADO\").otherwise(\"REPROVADO\"))\n",
    "df_notas.show()"
   ],
   "metadata": {
    "collapsed": false,
    "ExecuteTime": {
     "end_time": "2024-01-14T21:49:19.932344700Z",
     "start_time": "2024-01-14T21:49:19.490480100Z"
    }
   },
   "id": "defc8a56d21c3704"
  },
  {
   "cell_type": "code",
   "execution_count": 56,
   "outputs": [
    {
     "name": "stdout",
     "output_type": "stream",
     "text": [
      "+---------+-----+\n",
      "|   status|count|\n",
      "+---------+-----+\n",
      "| APROVADO|   14|\n",
      "|REPROVADO|    4|\n",
      "+---------+-----+\n"
     ]
    }
   ],
   "source": [
    "df.select('status').groupBy('status').count().show()"
   ],
   "metadata": {
    "collapsed": false,
    "ExecuteTime": {
     "end_time": "2024-01-14T21:49:20.341171100Z",
     "start_time": "2024-01-14T21:49:19.931256700Z"
    }
   },
   "id": "34852ff7d2e89b91"
  },
  {
   "cell_type": "code",
   "execution_count": 58,
   "outputs": [
    {
     "name": "stdout",
     "output_type": "stream",
     "text": [
      "+-------+----+\n",
      "|summary|nota|\n",
      "+-------+----+\n",
      "|    min|   1|\n",
      "|    25%|   7|\n",
      "|    50%|   8|\n",
      "|    75%|   9|\n",
      "|    max|  10|\n",
      "+-------+----+\n"
     ]
    }
   ],
   "source": [
    "df_notas.select('nota').summary('min', '25%', '50%', '75%', 'max').show()"
   ],
   "metadata": {
    "collapsed": false,
    "ExecuteTime": {
     "end_time": "2024-01-14T21:49:31.081966600Z",
     "start_time": "2024-01-14T21:49:30.751201700Z"
    }
   },
   "id": "93af1d50d060d999"
  },
  {
   "cell_type": "code",
   "outputs": [],
   "source": [
    "produtos = spark.createDataFrame([\n",
    "    ('1', 'Bebidas', 'Água mineral'),\n",
    "    ('2', 'Limpeza', 'Sabão em pó'),\n",
    "    ('3', 'Frios', 'Queijo'),\n",
    "    ('4', 'Bebidas', 'Refrigerante'),\n",
    "    ('5', 'Pet', 'Ração para cães'),\n",
    "    ('6', 'Pet', 'Osso'),\n",
    "], ['id', 'cat', 'prod'])\n",
    "\n",
    "impostos = spark.createDataFrame([\n",
    "    ('Bebidas', 0.15),\n",
    "    ('Limpeza', 0.05),\n",
    "    ('Frios', 0.065),\n",
    "    ('Carnes', 0.08),\n",
    "], ['cat', 'tax'])"
   ],
   "metadata": {
    "collapsed": false,
    "ExecuteTime": {
     "end_time": "2024-01-14T21:59:07.455149600Z",
     "start_time": "2024-01-14T21:59:07.418996700Z"
    }
   },
   "id": "b65bacdae9e740ff",
   "execution_count": 70
  },
  {
   "cell_type": "code",
   "outputs": [
    {
     "name": "stdout",
     "output_type": "stream",
     "text": [
      "+---+---------+------------+-----+\n",
      "| id|categoria|     produto| taxa|\n",
      "+---+---------+------------+-----+\n",
      "|  1|  Bebidas|Água mineral| 0.15|\n",
      "|  2|  Limpeza| Sabão em pó| 0.05|\n",
      "|  3|    Frios|      Queijo|0.065|\n",
      "|  4|  Bebidas|Refrigerante| 0.15|\n",
      "+---+---------+------------+-----+\n"
     ]
    }
   ],
   "source": [
    "produtos.join(other=impostos, on='cat', how='inner') \\\n",
    "    .sort('id') \\\n",
    "    .select(f.col('id'), f.col('cat').alias('categoria'), f.col('prod').alias('produto'), f.col('tax').alias('taxa')) \\\n",
    "    .show()"
   ],
   "metadata": {
    "collapsed": false,
    "ExecuteTime": {
     "end_time": "2024-01-14T21:59:09.746731800Z",
     "start_time": "2024-01-14T21:59:08.960918900Z"
    }
   },
   "id": "6e1d9f4659840af5",
   "execution_count": 71
  },
  {
   "cell_type": "code",
   "outputs": [
    {
     "name": "stdout",
     "output_type": "stream",
     "text": [
      "+---+---------+---------------+-----+\n",
      "| id|categoria|        produto| taxa|\n",
      "+---+---------+---------------+-----+\n",
      "|  1|  Bebidas|   Água mineral| 0.15|\n",
      "|  2|  Limpeza|    Sabão em pó| 0.05|\n",
      "|  3|    Frios|         Queijo|0.065|\n",
      "|  4|  Bebidas|   Refrigerante| 0.15|\n",
      "|  5|      Pet|Ração para cães| NULL|\n",
      "|  6|      Pet|           Osso| NULL|\n",
      "+---+---------+---------------+-----+\n"
     ]
    }
   ],
   "source": [
    "produtos.join(other=impostos, on='cat', how='left') \\\n",
    "    .sort('id') \\\n",
    "    .select(f.col('id'), f.col('cat').alias('categoria'), f.col('prod').alias('produto'), f.col('tax').alias('taxa')) \\\n",
    "    .show()"
   ],
   "metadata": {
    "collapsed": false,
    "ExecuteTime": {
     "end_time": "2024-01-14T21:59:11.540301800Z",
     "start_time": "2024-01-14T21:59:10.947972200Z"
    }
   },
   "id": "caf24741ca9f723f",
   "execution_count": 72
  },
  {
   "cell_type": "code",
   "outputs": [
    {
     "name": "stdout",
     "output_type": "stream",
     "text": [
      "+----+---------+------------+-----+\n",
      "|  id|categoria|     produto| taxa|\n",
      "+----+---------+------------+-----+\n",
      "|NULL|   Carnes|        NULL| 0.08|\n",
      "|   1|  Bebidas|Água mineral| 0.15|\n",
      "|   2|  Limpeza| Sabão em pó| 0.05|\n",
      "|   3|    Frios|      Queijo|0.065|\n",
      "|   4|  Bebidas|Refrigerante| 0.15|\n",
      "+----+---------+------------+-----+\n"
     ]
    }
   ],
   "source": [
    "produtos.join(other=impostos, on='cat', how='right') \\\n",
    "    .sort('id') \\\n",
    "    .select(f.col('id'), f.col('cat').alias('categoria'), f.col('prod').alias('produto'), f.col('tax').alias('taxa')) \\\n",
    "    .show()"
   ],
   "metadata": {
    "collapsed": false,
    "ExecuteTime": {
     "end_time": "2024-01-14T21:59:13.926271400Z",
     "start_time": "2024-01-14T21:59:13.357433800Z"
    }
   },
   "id": "7e48741f5d1fafa7",
   "execution_count": 73
  },
  {
   "cell_type": "code",
   "outputs": [
    {
     "name": "stdout",
     "output_type": "stream",
     "text": [
      "+----+---------+---------------+-----+\n",
      "|  id|categoria|        produto| taxa|\n",
      "+----+---------+---------------+-----+\n",
      "|NULL|   Carnes|           NULL| 0.08|\n",
      "|   1|  Bebidas|   Água mineral| 0.15|\n",
      "|   2|  Limpeza|    Sabão em pó| 0.05|\n",
      "|   3|    Frios|         Queijo|0.065|\n",
      "|   4|  Bebidas|   Refrigerante| 0.15|\n",
      "|   5|      Pet|Ração para cães| NULL|\n",
      "|   6|      Pet|           Osso| NULL|\n",
      "+----+---------+---------------+-----+\n"
     ]
    }
   ],
   "source": [
    "produtos.join(other=impostos, on='cat', how='outer') \\\n",
    "    .sort('id') \\\n",
    "    .select(f.col('id'), f.col('cat').alias('categoria'), f.col('prod').alias('produto'), f.col('tax').alias('taxa')) \\\n",
    "    .show()"
   ],
   "metadata": {
    "collapsed": false,
    "ExecuteTime": {
     "end_time": "2024-01-14T21:59:31.317794100Z",
     "start_time": "2024-01-14T21:59:30.629283700Z"
    }
   },
   "id": "aba44495540ae407",
   "execution_count": 74
  },
  {
   "cell_type": "code",
   "outputs": [
    {
     "name": "stdout",
     "output_type": "stream",
     "text": [
      "root\n",
      " |-- cnpj_basico: integer (nullable = true)\n",
      " |-- razao_social_nome_empresarial: string (nullable = true)\n",
      " |-- natureza_juridica: integer (nullable = true)\n",
      " |-- qualificacao_do_responsavel: integer (nullable = true)\n",
      " |-- capital_social_da_empresa: double (nullable = true)\n",
      " |-- porte_da_empresa: integer (nullable = true)\n",
      " |-- ente_federativo_responsavel: string (nullable = true)\n"
     ]
    }
   ],
   "source": [
    "empresas_df.printSchema()"
   ],
   "metadata": {
    "collapsed": false,
    "ExecuteTime": {
     "end_time": "2024-01-14T21:59:44.153415900Z",
     "start_time": "2024-01-14T21:59:44.095797800Z"
    }
   },
   "id": "8c178a381cae78d6",
   "execution_count": 75
  },
  {
   "cell_type": "code",
   "outputs": [
    {
     "name": "stdout",
     "output_type": "stream",
     "text": [
      "root\n",
      " |-- cnpj_basico: integer (nullable = true)\n",
      " |-- cnpj_ordem: integer (nullable = true)\n",
      " |-- cnpj_dv: integer (nullable = true)\n",
      " |-- identificador_matriz_filial: integer (nullable = true)\n",
      " |-- nome_fantasia: string (nullable = true)\n",
      " |-- situacao_cadastral: integer (nullable = true)\n",
      " |-- data_situacao_cadastral: date (nullable = true)\n",
      " |-- motivo_situacao_cadastral: integer (nullable = true)\n",
      " |-- nome_da_cidade_no_exterior: string (nullable = true)\n",
      " |-- pais: integer (nullable = true)\n",
      " |-- data_de_inicio_atividade: date (nullable = true)\n",
      " |-- cnae_fiscal_principal: integer (nullable = true)\n",
      " |-- cnae_fiscal_secundaria: string (nullable = true)\n",
      " |-- tipo_de_logradouro: string (nullable = true)\n",
      " |-- logradouro: string (nullable = true)\n",
      " |-- numero: string (nullable = true)\n",
      " |-- complemento: string (nullable = true)\n",
      " |-- bairro: string (nullable = true)\n",
      " |-- cep: integer (nullable = true)\n",
      " |-- uf: string (nullable = true)\n",
      " |-- municipio: integer (nullable = true)\n",
      " |-- ddd_1: string (nullable = true)\n",
      " |-- telefone_1: string (nullable = true)\n",
      " |-- ddd_2: string (nullable = true)\n",
      " |-- telefone_2: string (nullable = true)\n",
      " |-- ddd_do_fax: integer (nullable = true)\n",
      " |-- fax: string (nullable = true)\n",
      " |-- correio_eletronico: string (nullable = true)\n",
      " |-- situacao_especial: string (nullable = true)\n",
      " |-- data_da_situacao_especial: date (nullable = true)\n"
     ]
    }
   ],
   "source": [
    "estabelecimentos_df.printSchema()"
   ],
   "metadata": {
    "collapsed": false,
    "ExecuteTime": {
     "end_time": "2024-01-14T21:59:55.590800200Z",
     "start_time": "2024-01-14T21:59:55.548134100Z"
    }
   },
   "id": "6e16c4c8ed0a0ba7",
   "execution_count": 77
  },
  {
   "cell_type": "code",
   "outputs": [
    {
     "name": "stdout",
     "output_type": "stream",
     "text": [
      "root\n",
      " |-- cnpj_basico: integer (nullable = true)\n",
      " |-- identificador_de_socio: integer (nullable = true)\n",
      " |-- nome_do_socio_ou_razao_social: string (nullable = true)\n",
      " |-- cnpj_ou_cpf_do_socio: string (nullable = true)\n",
      " |-- qualificacao_do_socio: integer (nullable = true)\n",
      " |-- data_de_entrada_sociedade: date (nullable = true)\n",
      " |-- pais: integer (nullable = true)\n",
      " |-- representante_legal: string (nullable = true)\n",
      " |-- nome_do_representante: string (nullable = true)\n",
      " |-- qualificacao_do_representante_legal: integer (nullable = true)\n",
      " |-- faixa_etaria: integer (nullable = true)\n"
     ]
    }
   ],
   "source": [
    "socios_df.printSchema()"
   ],
   "metadata": {
    "collapsed": false,
    "ExecuteTime": {
     "end_time": "2024-01-14T22:00:02.793102800Z",
     "start_time": "2024-01-14T22:00:02.784899700Z"
    }
   },
   "id": "847ef84b34840a15",
   "execution_count": 78
  },
  {
   "cell_type": "code",
   "outputs": [
    {
     "name": "stdout",
     "output_type": "stream",
     "text": [
      "+-----------+-----------------------------+-----------------+---------------------------+-------------------------+----------------+---------------------------+\n",
      "|cnpj_basico|razao_social_nome_empresarial|natureza_juridica|qualificacao_do_responsavel|capital_social_da_empresa|porte_da_empresa|ente_federativo_responsavel|\n",
      "+-----------+-----------------------------+-----------------+---------------------------+-------------------------+----------------+---------------------------+\n",
      "|        306|         FRANCAMAR REFRIGE...|             2240|                         49|                      0.0|               1|                       NULL|\n",
      "|       1355|         BRASILEIRO & OLIV...|             2062|                         49|                      0.0|               5|                       NULL|\n",
      "|       4820|         REGISTRO DE IMOVE...|             3034|                         32|                      0.0|               5|                       NULL|\n",
      "|       5347|         ROSELY APARECIDA ...|             2135|                         50|                      0.0|               5|                       NULL|\n",
      "|       6846|         BADU E FILHOS TEC...|             2062|                         49|                   4000.0|               1|                       NULL|\n",
      "|       8416|           ELETRICA RUBI LTDA|             2062|                         49|                      0.0|               5|                       NULL|\n",
      "|       8992|         SHIROMA VEICULOS ...|             2062|                         49|                      0.0|               5|                       NULL|\n",
      "|       9091|         CONTATOS BAR E LA...|             2062|                         49|                      0.0|               5|                       NULL|\n",
      "|       9614|         ANTONIA APARECIDA...|             2135|                         50|                      0.0|               5|                       NULL|\n",
      "|       9896|         DORACY CORAT DA C...|             2135|                         50|                      0.0|               5|                       NULL|\n",
      "|      12112|         LANCHONETE RIO VE...|             2062|                         49|                      0.0|               5|                       NULL|\n",
      "|      12605|         VALMAR JACAREI CO...|             2062|                         49|                      0.0|               5|                       NULL|\n",
      "|      13407|         ROSANA CRISTINA D...|             2135|                         50|                      0.0|               5|                       NULL|\n",
      "|      13408|         CELIO RODRIGUES D...|             2135|                         50|                      0.0|               5|                       NULL|\n",
      "|      13721|         MAQFRAN COMERCIO ...|             2062|                         49|                      0.0|               1|                       NULL|\n",
      "|      21181|         MOURA & SILVA MER...|             2062|                         49|                      0.0|               5|                       NULL|\n",
      "|      21858|         PAMARATI COMERCIO...|             2135|                         50|                      0.0|               1|                       NULL|\n",
      "|      22277|         INACIO RODRIGUES ...|             2135|                         50|                      0.0|               5|                       NULL|\n",
      "|      24205|         SUELY LEME MARI A...|             2135|                         50|                   1000.0|               1|                       NULL|\n",
      "|      26805|         SUELI BATISTA DA ...|             2135|                         50|                      0.0|               5|                       NULL|\n",
      "+-----------+-----------------------------+-----------------+---------------------------+-------------------------+----------------+---------------------------+\n"
     ]
    }
   ],
   "source": [
    "empresas_join_df = estabelecimentos_df.join(other=empresas_df, on='cnpj_basico', how='inner')\n",
    "empresas_df.show()"
   ],
   "metadata": {
    "collapsed": false,
    "ExecuteTime": {
     "end_time": "2024-01-14T22:01:13.971058800Z",
     "start_time": "2024-01-14T22:01:13.881338100Z"
    }
   },
   "id": "f4996338288efa95",
   "execution_count": 80
  },
  {
   "cell_type": "code",
   "outputs": [
    {
     "name": "stdout",
     "output_type": "stream",
     "text": [
      "+--------------+----------+\n",
      "|data_de_inicio|frequencia|\n",
      "+--------------+----------+\n",
      "|          2010|    154159|\n",
      "|          2011|    172677|\n",
      "|          2012|    232480|\n",
      "|          2013|    198424|\n",
      "|          2014|    202276|\n",
      "|          2015|    212523|\n",
      "|          2016|    265417|\n",
      "|          2017|    237292|\n",
      "|          2018|    275435|\n",
      "|          2019|    325922|\n",
      "|          2020|    400654|\n",
      "|          2021|    153275|\n",
      "+--------------+----------+\n"
     ]
    }
   ],
   "source": [
    "freq = empresas_join_df \\\n",
    "    .select('cnpj_basico', f.year('data_de_inicio_atividade').alias('data_de_inicio')) \\\n",
    "    .where('data_de_inicio >= 2010') \\\n",
    "    .groupBy('data_de_inicio') \\\n",
    "    .agg(f.count('cnpj_basico').alias('frequencia')) \\\n",
    "    .orderBy('data_de_inicio', ascending=True)\n",
    "freq.show(15)\n",
    "df = freq.collect()"
   ],
   "metadata": {
    "collapsed": false,
    "ExecuteTime": {
     "end_time": "2024-01-14T22:06:30.117397500Z",
     "start_time": "2024-01-14T22:06:21.639847400Z"
    }
   },
   "id": "f5c61d303bf148c9",
   "execution_count": 86
  },
  {
   "cell_type": "code",
   "outputs": [
    {
     "name": "stdout",
     "output_type": "stream",
     "text": [
      "+--------------+----------+\n",
      "|data_de_inicio|frequencia|\n",
      "+--------------+----------+\n",
      "|          2010|    154159|\n",
      "|          2011|    172677|\n",
      "|          2012|    232480|\n",
      "|          2013|    198424|\n",
      "|          2014|    202276|\n",
      "|          2015|    212523|\n",
      "|          2016|    265417|\n",
      "|          2017|    237292|\n",
      "|          2018|    275435|\n",
      "|          2019|    325922|\n",
      "|          2020|    400654|\n",
      "|          2021|    153275|\n",
      "|         Total|   2830534|\n",
      "+--------------+----------+\n"
     ]
    }
   ],
   "source": [
    "freq.union(\n",
    "    freq.select(\n",
    "        f.lit('Total').alias('data_de_inicio'),\n",
    "        f.sum(freq.frequencia).alias('frequencia')\n",
    "    )\n",
    ").show()"
   ],
   "metadata": {
    "collapsed": false,
    "ExecuteTime": {
     "end_time": "2024-01-14T22:08:19.310445500Z",
     "start_time": "2024-01-14T22:08:14.486901700Z"
    }
   },
   "id": "111fedde8bfda630",
   "execution_count": 91
  }
 ],
 "metadata": {
  "kernelspec": {
   "display_name": "Python 3",
   "language": "python",
   "name": "python3"
  },
  "language_info": {
   "codemirror_mode": {
    "name": "ipython",
    "version": 2
   },
   "file_extension": ".py",
   "mimetype": "text/x-python",
   "name": "python",
   "nbconvert_exporter": "python",
   "pygments_lexer": "ipython2",
   "version": "2.7.6"
  }
 },
 "nbformat": 4,
 "nbformat_minor": 5
}
