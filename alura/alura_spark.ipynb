{
 "cells": [
  {
   "cell_type": "code",
   "execution_count": 1,
   "id": "initial_id",
   "metadata": {
    "collapsed": true,
    "ExecuteTime": {
     "end_time": "2023-11-13T21:04:40.175471300Z",
     "start_time": "2023-11-13T21:04:39.544608300Z"
    }
   },
   "outputs": [],
   "source": [
    "from pyspark.sql import SparkSession"
   ]
  },
  {
   "cell_type": "code",
   "execution_count": 2,
   "outputs": [],
   "source": [
    "spark = SparkSession.builder.appName('alura_spark').getOrCreate()"
   ],
   "metadata": {
    "collapsed": false,
    "ExecuteTime": {
     "end_time": "2023-11-13T21:04:47.073952100Z",
     "start_time": "2023-11-13T21:04:42.288627Z"
    }
   },
   "id": "ad585d8a09286e88"
  },
  {
   "cell_type": "code",
   "execution_count": 3,
   "outputs": [],
   "source": [
    "# É possível passar caracteres curingas\n",
    "\n",
    "empresas_path = '/home/jovyan/datasets/empresas/'  # ou '/home/jovyan/datasets/empresas/ppart-0000?-5478.csv'\n",
    "empresas_df = spark.read.csv(path=empresas_path, sep=';', inferSchema=True)\n",
    "\n",
    "estabelecimentos_path = '/home/jovyan/datasets/estabelecimentos/'\n",
    "estabelecimentos_df = spark.read.csv(path=estabelecimentos_path, sep=';', inferSchema=True)\n",
    "\n",
    "socios_path = '/home/jovyan/datasets/socios/'  # ou '/home/jovyan/datasets/empresas/ppart-0000?-5478.csv'\n",
    "socios_df = spark.read.csv(path=socios_path, sep=';', inferSchema=True)"
   ],
   "metadata": {
    "collapsed": false,
    "ExecuteTime": {
     "end_time": "2023-11-13T21:05:08.565942100Z",
     "start_time": "2023-11-13T21:04:54.519201300Z"
    }
   },
   "id": "d33ef6522031e933"
  },
  {
   "cell_type": "code",
   "execution_count": 13,
   "outputs": [],
   "source": [
    "empresasColNames = ['cnpj_basico', 'razao_social_nome_empresarial', 'natureza_juridica', 'qualificacao_do_responsavel', 'capital_social_da_empresa', 'porte_da_empresa', 'ente_federativo_responsavel']\n",
    "\n",
    "estabsColNames = ['cnpj_basico', 'cnpj_ordem', 'cnpj_dv', 'identificador_matriz_filial', 'nome_fantasia', 'situacao_cadastral', 'data_situacao_cadastral', 'motivo_situacao_cadastral', 'nome_da_cidade_no_exterior', 'pais', 'data_de_inicio_atividade', 'cnae_fiscal_principal', 'cnae_fiscal_secundaria', 'tipo_de_logradouro', 'logradouro', 'numero', 'complemento', 'bairro', 'cep', 'uf', 'municipio', 'ddd_1', 'telefone_1', 'ddd_2', 'telefone_2', 'ddd_do_fax', 'fax', 'correio_eletronico', 'situacao_especial', 'data_da_situacao_especial']\n",
    "\n",
    "\n",
    "sociosColNames = ['cnpj_basico', 'identificador_de_socio', 'nome_do_socio_ou_razao_social', 'cnpj_ou_cpf_do_socio', 'qualificacao_do_socio', 'data_de_entrada_sociedade', 'pais', 'representante_legal', 'nome_do_representante', 'qualificacao_do_representante_legal', 'faixa_etaria']"
   ],
   "metadata": {
    "collapsed": false,
    "ExecuteTime": {
     "end_time": "2023-11-13T21:09:56.869217600Z",
     "start_time": "2023-11-13T21:09:56.863108500Z"
    }
   },
   "id": "517c85b2ee66b6f9"
  },
  {
   "cell_type": "code",
   "execution_count": 4,
   "outputs": [
    {
     "name": "stdout",
     "output_type": "stream",
     "text": [
      "+----+--------------------+----+---+-------+---+----+\n",
      "| _c0|                 _c1| _c2|_c3|    _c4|_c5| _c6|\n",
      "+----+--------------------+----+---+-------+---+----+\n",
      "| 306|FRANCAMAR REFRIGE...|2240| 49|   0,00|  1|NULL|\n",
      "|1355|BRASILEIRO & OLIV...|2062| 49|   0,00|  5|NULL|\n",
      "|4820|REGISTRO DE IMOVE...|3034| 32|   0,00|  5|NULL|\n",
      "|5347|ROSELY APARECIDA ...|2135| 50|   0,00|  5|NULL|\n",
      "|6846|BADU E FILHOS TEC...|2062| 49|4000,00|  1|NULL|\n",
      "+----+--------------------+----+---+-------+---+----+\n"
     ]
    }
   ],
   "source": [
    "empresas_df.show(5)"
   ],
   "metadata": {
    "collapsed": false,
    "ExecuteTime": {
     "end_time": "2023-11-13T21:05:11.934267300Z",
     "start_time": "2023-11-13T21:05:11.631852Z"
    }
   },
   "id": "6a97944b61a4fab2"
  },
  {
   "cell_type": "code",
   "execution_count": 5,
   "outputs": [
    {
     "name": "stdout",
     "output_type": "stream",
     "text": [
      "+----+---+---+---+--------------------+---+--------+---+----+----+--------+-------+--------------------+-------+--------------------+----+------+-------------------+--------+----+----+----+--------+----+----+----+----+--------------------+----+----+\n",
      "| _c0|_c1|_c2|_c3|                 _c4|_c5|     _c6|_c7| _c8| _c9|    _c10|   _c11|                _c12|   _c13|                _c14|_c15|  _c16|               _c17|    _c18|_c19|_c20|_c21|    _c22|_c23|_c24|_c25|_c26|                _c27|_c28|_c29|\n",
      "+----+---+---+---+--------------------+---+--------+---+----+----+--------+-------+--------------------+-------+--------------------+----+------+-------------------+--------+----+----+----+--------+----+----+----+----+--------------------+----+----+\n",
      "| 537|  1| 51|  1|  PAPAI NOEL IMOVEIS|  2|20041224|  0|NULL|NULL|19941107|6821802|6821801,6822600,8...|AVENIDA|DOUTOR CARDOSO DE...| 247|  NULL|       VILA OLIMPIA| 4548001|  SP|7107|  11|38499387|NULL|NULL|NULL|NULL|ADM@VERTIZAIMOVEI...|NULL|NULL|\n",
      "| 537|  2| 32|  2|                NULL|  8|20000929|  1|NULL|NULL|19990629|6821802|     6822600,8111700|AVENIDA| DR. CARDOSO DE MELO|  46|  NULL|       VILA OLIMPIA| 4548000|  SP|7107|NULL|    NULL|NULL|NULL|NULL|NULL|                NULL|NULL|NULL|\n",
      "|6454|  1| 70|  1|AGNES COMERCIO DE...|  4|20181004| 63|NULL|NULL|19940518|4774100|                NULL|    RUA|CEL.RUBENS REIS R...|  47|SALA 3|        JD ARPOADOR| 5565180|  SP|7107|NULL|    NULL|NULL|NULL|NULL|NULL|                NULL|NULL|NULL|\n",
      "|7632|  1| 87|  1|                NULL|  2|20051103|  0|NULL|NULL|19940520|4785799|                NULL|AVENIDA|             MORUMBI| 342|  NULL|       VILA MORUMBI|13572000|  SP|7079|NULL|    NULL|NULL|NULL|NULL|NULL|                NULL|NULL|NULL|\n",
      "|7638|  1| 54|  1|                NULL|  2|20051103|  0|NULL|NULL|19940520|1610203|                NULL|    RUA|                TRES| S/N|  NULL|DISTRITO INDUSTRIAL|17120001|  SP|6113|NULL|    NULL|NULL|NULL|NULL|NULL|                NULL|NULL|NULL|\n",
      "+----+---+---+---+--------------------+---+--------+---+----+----+--------+-------+--------------------+-------+--------------------+----+------+-------------------+--------+----+----+----+--------+----+----+----+----+--------------------+----+----+\n"
     ]
    }
   ],
   "source": [
    "estabelecimentos_df.show(5)"
   ],
   "metadata": {
    "collapsed": false,
    "ExecuteTime": {
     "end_time": "2023-11-13T21:05:13.622751600Z",
     "start_time": "2023-11-13T21:05:13.321229500Z"
    }
   },
   "id": "559af4501ab66d6d"
  },
  {
   "cell_type": "code",
   "execution_count": 6,
   "outputs": [
    {
     "name": "stdout",
     "output_type": "stream",
     "text": [
      "+-----+---+--------------------+--------------+---+--------+----+-----------+--------------------+---+----+\n",
      "|  _c0|_c1|                 _c2|           _c3|_c4|     _c5| _c6|        _c7|                 _c8|_c9|_c10|\n",
      "+-----+---+--------------------+--------------+---+--------+----+-----------+--------------------+---+----+\n",
      "|  403|  2|ARCHIBALDE POUZA ...|   ***550688**| 49|19941019|NULL|***000000**|                NULL|  0|   8|\n",
      "|  403|  2|MARIA LUCIA DE AR...|   ***358948**| 22|19941019|NULL|***550688**|ARCHIBALDE POUZA ...|  5|   7|\n",
      "|52803|  2|   PAULA PAVAN MAMED|   ***454918**| 22|19980831|NULL|***000000**|                NULL|  0|   6|\n",
      "|52803|  2| NASSIM MAMED JUNIOR|   ***040608**| 49|19980831|NULL|***000000**|                NULL|  0|   6|\n",
      "|52803|  2|CARLA PAVAN MAMED...|   ***454898**| 22|20130812|NULL|***000000**|                NULL|  0|   6|\n",
      "|52803|  1|ACTUALPAR ADMINIS...|27556902000165| 22|20170809|NULL|***040608**| NASSIM MAMED JUNIOR|  5|   0|\n",
      "|57154|  2|ELIANE IZABEL MAR...|   ***741156**| 49|19940429|NULL|***000000**|                NULL|  0|   7|\n",
      "|57154|  2|JOSE GERALDO DOS ...|   ***400306**| 22|19950921|NULL|***000000**|                NULL|  0|   7|\n",
      "|57764|  2|           JOAO VICK|   ***383999**| 49|19940428|NULL|***000000**|                NULL|  0|   8|\n",
      "|57764|  2| MARIA MADALENA VICK|   ***939619**| 22|19940428|NULL|***000000**|                NULL|  0|   7|\n",
      "|64377|  2| HELIO NIESPODZINSKI|   ***761219**| 49|19940425|NULL|***000000**|                NULL|  0|   6|\n",
      "|64377|  2|JOSE MARIO NIESPO...|   ***258779**| 22|19940425|NULL|***000000**|                NULL|  0|   6|\n",
      "|67869|  2|ENEIAS PAIVA DE O...|   ***183631**| 49|20030213|NULL|***000000**|                NULL|  0|   6|\n",
      "|67869|  2|RAFAEL RIBEIRO DO...|   ***337979**| 49|20080208|NULL|***000000**|                NULL|  0|   6|\n",
      "|77294|  2|SIRLEI RUIVO DA S...|   ***725988**| 16|20050912|NULL|***000000**|                NULL|  0|   6|\n",
      "|79869|  2|  NELSON SCHONBERGER|   ***845520**| 49|19940531|NULL|***000000**|                NULL|  0|   7|\n",
      "|79869|  2|BETANIA SCHONBERG...|   ***283700**| 49|19940531|NULL|***000000**|                NULL|  0|   5|\n",
      "|79869|  2|VERA LUCIA SCHONB...|   ***438020**| 49|19980316|NULL|***000000**|                NULL|  0|   7|\n",
      "|92058|  2|VITORIA COLORINDA...|   ***922280**| 49|19981019|NULL|***000000**|                NULL|  0|   6|\n",
      "|92058|  2|   DELVINO SGANZERLA|   ***073750**| 22|19981019|NULL|***000000**|                NULL|  0|   7|\n",
      "+-----+---+--------------------+--------------+---+--------+----+-----------+--------------------+---+----+\n"
     ]
    }
   ],
   "source": [
    "socios_df.show()"
   ],
   "metadata": {
    "collapsed": false,
    "ExecuteTime": {
     "end_time": "2023-11-13T21:05:15.060681100Z",
     "start_time": "2023-11-13T21:05:14.865279900Z"
    }
   },
   "id": "c84454cdc7f722b4"
  },
  {
   "cell_type": "code",
   "execution_count": 12,
   "outputs": [
    {
     "name": "stdout",
     "output_type": "stream",
     "text": [
      "+----+--------------------+----+---+-------+---+----+\n",
      "| _c0|                 _c1| _c2|_c3|    _c4|_c5| _c6|\n",
      "+----+--------------------+----+---+-------+---+----+\n",
      "| 306|FRANCAMAR REFRIGE...|2240| 49|   0,00|  1|NULL|\n",
      "|1355|BRASILEIRO & OLIV...|2062| 49|   0,00|  5|NULL|\n",
      "|4820|REGISTRO DE IMOVE...|3034| 32|   0,00|  5|NULL|\n",
      "|5347|ROSELY APARECIDA ...|2135| 50|   0,00|  5|NULL|\n",
      "|6846|BADU E FILHOS TEC...|2062| 49|4000,00|  1|NULL|\n",
      "+----+--------------------+----+---+-------+---+----+\n"
     ]
    }
   ],
   "source": [
    "empresas_df.limit(5).show()"
   ],
   "metadata": {
    "collapsed": false,
    "ExecuteTime": {
     "end_time": "2023-11-13T21:06:14.753718400Z",
     "start_time": "2023-11-13T21:06:14.603759400Z"
    }
   },
   "id": "92a070baef17bd5c"
  },
  {
   "cell_type": "code",
   "execution_count": 16,
   "outputs": [
    {
     "data": {
      "text/plain": "['cnpj_basico',\n 'razao_social_nome_empresarial',\n 'natureza_juridica',\n 'qualificacao_do_responsavel',\n 'capital_social_da_empresa',\n 'porte_da_empresa',\n 'ente_federativo_responsavel']"
     },
     "execution_count": 16,
     "metadata": {},
     "output_type": "execute_result"
    }
   ],
   "source": [
    "for index, column_name in enumerate(empresasColNames):\n",
    "    empresas_df = empresas_df.withColumnRenamed(existing=f'_c{index}', new=column_name)\n",
    "\n",
    "empresas_df.columns"
   ],
   "metadata": {
    "collapsed": false,
    "ExecuteTime": {
     "end_time": "2023-11-13T21:13:01.009692500Z",
     "start_time": "2023-11-13T21:13:00.977553500Z"
    }
   },
   "id": "30e51c04ba2cacb4"
  },
  {
   "cell_type": "code",
   "execution_count": 17,
   "outputs": [
    {
     "name": "stdout",
     "output_type": "stream",
     "text": [
      "+-----------+-----------------------------+-----------------+---------------------------+-------------------------+----------------+---------------------------+\n",
      "|cnpj_basico|razao_social_nome_empresarial|natureza_juridica|qualificacao_do_responsavel|capital_social_da_empresa|porte_da_empresa|ente_federativo_responsavel|\n",
      "+-----------+-----------------------------+-----------------+---------------------------+-------------------------+----------------+---------------------------+\n",
      "|        306|         FRANCAMAR REFRIGE...|             2240|                         49|                     0,00|               1|                       NULL|\n",
      "|       1355|         BRASILEIRO & OLIV...|             2062|                         49|                     0,00|               5|                       NULL|\n",
      "|       4820|         REGISTRO DE IMOVE...|             3034|                         32|                     0,00|               5|                       NULL|\n",
      "|       5347|         ROSELY APARECIDA ...|             2135|                         50|                     0,00|               5|                       NULL|\n",
      "|       6846|         BADU E FILHOS TEC...|             2062|                         49|                  4000,00|               1|                       NULL|\n",
      "+-----------+-----------------------------+-----------------+---------------------------+-------------------------+----------------+---------------------------+\n"
     ]
    }
   ],
   "source": [
    "empresas_df.show(5)"
   ],
   "metadata": {
    "collapsed": false,
    "ExecuteTime": {
     "end_time": "2023-11-13T21:13:09.770094200Z",
     "start_time": "2023-11-13T21:13:09.672510200Z"
    }
   },
   "id": "38338e9ca5bb223"
  },
  {
   "cell_type": "code",
   "execution_count": 18,
   "outputs": [
    {
     "data": {
      "text/plain": "['cnpj_basico',\n 'identificador_de_socio',\n 'nome_do_socio_ou_razao_social',\n 'cnpj_ou_cpf_do_socio',\n 'qualificacao_do_socio',\n 'data_de_entrada_sociedade',\n 'pais',\n 'representante_legal',\n 'nome_do_representante',\n 'qualificacao_do_representante_legal',\n 'faixa_etaria']"
     },
     "execution_count": 18,
     "metadata": {},
     "output_type": "execute_result"
    }
   ],
   "source": [
    "for index, column_name in enumerate(sociosColNames):\n",
    "    socios_df = socios_df.withColumnRenamed(existing=f'_c{index}', new=column_name)\n",
    "\n",
    "socios_df.columns"
   ],
   "metadata": {
    "collapsed": false,
    "ExecuteTime": {
     "end_time": "2023-11-13T21:14:30.907610600Z",
     "start_time": "2023-11-13T21:14:30.826345100Z"
    }
   },
   "id": "b236504ca3e63c31"
  },
  {
   "cell_type": "code",
   "execution_count": 19,
   "outputs": [
    {
     "data": {
      "text/plain": "['cnpj_basico',\n 'cnpj_ordem',\n 'cnpj_dv',\n 'identificador_matriz_filial',\n 'nome_fantasia',\n 'situacao_cadastral',\n 'data_situacao_cadastral',\n 'motivo_situacao_cadastral',\n 'nome_da_cidade_no_exterior',\n 'pais',\n 'data_de_inicio_atividade',\n 'cnae_fiscal_principal',\n 'cnae_fiscal_secundaria',\n 'tipo_de_logradouro',\n 'logradouro',\n 'numero',\n 'complemento',\n 'bairro',\n 'cep',\n 'uf',\n 'municipio',\n 'ddd_1',\n 'telefone_1',\n 'ddd_2',\n 'telefone_2',\n 'ddd_do_fax',\n 'fax',\n 'correio_eletronico',\n 'situacao_especial',\n 'data_da_situacao_especial']"
     },
     "execution_count": 19,
     "metadata": {},
     "output_type": "execute_result"
    }
   ],
   "source": [
    "for index, column_name in enumerate(estabsColNames):\n",
    "    estabelecimentos_df = estabelecimentos_df.withColumnRenamed(existing=f'_c{index}', new=column_name)\n",
    "\n",
    "estabelecimentos_df.columns"
   ],
   "metadata": {
    "collapsed": false,
    "ExecuteTime": {
     "end_time": "2023-11-13T21:14:51.070952100Z",
     "start_time": "2023-11-13T21:14:50.835530200Z"
    }
   },
   "id": "7490c17d8a647902"
  },
  {
   "cell_type": "code",
   "execution_count": 20,
   "outputs": [
    {
     "name": "stdout",
     "output_type": "stream",
     "text": [
      "root\n",
      " |-- cnpj_basico: integer (nullable = true)\n",
      " |-- razao_social_nome_empresarial: string (nullable = true)\n",
      " |-- natureza_juridica: integer (nullable = true)\n",
      " |-- qualificacao_do_responsavel: integer (nullable = true)\n",
      " |-- capital_social_da_empresa: string (nullable = true)\n",
      " |-- porte_da_empresa: integer (nullable = true)\n",
      " |-- ente_federativo_responsavel: string (nullable = true)\n"
     ]
    }
   ],
   "source": [
    "empresas_df.printSchema()"
   ],
   "metadata": {
    "collapsed": false,
    "ExecuteTime": {
     "end_time": "2023-11-13T21:15:47.623220100Z",
     "start_time": "2023-11-13T21:15:47.606209600Z"
    }
   },
   "id": "480bff08975859a7"
  },
  {
   "cell_type": "code",
   "execution_count": null,
   "outputs": [],
   "source": [],
   "metadata": {
    "collapsed": false
   },
   "id": "72ca3e056dc8da9"
  }
 ],
 "metadata": {
  "kernelspec": {
   "display_name": "Python 3",
   "language": "python",
   "name": "python3"
  },
  "language_info": {
   "codemirror_mode": {
    "name": "ipython",
    "version": 2
   },
   "file_extension": ".py",
   "mimetype": "text/x-python",
   "name": "python",
   "nbconvert_exporter": "python",
   "pygments_lexer": "ipython2",
   "version": "2.7.6"
  }
 },
 "nbformat": 4,
 "nbformat_minor": 5
}
