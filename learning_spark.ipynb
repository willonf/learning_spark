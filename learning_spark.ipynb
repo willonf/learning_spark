{
 "cells": [
  {
   "cell_type": "markdown",
   "id": "542d81f6-161a-4458-9ec7-8df3fbee1e78",
   "metadata": {},
   "source": [
    "# Learning Spark"
   ]
  },
  {
   "cell_type": "code",
   "execution_count": 1,
   "id": "e2fa9b44-ca2c-4ec1-894a-6321685186af",
   "metadata": {},
   "outputs": [],
   "source": [
    "from pyspark.sql import SparkSession\n",
    "from pyspark.sql.types import StringType, IntegerType, DecimalType, StructType, StructField"
   ]
  },
  {
   "cell_type": "code",
   "execution_count": 2,
   "id": "044af08b-c73f-439c-8f70-ef85dcebd6cc",
   "metadata": {},
   "outputs": [],
   "source": [
    "spark = SparkSession.builder.master(\"local[*]\").getOrCreate()"
   ]
  },
  {
   "cell_type": "code",
   "execution_count": 3,
   "id": "2aad6e5f-ade3-41bd-8856-93bdcfd44da1",
   "metadata": {},
   "outputs": [],
   "source": [
    "data_df = spark.createDataFrame([(\"Brooke\", 20), (\"Denny\", 31), (\"Jules\", 30),(\"TD\", 35), (\"Brooke\", 25)], [\"name\", \"age\"])"
   ]
  },
  {
   "cell_type": "code",
   "execution_count": 4,
   "id": "a3da8076-1435-4f65-b559-8c573b978608",
   "metadata": {},
   "outputs": [
    {
     "name": "stdout",
     "output_type": "stream",
     "text": [
      "+------+---+\n",
      "|  name|age|\n",
      "+------+---+\n",
      "|Brooke| 20|\n",
      "| Denny| 31|\n",
      "| Jules| 30|\n",
      "+------+---+\n"
     ]
    }
   ],
   "source": [
    "data_df.show(3)"
   ]
  },
  {
   "cell_type": "markdown",
   "id": "a52dc7b0-c7ab-451b-b107-28dd14d4f429",
   "metadata": {},
   "source": [
    "## Schemas"
   ]
  },
  {
   "cell_type": "code",
   "execution_count": 5,
   "id": "4efb2f00-8dae-4961-926f-bc9ac185766d",
   "metadata": {},
   "outputs": [],
   "source": [
    "# Using the Spark DataFrame API\n",
    "schema = StructType([\n",
    "    StructField(\"author\", StringType(), False),\n",
    "    StructField(\"title\", StringType(), False),\n",
    "    StructField(\"pages\", IntegerType(), False),\n",
    "])\n",
    "\n",
    "# Using DDL\n",
    "schema = \"author STRING, title STRING, pages INT\""
   ]
  },
  {
   "cell_type": "code",
   "execution_count": 6,
   "id": "b03a887d-6be8-4783-9dbd-1d4c8499d081",
   "metadata": {},
   "outputs": [],
   "source": [
    "schema = \"`Id` INT, `First` STRING, `Last` STRING, `Url` STRING, `Published` STRING, `Hits` INT, `Campaigns` ARRAY<STRING>\"\n",
    "data = [\n",
    "    [1, \"Jules\", \"Damji\", \"https://tinyurl.1\", \"1/4/2016\", 4535, [\"twitter\",\"LinkedIn\"]],\n",
    "    [2, \"Brooke\",\"Wenig\", \"https://tinyurl.2\", \"5/5/2018\", 8908, [\"twitter\",\"LinkedIn\"]],\n",
    "    [3, \"Denny\", \"Lee\", \"https://tinyurl.3\", \"6/7/2019\", 7659, [\"web\",\"twitter\", \"FB\", \"LinkedIn\"]],\n",
    "    [4, \"Tathagata\", \"Das\", \"https://tinyurl.4\", \"5/12/2018\", 10568, [\"twitter\", \"FB\"]],\n",
    "    [5, \"Matei\",\"Zaharia\", \"https://tinyurl.5\", \"5/14/2014\", 40578, [\"web\", \"twitter\", \"FB\", \"LinkedIn\"]],\n",
    "    [6, \"Reynold\", \"Xin\", \"https://tinyurl.6\", \"3/2/2015\", 25568, [\"twitter\", \"LinkedIn\"]]\n",
    "]"
   ]
  },
  {
   "cell_type": "code",
   "execution_count": 7,
   "id": "70951f41-480d-4b26-9cfb-7ed8ff5d8237",
   "metadata": {},
   "outputs": [
    {
     "name": "stdout",
     "output_type": "stream",
     "text": [
      "+---+---------+-------+-----------------+---------+-----+--------------------+\n",
      "| Id|    First|   Last|              Url|Published| Hits|           Campaigns|\n",
      "+---+---------+-------+-----------------+---------+-----+--------------------+\n",
      "|  1|    Jules|  Damji|https://tinyurl.1| 1/4/2016| 4535| [twitter, LinkedIn]|\n",
      "|  2|   Brooke|  Wenig|https://tinyurl.2| 5/5/2018| 8908| [twitter, LinkedIn]|\n",
      "|  3|    Denny|    Lee|https://tinyurl.3| 6/7/2019| 7659|[web, twitter, FB...|\n",
      "|  4|Tathagata|    Das|https://tinyurl.4|5/12/2018|10568|       [twitter, FB]|\n",
      "|  5|    Matei|Zaharia|https://tinyurl.5|5/14/2014|40578|[web, twitter, FB...|\n",
      "|  6|  Reynold|    Xin|https://tinyurl.6| 3/2/2015|25568| [twitter, LinkedIn]|\n",
      "+---+---------+-------+-----------------+---------+-----+--------------------+\n",
      "\n",
      "root\n",
      " |-- Id: integer (nullable = true)\n",
      " |-- First: string (nullable = true)\n",
      " |-- Last: string (nullable = true)\n",
      " |-- Url: string (nullable = true)\n",
      " |-- Published: string (nullable = true)\n",
      " |-- Hits: integer (nullable = true)\n",
      " |-- Campaigns: array (nullable = true)\n",
      " |    |-- element: string (containsNull = true)\n",
      "\n",
      "None\n"
     ]
    }
   ],
   "source": [
    "spark = SparkSession.builder.appName(\"example_schema\").getOrCreate()\n",
    "\n",
    "blogs_df = spark.createDataFrame(data, schema)\n",
    "blogs_df.show()\n",
    "print(blogs_df.printSchema())"
   ]
  },
  {
   "cell_type": "code",
   "execution_count": 8,
   "id": "ec2d52d5-a489-41a2-8fe4-b2af0f9af80c",
   "metadata": {},
   "outputs": [
    {
     "data": {
      "text/plain": [
       "StructType([StructField('Id', IntegerType(), True), StructField('First', StringType(), True), StructField('Last', StringType(), True), StructField('Url', StringType(), True), StructField('Published', StringType(), True), StructField('Hits', IntegerType(), True), StructField('Campaigns', ArrayType(StringType(), True), True)])"
      ]
     },
     "execution_count": 8,
     "metadata": {},
     "output_type": "execute_result"
    }
   ],
   "source": [
    "blogs_df.schema"
   ]
  },
  {
   "cell_type": "code",
   "execution_count": 10,
   "id": "74293ecf-dbb8-4635-854d-d9dc99eebbb3",
   "metadata": {},
   "outputs": [],
   "source": [
    "schema = StructType([\n",
    "    StructField(name=\"id\", dataType=IntegerType(), nullable=True),\n",
    "    StructField(\"nome\", StringType(), True),\n",
    "    StructField(\"email\", StringType(), True),\n",
    "    StructField(\"genero\", StringType(), True),\n",
    "    StructField(\"cidade\", StringType(), True),\n",
    "    StructField(\"pais\", StringType(), True),\n",
    "    StructField(\"empresa\", StringType(), True),\n",
    "    StructField(\"salario\", DecimalType(), True),\n",
    "])"
   ]
  },
  {
   "cell_type": "markdown",
   "id": "27371d82-e6f3-4165-856f-31cb46af7e6e",
   "metadata": {
    "scrolled": true
   },
   "source": [
    "DATASET_PATH = './funcionarios.json'\n",
    "employee_df = spark.read.json(DATASET_PATH)\n",
    "employee_df.show(5)"
   ]
  },
  {
   "cell_type": "markdown",
   "id": "35ad224d-9bbf-4886-b5c1-4a7f0230cec7",
   "metadata": {},
   "source": [
    "## Columns and expressions"
   ]
  },
  {
   "cell_type": "code",
   "execution_count": 33,
   "id": "52ef0021-0a1d-4450-a7b2-58c932b1834d",
   "metadata": {},
   "outputs": [],
   "source": [
    "from pyspark.sql.functions import expr, col, concat, asc, desc"
   ]
  },
  {
   "cell_type": "code",
   "execution_count": 12,
   "id": "48754a2d-18f4-4605-b557-b37f888e77a9",
   "metadata": {},
   "outputs": [
    {
     "data": {
      "text/plain": [
       "['Id', 'First', 'Last', 'Url', 'Published', 'Hits', 'Campaigns']"
      ]
     },
     "execution_count": 12,
     "metadata": {},
     "output_type": "execute_result"
    }
   ],
   "source": [
    "blogs_df.columns"
   ]
  },
  {
   "cell_type": "code",
   "execution_count": 26,
   "id": "ae375e8e-b6e1-46af-9a1c-c0c3c90a3992",
   "metadata": {},
   "outputs": [
    {
     "data": {
      "text/plain": [
       "DataFrame[Id: int]"
      ]
     },
     "execution_count": 26,
     "metadata": {},
     "output_type": "execute_result"
    }
   ],
   "source": [
    "# Access a particular column with col and it returns a Column type\n",
    "blogs_df.select(col('Id'))"
   ]
  },
  {
   "cell_type": "code",
   "execution_count": 27,
   "id": "f86c21b2-2632-4ac1-8a82-31a7bfb86102",
   "metadata": {},
   "outputs": [
    {
     "name": "stdout",
     "output_type": "stream",
     "text": [
      "+----------+\n",
      "|(Hits * 2)|\n",
      "+----------+\n",
      "|      9070|\n",
      "|     17816|\n",
      "|     15318|\n",
      "|     21136|\n",
      "|     81156|\n",
      "+----------+\n"
     ]
    }
   ],
   "source": [
    "# Use an expression to compute a value\n",
    "blogs_df.select(expr('Hits * 2')).show(5)"
   ]
  },
  {
   "cell_type": "code",
   "execution_count": 28,
   "id": "e33dcc47-6339-4d05-9dc4-8321e1f57bf1",
   "metadata": {},
   "outputs": [
    {
     "name": "stdout",
     "output_type": "stream",
     "text": [
      "+----------+\n",
      "|(Hits * 2)|\n",
      "+----------+\n",
      "|      9070|\n",
      "|     17816|\n",
      "|     15318|\n",
      "|     21136|\n",
      "|     81156|\n",
      "+----------+\n"
     ]
    }
   ],
   "source": [
    "# Use col to compute value\n",
    "blogs_df.select(col('Hits')*2).show(5)"
   ]
  },
  {
   "cell_type": "code",
   "execution_count": 29,
   "id": "8087b049-21d9-493b-97ce-e749d50de5be",
   "metadata": {},
   "outputs": [
    {
     "name": "stdout",
     "output_type": "stream",
     "text": [
      "+---+---------+-------+-----------------+---------+-----+--------------------+-----------+\n",
      "| Id|    First|   Last|              Url|Published| Hits|           Campaigns|Big Hitters|\n",
      "+---+---------+-------+-----------------+---------+-----+--------------------+-----------+\n",
      "|  1|    Jules|  Damji|https://tinyurl.1| 1/4/2016| 4535| [twitter, LinkedIn]|      false|\n",
      "|  2|   Brooke|  Wenig|https://tinyurl.2| 5/5/2018| 8908| [twitter, LinkedIn]|      false|\n",
      "|  3|    Denny|    Lee|https://tinyurl.3| 6/7/2019| 7659|[web, twitter, FB...|      false|\n",
      "|  4|Tathagata|    Das|https://tinyurl.4|5/12/2018|10568|       [twitter, FB]|       true|\n",
      "|  5|    Matei|Zaharia|https://tinyurl.5|5/14/2014|40578|[web, twitter, FB...|       true|\n",
      "|  6|  Reynold|    Xin|https://tinyurl.6| 3/2/2015|25568| [twitter, LinkedIn]|       true|\n",
      "+---+---------+-------+-----------------+---------+-----+--------------------+-----------+\n"
     ]
    }
   ],
   "source": [
    "# Use an expression to compute big hitters for blogs\n",
    "# This adds a new column, Big Hitters, based on the conditional expression\n",
    "blogs_df.withColumn('Big Hitters', (expr('Hits > 10000'))).show()"
   ]
  },
  {
   "cell_type": "code",
   "execution_count": 37,
   "id": "b0527c1c-cde7-48b6-8e0f-ddeb88c07e23",
   "metadata": {},
   "outputs": [
    {
     "name": "stdout",
     "output_type": "stream",
     "text": [
      "+-------------+\n",
      "|    AuthorsId|\n",
      "+-------------+\n",
      "|  JulesDamji1|\n",
      "| BrookeWenig2|\n",
      "|    DennyLee3|\n",
      "|TathagataDas4|\n",
      "+-------------+\n"
     ]
    }
   ],
   "source": [
    "# Concatenate three columns, create a new column, and show the newly created concatenated column\n",
    "\n",
    "blogs_df.withColumn('AuthorsId', concat(expr('First'), expr('Last'), expr('Id'))).select(col('AuthorsId')).show(4)"
   ]
  },
  {
   "cell_type": "code",
   "execution_count": 39,
   "id": "1212fdb1-05bb-4f6c-b2ba-3f4967f4551e",
   "metadata": {},
   "outputs": [
    {
     "name": "stdout",
     "output_type": "stream",
     "text": [
      "+----+\n",
      "|Hits|\n",
      "+----+\n",
      "|4535|\n",
      "|8908|\n",
      "+----+\n"
     ]
    }
   ],
   "source": [
    "# The statements below return the same value, showing that expr is the same as a col method call\n",
    "blogs_df.select(expr('Hits')).show(2)"
   ]
  },
  {
   "cell_type": "code",
   "execution_count": 41,
   "id": "1d73587d-6bcf-4b90-a710-16adf2965275",
   "metadata": {},
   "outputs": [
    {
     "name": "stdout",
     "output_type": "stream",
     "text": [
      "+----+\n",
      "|Hits|\n",
      "+----+\n",
      "|4535|\n",
      "|8908|\n",
      "+----+\n"
     ]
    }
   ],
   "source": [
    "blogs_df.select(col('Hits')).show(2)"
   ]
  },
  {
   "cell_type": "code",
   "execution_count": 42,
   "id": "6d7a1f3c-c7ad-46cf-b69a-43fd1935506d",
   "metadata": {},
   "outputs": [
    {
     "name": "stdout",
     "output_type": "stream",
     "text": [
      "+----+\n",
      "|Hits|\n",
      "+----+\n",
      "|4535|\n",
      "|8908|\n",
      "+----+\n"
     ]
    }
   ],
   "source": [
    "blogs_df.select('Hits').show(2)"
   ]
  },
  {
   "cell_type": "code",
   "execution_count": 48,
   "id": "4dc986e0-94c7-46d8-baf2-7fa0d65460a4",
   "metadata": {},
   "outputs": [
    {
     "name": "stdout",
     "output_type": "stream",
     "text": [
      "+---+---------+-------+-----------------+---------+-----+--------------------+\n",
      "| Id|    First|   Last|              Url|Published| Hits|           Campaigns|\n",
      "+---+---------+-------+-----------------+---------+-----+--------------------+\n",
      "|  6|  Reynold|    Xin|https://tinyurl.6| 3/2/2015|25568| [twitter, LinkedIn]|\n",
      "|  5|    Matei|Zaharia|https://tinyurl.5|5/14/2014|40578|[web, twitter, FB...|\n",
      "|  4|Tathagata|    Das|https://tinyurl.4|5/12/2018|10568|       [twitter, FB]|\n",
      "|  3|    Denny|    Lee|https://tinyurl.3| 6/7/2019| 7659|[web, twitter, FB...|\n",
      "|  2|   Brooke|  Wenig|https://tinyurl.2| 5/5/2018| 8908| [twitter, LinkedIn]|\n",
      "|  1|    Jules|  Damji|https://tinyurl.1| 1/4/2016| 4535| [twitter, LinkedIn]|\n",
      "+---+---------+-------+-----------------+---------+-----+--------------------+\n"
     ]
    }
   ],
   "source": [
    "# Sorting\n",
    "blogs_df.sort(blogs_df.Id.desc()).show()"
   ]
  },
  {
   "cell_type": "code",
   "execution_count": 49,
   "id": "14a7a954-b5fc-4220-8047-0921684a015b",
   "metadata": {},
   "outputs": [
    {
     "name": "stdout",
     "output_type": "stream",
     "text": [
      "+---+---------+-------+-----------------+---------+-----+--------------------+\n",
      "| Id|    First|   Last|              Url|Published| Hits|           Campaigns|\n",
      "+---+---------+-------+-----------------+---------+-----+--------------------+\n",
      "|  6|  Reynold|    Xin|https://tinyurl.6| 3/2/2015|25568| [twitter, LinkedIn]|\n",
      "|  5|    Matei|Zaharia|https://tinyurl.5|5/14/2014|40578|[web, twitter, FB...|\n",
      "|  4|Tathagata|    Das|https://tinyurl.4|5/12/2018|10568|       [twitter, FB]|\n",
      "|  3|    Denny|    Lee|https://tinyurl.3| 6/7/2019| 7659|[web, twitter, FB...|\n",
      "|  2|   Brooke|  Wenig|https://tinyurl.2| 5/5/2018| 8908| [twitter, LinkedIn]|\n",
      "|  1|    Jules|  Damji|https://tinyurl.1| 1/4/2016| 4535| [twitter, LinkedIn]|\n",
      "+---+---------+-------+-----------------+---------+-----+--------------------+\n"
     ]
    }
   ],
   "source": [
    "blogs_df.orderBy(blogs_df.Id.desc()).show()"
   ]
  },
  {
   "cell_type": "code",
   "execution_count": 51,
   "id": "42e5852d-6361-4bb6-a204-1323d68e4855",
   "metadata": {},
   "outputs": [
    {
     "name": "stdout",
     "output_type": "stream",
     "text": [
      "+---+---------+-------+-----------------+---------+-----+--------------------+\n",
      "| Id|    First|   Last|              Url|Published| Hits|           Campaigns|\n",
      "+---+---------+-------+-----------------+---------+-----+--------------------+\n",
      "|  6|  Reynold|    Xin|https://tinyurl.6| 3/2/2015|25568| [twitter, LinkedIn]|\n",
      "|  5|    Matei|Zaharia|https://tinyurl.5|5/14/2014|40578|[web, twitter, FB...|\n",
      "|  4|Tathagata|    Das|https://tinyurl.4|5/12/2018|10568|       [twitter, FB]|\n",
      "|  3|    Denny|    Lee|https://tinyurl.3| 6/7/2019| 7659|[web, twitter, FB...|\n",
      "|  2|   Brooke|  Wenig|https://tinyurl.2| 5/5/2018| 8908| [twitter, LinkedIn]|\n",
      "|  1|    Jules|  Damji|https://tinyurl.1| 1/4/2016| 4535| [twitter, LinkedIn]|\n",
      "+---+---------+-------+-----------------+---------+-----+--------------------+\n"
     ]
    }
   ],
   "source": [
    "blogs_df.sort('Id', ascending=False).show()"
   ]
  },
  {
   "cell_type": "code",
   "execution_count": 53,
   "id": "228858b0-1a25-4aeb-b35e-be196c2b8d17",
   "metadata": {},
   "outputs": [
    {
     "name": "stdout",
     "output_type": "stream",
     "text": [
      "+---+---------+-------+-----------------+---------+-----+--------------------+\n",
      "| Id|    First|   Last|              Url|Published| Hits|           Campaigns|\n",
      "+---+---------+-------+-----------------+---------+-----+--------------------+\n",
      "|  6|  Reynold|    Xin|https://tinyurl.6| 3/2/2015|25568| [twitter, LinkedIn]|\n",
      "|  5|    Matei|Zaharia|https://tinyurl.5|5/14/2014|40578|[web, twitter, FB...|\n",
      "|  4|Tathagata|    Das|https://tinyurl.4|5/12/2018|10568|       [twitter, FB]|\n",
      "|  3|    Denny|    Lee|https://tinyurl.3| 6/7/2019| 7659|[web, twitter, FB...|\n",
      "|  2|   Brooke|  Wenig|https://tinyurl.2| 5/5/2018| 8908| [twitter, LinkedIn]|\n",
      "|  1|    Jules|  Damji|https://tinyurl.1| 1/4/2016| 4535| [twitter, LinkedIn]|\n",
      "+---+---------+-------+-----------------+---------+-----+--------------------+\n"
     ]
    }
   ],
   "source": [
    "blogs_df.sort(desc('Id')).show()"
   ]
  },
  {
   "cell_type": "markdown",
   "id": "af0f33fe-088f-40d4-8b8e-8bb73639d21c",
   "metadata": {},
   "source": [
    "## Rows"
   ]
  },
  {
   "cell_type": "code",
   "execution_count": 10,
   "id": "582f12d8-b63c-489c-b00c-ab2242c87736",
   "metadata": {},
   "outputs": [],
   "source": [
    "from pyspark.sql import Row"
   ]
  },
  {
   "cell_type": "code",
   "execution_count": 11,
   "id": "803f06dd-57db-4e1c-bf81-5fa084643a78",
   "metadata": {},
   "outputs": [],
   "source": [
    "blog_row = Row(6, 'Reynold', 'Xin', 'https://tinyurl.6', 255568, '3/2/2015', ['twitter', 'Linkedin'])"
   ]
  },
  {
   "cell_type": "code",
   "execution_count": 13,
   "id": "36b487a3-ec96-47b9-8ddd-6acda8fa768b",
   "metadata": {},
   "outputs": [
    {
     "data": {
      "text/plain": [
       "<Row(6, 'Reynold', 'Xin', 'https://tinyurl.6', 255568, '3/2/2015', ['twitter', 'Linkedin'])>"
      ]
     },
     "execution_count": 13,
     "metadata": {},
     "output_type": "execute_result"
    }
   ],
   "source": [
    "blog_row"
   ]
  },
  {
   "cell_type": "code",
   "execution_count": 14,
   "id": "07723ac1-31cb-4f55-90be-552052817eb0",
   "metadata": {},
   "outputs": [
    {
     "data": {
      "text/plain": [
       "'Reynold'"
      ]
     },
     "execution_count": 14,
     "metadata": {},
     "output_type": "execute_result"
    }
   ],
   "source": [
    "blog_row[1]"
   ]
  },
  {
   "cell_type": "code",
   "execution_count": 15,
   "id": "b773256a-03be-440b-887b-6797719d3d4f",
   "metadata": {},
   "outputs": [
    {
     "name": "stdout",
     "output_type": "stream",
     "text": [
      "+-------------+-----+\n",
      "|      Authors|State|\n",
      "+-------------+-----+\n",
      "|Matei Zaharia|   CA|\n",
      "|  Reynold Xin|   CA|\n",
      "+-------------+-----+\n"
     ]
    }
   ],
   "source": [
    "rows = [Row('Matei Zaharia', 'CA'), Row('Reynold Xin', 'CA')]\n",
    "authors_df = spark.createDataFrame(rows, ['Authors', 'State'])\n",
    "authors_df.show()"
   ]
  },
  {
   "cell_type": "markdown",
   "id": "8aab3d43-f7d1-4cf5-88d6-89cc4c823736",
   "metadata": {},
   "source": [
    "## Common DataFrame Operations"
   ]
  },
  {
   "cell_type": "code",
   "execution_count": 16,
   "id": "405bfe5c-b1d0-4804-bd90-f6383fd2f601",
   "metadata": {},
   "outputs": [],
   "source": [
    "from pyspark.sql.types import *"
   ]
  },
  {
   "cell_type": "code",
   "execution_count": 19,
   "id": "af91752e-ab54-4c15-ae96-409458660d23",
   "metadata": {},
   "outputs": [],
   "source": [
    "fire_schema = StructType([\n",
    "    StructField(name='CallNumber', dataType=StringType(), nullable=True),\n",
    "    StructField(name='UnitId', dataType=StringType(), nullable=True),\n",
    "    StructField('IncidentNumber', IntegerType(), True),\n",
    "    StructField('CallType', StringType(), True),\n",
    "    StructField('CallDate', StringType(), True),\n",
    "    StructField('WatchDate', StringType(), True),\n",
    "    StructField('CallFinalDisposition', StringType(), True),\n",
    "    StructField('AvailableDtTm', StringType(), True),\n",
    "    StructField('Address', StringType(), True),\n",
    "    StructField('City', StringType(), True),\n",
    "    StructField('Zipcode', IntegerType(), True),\n",
    "    StructField('Battalion', StringType(), True),\n",
    "    StructField('StationArea', StringType(), True),\n",
    "    StructField('Box', StringType(), True),\n",
    "    StructField('OriginalPriority', StringType(), True),\n",
    "    StructField('Priority', StringType(), True),\n",
    "    StructField('FinalPriority', IntegerType(), True),\n",
    "    StructField('ALSUnit', BooleanType(), True),\n",
    "    StructField('CallTypeGroup', StringType(), True),\n",
    "    StructField('NumAlarms', IntegerType(), True),\n",
    "    StructField('UnitType', StringType(), True),\n",
    "    StructField('UnitSequenceInCallDispatch', IntegerType(), True),\n",
    "    StructField('FirePreventionDistrict', StringType(), True),\n",
    "    StructField('SupervisorDistrict', StringType(), True),\n",
    "    StructField('Neighborhood', StringType(), True),\n",
    "    StructField('Location', StringType(), True),\n",
    "    StructField('RowID', StringType(), True),\n",
    "    StructField('Delay', FloatType(), True)\n",
    "])"
   ]
  },
  {
   "cell_type": "code",
   "execution_count": 25,
   "id": "21d53ee4-5ffe-469b-a1e3-b6d6b878379b",
   "metadata": {},
   "outputs": [],
   "source": [
    "dataset_path = './Fire_Incidents.csv'\n",
    "df_fire = spark.read.schema(fire_schema).csv(path=dataset_path, header=True)"
   ]
  },
  {
   "cell_type": "code",
   "execution_count": 26,
   "id": "bb7a8870-c649-4794-a889-b2afb14ea3df",
   "metadata": {},
   "outputs": [
    {
     "name": "stdout",
     "output_type": "stream",
     "text": [
      "+-----------+--------------+\n",
      "|StationArea|IncidentNumber|\n",
      "+-----------+--------------+\n",
      "|         11|      80283040|\n",
      "|         37|      80283030|\n",
      "|         01|      80283090|\n",
      "|         36|      80283140|\n",
      "|         14|      80283190|\n",
      "+-----------+--------------+\n"
     ]
    }
   ],
   "source": [
    "df_fire.select('StationArea', 'IncidentNumber').show(5)"
   ]
  },
  {
   "cell_type": "code",
   "execution_count": 29,
   "id": "f0272148-6e43-4d9e-a55d-cac91737871b",
   "metadata": {},
   "outputs": [],
   "source": [
    "parquet_file_path = './parquet_format'\n",
    "df_fire.write.format('parquet').save(parquet_file_path)"
   ]
  },
  {
   "cell_type": "code",
   "execution_count": 30,
   "id": "82da0b17-810e-4893-8c09-97342266f8e4",
   "metadata": {},
   "outputs": [],
   "source": [
    "table_name = 'table_format'\n",
    "df_fire.write.format('parquet').save(table_name)"
   ]
  },
  {
   "cell_type": "code",
   "execution_count": 34,
   "id": "698116cf-4f01-465b-a935-36b49811cdb9",
   "metadata": {},
   "outputs": [
    {
     "name": "stdout",
     "output_type": "stream",
     "text": [
      "+--------------+-------------------+--------------------+\n",
      "|IncidentNumber|      AvailableDtTm|            CallType|\n",
      "+--------------+-------------------+--------------------+\n",
      "|      80283040|2008-04-01T18:15:19|       150 Elsie St.|\n",
      "|      80283030|2008-04-01T18:06:30|       85 Turner Tr.|\n",
      "|      80283090|2008-04-01T18:45:23|         175 6th St.|\n",
      "|      80283140|2008-04-01T19:08:39|       633 Hayes St.|\n",
      "|      80283190|2008-04-01T19:23:48|27th Av. / Cabril...|\n",
      "|      80283370|2008-04-01T20:31:41|    165 Belgrave Av.|\n",
      "|      80283290|2008-04-01T20:12:29|Grant Av. / Post St.|\n",
      "|      80283500|2008-04-01T21:18:32|Cortland Av. / An...|\n",
      "|      80283550|2008-04-01T22:00:33|2nd St. / Brannan...|\n",
      "|      80283520|2008-04-01T21:24:23|      300 Ortega St.|\n",
      "|      80283590|2008-04-01T22:37:29|         241 6th St.|\n",
      "|      80283710|2008-04-01T23:22:46|Mendell St. / New...|\n",
      "|      80281120|2008-04-01T00:28:41|      982 Market St.|\n",
      "|      80281140|2008-04-01T00:39:01|   1485 Bayshore Bl.|\n",
      "|      80281270|2008-04-01T01:55:37|University St. / ...|\n",
      "|      80281250|2008-04-01T01:14:26|   1 Sf Intl Airport|\n",
      "|      80281290|2008-04-01T02:04:37|        301 Main St.|\n",
      "|      80281370|2008-04-01T02:56:27|21st Av. / Balboa...|\n",
      "|      80281390|2008-04-01T03:25:16| 1225 Northpoint Dr.|\n",
      "|      80281550|2008-04-01T06:47:36|Geary Bl. / 48th Av.|\n",
      "+--------------+-------------------+--------------------+\n"
     ]
    }
   ],
   "source": [
    "df_fire = df_fire.select('IncidentNumber', 'AvailableDtTm', 'CallType').where(col('CallType') != 'Medical Incident')\n",
    "df_fire.show()"
   ]
  }
 ],
 "metadata": {
  "kernelspec": {
   "display_name": "Python 3 (ipykernel)",
   "language": "python",
   "name": "python3"
  },
  "language_info": {
   "codemirror_mode": {
    "name": "ipython",
    "version": 3
   },
   "file_extension": ".py",
   "mimetype": "text/x-python",
   "name": "python",
   "nbconvert_exporter": "python",
   "pygments_lexer": "ipython3",
   "version": "3.11.5"
  }
 },
 "nbformat": 4,
 "nbformat_minor": 5
}
